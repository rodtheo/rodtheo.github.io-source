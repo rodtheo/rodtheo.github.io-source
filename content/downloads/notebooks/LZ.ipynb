{
 "cells": [
  {
   "cell_type": "markdown",
   "metadata": {
    "colab_type": "text",
    "id": "Xd3393WRjhg6"
   },
   "source": [
    "# The Lempel-Ziv or Ziv-lempel, or, even LZ compression"
   ]
  },
  {
   "cell_type": "markdown",
   "metadata": {
    "colab_type": "text",
    "id": "94_6IntvDCT_"
   },
   "source": [
    "<!-- PELICAN_BEGIN_SUMMARY -->\n",
    "\n",
    "Between the years 1976 to 1978, Abraham Lempel and Jacob Ziv created a procedure, and several variants of it, aiming the compression of data. Its latter proposed variants turnout to be a very effective procedure to compress many data types, such as texts and images. The fact that no prior information about the data statistics were required in advance (constrain imposed by statistical compression methods) and the simplistic, but powerfull, algorithm were two facts contributing to the popularity of the LZ compression methods.\n",
    "\n",
    "Since it's creation, the LZ algorithms have been widely used but in many occasions there's a confusion between which algorithm correspond each variant. Furthermore, the increasing in the amount of data produced have pushed the initial LZ algorithms to be augumented with new data structures in order to become feasible for the analysis of big datasets. Specially for big texts, like human genome that has more than 3 billions ($10^9$) base pairs.\n",
    "\n",
    "In this post, I plan to cover the whys and whichs of the lempel-ziv algorithms called LZ76, LZ77 and LZ78. \n",
    "\n",
    "<!-- PELICAN_END_SUMMARY -->"
   ]
  },
  {
   "cell_type": "markdown",
   "metadata": {
    "colab_type": "text",
    "id": "8Gs9YEoAA1wQ"
   },
   "source": [
    "# LZ78\n",
    "\n",
    "The lempel-zip compression algorithm proposed in 1978, also called LZ78, processes a text $T[1,n]$ from left to right and cuts it into $z$ substrings, called _phrases_. Navarro, in Compact Data Structures book, defined the algorithm in plain english in a simple way:\n",
    "\n",
    "> \"As the text is parsed, each new phrase is extended as much as possible to the right as long as it matches **some previous phrase**, and then next the new character (the mismatched one) is also included.\"\n",
    "\n",
    "This whole process is called the parsing of $T$. A trie is a data structure that can be used to store the parsing results. Basically, a trie is a tree that holds every suffix of a word/text. To spell the suffix from a trie, we traverse it from the root to a leaf outputting the label in the edges found in the path. A trie is usefull in string matching because when comparing a word of size $m$ with a text of size $n$ in the \"brute force\" way we must perform $m*n$ comparisons, while with the aid of the trie the number of comparisons is the size of the word to be mathed ($m$). If you want to learn more about tries in the context of string matching watch the excelent lecture from Ben Langmead. In fact, I'll use his code as base to the LZ78 python implementation parser.\n",
    "\n",
    "Be aware that the trie used in LZ78 implementation will not hold every suffix but every node in it represents a phrase (except the root node). Thus, at the end it has $z$ nodes plus the root and each node has a number corresponding to its phrase. I'll put the python implementation of the LZ78 trie bellow based on Ben Langsmead lecture about suffix trie with minor modifications. (BTW his lectures are excelent and I truly recommend them). Then, after the codes we'll give a step by step example. But first, lets load some ipython magics to draw the tries on the notebook using [dot format](https://pt.wikipedia.org/wiki/DOT).\n",
    "\n",
    "\n"
   ]
  },
  {
   "cell_type": "code",
   "execution_count": 0,
   "metadata": {
    "colab": {},
    "colab_type": "code",
    "id": "q7XsMDAT62Rj"
   },
   "outputs": [],
   "source": [
    "! wget -q https://raw.github.com/cjdrake/ipython-magic/master/gvmagic.py"
   ]
  },
  {
   "cell_type": "code",
   "execution_count": 0,
   "metadata": {
    "colab": {},
    "colab_type": "code",
    "id": "3J35LVTc_-Ye"
   },
   "outputs": [],
   "source": [
    "%load_ext gvmagic"
   ]
  },
  {
   "cell_type": "code",
   "execution_count": 0,
   "metadata": {
    "colab": {},
    "colab_type": "code",
    "id": "3fIOVeprFiC5"
   },
   "outputs": [],
   "source": [
    "class LZ78Trie(object):\n",
    "  class Node(object):\n",
    "    def __init__(self, lab, idx):\n",
    "      self.lab = lab # label on path leading to this node\n",
    "      self.out = {}  # outgoing edges; maps characters to nodes\n",
    "      self.idx = idx\n",
    "  \n",
    "  def __init__(self, t):\n",
    "    t += '$'\n",
    "    self.root = self.Node(None, 0)\n",
    "    i = 0\n",
    "    j = 1\n",
    "    while i < len(t):\n",
    "      cur = self.root\n",
    "      for c in t[i:]:\n",
    "        if c not in cur.out:\n",
    "          cur.out[c] = self.Node(c,j)\n",
    "          i += 1\n",
    "          j += 1\n",
    "          break\n",
    "        cur = cur.out[c]\n",
    "        i += 1\n",
    "        \n",
    "\n",
    "  def followPath(object, s):\n",
    "    cur = self.root\n",
    "    for c in s:\n",
    "      if c not in cur.out:\n",
    "        return None\n",
    "      cur = cur.out[c]\n",
    "    return cur\n",
    "  \n",
    "  \n",
    "  def has_substring(self, s):\n",
    "    \"\"\" Return true if s appears as a substring of t \"\"\"\n",
    "    return self.follow_path(s) is not None\n",
    "  \n",
    "  def to_dot(self, drawend=True):\n",
    "      \"\"\" Return dot representation of trie to make a picture \"\"\"\n",
    "      lines = []\n",
    "      def _to_dot_helper(node, parid, drawend):\n",
    "          childid = parid\n",
    "          for c, child in node.out.items():\n",
    "#              print(c, child)\n",
    "              if child.lab != '$' or drawend:\n",
    "                lines.append('  %d -> %d [ label=\"%s\" ];' % \n",
    "                             (parid, childid+1, child.lab))\n",
    "                if child.idx is not None:\n",
    "                  lines.append('  {} [label=\"{}\"];'.format(childid+1, child.idx))\n",
    "              childid = _to_dot_helper(child, childid+1, drawend)\n",
    "          return childid\n",
    "      lines.append('digraph \"Suffix trie\" {')\n",
    "      lines.append('  node [shape=circle label=\"\"];')\n",
    "      lines.append('  0 [label=\"{}\"];'.format(self.root.idx))\n",
    "      _to_dot_helper(self.root, 0, drawend)\n",
    "      lines.append('}')\n",
    "      return '\\n'.join(lines) + '\\n'"
   ]
  },
  {
   "cell_type": "markdown",
   "metadata": {
    "colab_type": "text",
    "id": "ImxMLqJeFigB"
   },
   "source": [
    "\n",
    "We show the LZ78 trie example for the text $T=xabxaxa\\$$. The parsing begins scanning $T$ for every position $i$, proceeding as follows:\n",
    "\n",
    "- for $i=0$, there're no previous found phrase, so this is the first time we see the character $T[0]=x$. We append $(0,x)$ to the codded output $out$. Now $out=(0,x)$ and the trie has been augmented with the phrase $x$ with number 1."
   ]
  },
  {
   "cell_type": "code",
   "execution_count": 4,
   "metadata": {
    "colab": {
     "base_uri": "https://localhost:8080/",
     "height": 196
    },
    "colab_type": "code",
    "id": "zXLGgMxv_z1j",
    "outputId": "d3321d89-43c6-4dfb-e253-74e0a398dc53"
   },
   "outputs": [
    {
     "data": {
      "image/svg+xml": [
       "<?xml version=\"1.0\" encoding=\"UTF-8\" standalone=\"no\"?>\n",
       "<!DOCTYPE svg PUBLIC \"-//W3C//DTD SVG 1.1//EN\"\n",
       " \"http://www.w3.org/Graphics/SVG/1.1/DTD/svg11.dtd\">\n",
       "<!-- Generated by graphviz version 2.40.1 (20161225.0304)\n",
       " -->\n",
       "<!-- Title: Suffix trie Pages: 1 -->\n",
       "<svg width=\"44pt\" height=\"131pt\"\n",
       " viewBox=\"0.00 0.00 44.00 131.00\" xmlns=\"http://www.w3.org/2000/svg\" xmlns:xlink=\"http://www.w3.org/1999/xlink\">\n",
       "<g id=\"graph0\" class=\"graph\" transform=\"scale(1 1) rotate(0) translate(4 127)\">\n",
       "<title>Suffix trie</title>\n",
       "<polygon fill=\"#ffffff\" stroke=\"transparent\" points=\"-4,4 -4,-127 40,-127 40,4 -4,4\"/>\n",
       "<!-- 0 -->\n",
       "<g id=\"node1\" class=\"node\">\n",
       "<title>0</title>\n",
       "<ellipse fill=\"none\" stroke=\"#000000\" cx=\"18\" cy=\"-105\" rx=\"18\" ry=\"18\"/>\n",
       "<text text-anchor=\"middle\" x=\"18\" y=\"-101.3\" font-family=\"Times,serif\" font-size=\"14.00\" fill=\"#000000\">0</text>\n",
       "</g>\n",
       "<!-- 1 -->\n",
       "<g id=\"node2\" class=\"node\">\n",
       "<title>1</title>\n",
       "<ellipse fill=\"none\" stroke=\"#000000\" cx=\"18\" cy=\"-18\" rx=\"18\" ry=\"18\"/>\n",
       "<text text-anchor=\"middle\" x=\"18\" y=\"-14.3\" font-family=\"Times,serif\" font-size=\"14.00\" fill=\"#000000\">1</text>\n",
       "</g>\n",
       "<!-- 0&#45;&gt;1 -->\n",
       "<g id=\"edge1\" class=\"edge\">\n",
       "<title>0&#45;&gt;1</title>\n",
       "<path fill=\"none\" stroke=\"#000000\" d=\"M18,-86.9735C18,-75.1918 18,-59.5607 18,-46.1581\"/>\n",
       "<polygon fill=\"#000000\" stroke=\"#000000\" points=\"21.5001,-46.0033 18,-36.0034 14.5001,-46.0034 21.5001,-46.0033\"/>\n",
       "<text text-anchor=\"middle\" x=\"22\" y=\"-57.8\" font-family=\"Times,serif\" font-size=\"14.00\" fill=\"#000000\">x</text>\n",
       "</g>\n",
       "</g>\n",
       "</svg>\n"
      ]
     },
     "metadata": {
      "tags": []
     },
     "output_type": "display_data"
    }
   ],
   "source": [
    "%dotstr LZ78Trie(\"x\").to_dot(False)"
   ]
  },
  {
   "cell_type": "markdown",
   "metadata": {
    "colab_type": "text",
    "id": "UO7SxpHlBtQG"
   },
   "source": [
    "\n",
    "- next, for $i=1$, there's no longest prefix of $T[1,7]=abxaxa$ already seen. Therefore, $T[1]=a$ yields a new phrase numbered 2 and $out=(0,x)(0,a)$.\n",
    "\n",
    "\n"
   ]
  },
  {
   "cell_type": "code",
   "execution_count": 5,
   "metadata": {
    "colab": {
     "base_uri": "https://localhost:8080/",
     "height": 196
    },
    "colab_type": "code",
    "id": "OUlXhgTUCUBv",
    "outputId": "3ebb44ef-92bb-484e-9159-dd5fb85d57a6"
   },
   "outputs": [
    {
     "data": {
      "image/svg+xml": [
       "<?xml version=\"1.0\" encoding=\"UTF-8\" standalone=\"no\"?>\n",
       "<!DOCTYPE svg PUBLIC \"-//W3C//DTD SVG 1.1//EN\"\n",
       " \"http://www.w3.org/Graphics/SVG/1.1/DTD/svg11.dtd\">\n",
       "<!-- Generated by graphviz version 2.40.1 (20161225.0304)\n",
       " -->\n",
       "<!-- Title: Suffix trie Pages: 1 -->\n",
       "<svg width=\"98pt\" height=\"131pt\"\n",
       " viewBox=\"0.00 0.00 98.00 131.00\" xmlns=\"http://www.w3.org/2000/svg\" xmlns:xlink=\"http://www.w3.org/1999/xlink\">\n",
       "<g id=\"graph0\" class=\"graph\" transform=\"scale(1 1) rotate(0) translate(4 127)\">\n",
       "<title>Suffix trie</title>\n",
       "<polygon fill=\"#ffffff\" stroke=\"transparent\" points=\"-4,4 -4,-127 94,-127 94,4 -4,4\"/>\n",
       "<!-- 0 -->\n",
       "<g id=\"node1\" class=\"node\">\n",
       "<title>0</title>\n",
       "<ellipse fill=\"none\" stroke=\"#000000\" cx=\"45\" cy=\"-105\" rx=\"18\" ry=\"18\"/>\n",
       "<text text-anchor=\"middle\" x=\"45\" y=\"-101.3\" font-family=\"Times,serif\" font-size=\"14.00\" fill=\"#000000\">0</text>\n",
       "</g>\n",
       "<!-- 1 -->\n",
       "<g id=\"node2\" class=\"node\">\n",
       "<title>1</title>\n",
       "<ellipse fill=\"none\" stroke=\"#000000\" cx=\"18\" cy=\"-18\" rx=\"18\" ry=\"18\"/>\n",
       "<text text-anchor=\"middle\" x=\"18\" y=\"-14.3\" font-family=\"Times,serif\" font-size=\"14.00\" fill=\"#000000\">1</text>\n",
       "</g>\n",
       "<!-- 0&#45;&gt;1 -->\n",
       "<g id=\"edge1\" class=\"edge\">\n",
       "<title>0&#45;&gt;1</title>\n",
       "<path fill=\"none\" stroke=\"#000000\" d=\"M39.5361,-87.3943C35.7787,-75.287 30.7155,-58.972 26.4424,-45.2034\"/>\n",
       "<polygon fill=\"#000000\" stroke=\"#000000\" points=\"29.6704,-43.7959 23.3636,-35.2827 22.9849,-45.8707 29.6704,-43.7959\"/>\n",
       "<text text-anchor=\"middle\" x=\"38\" y=\"-57.8\" font-family=\"Times,serif\" font-size=\"14.00\" fill=\"#000000\">x</text>\n",
       "</g>\n",
       "<!-- 2 -->\n",
       "<g id=\"node3\" class=\"node\">\n",
       "<title>2</title>\n",
       "<ellipse fill=\"none\" stroke=\"#000000\" cx=\"72\" cy=\"-18\" rx=\"18\" ry=\"18\"/>\n",
       "<text text-anchor=\"middle\" x=\"72\" y=\"-14.3\" font-family=\"Times,serif\" font-size=\"14.00\" fill=\"#000000\">2</text>\n",
       "</g>\n",
       "<!-- 0&#45;&gt;2 -->\n",
       "<g id=\"edge2\" class=\"edge\">\n",
       "<title>0&#45;&gt;2</title>\n",
       "<path fill=\"none\" stroke=\"#000000\" d=\"M50.4639,-87.3943C54.2213,-75.287 59.2845,-58.972 63.5576,-45.2034\"/>\n",
       "<polygon fill=\"#000000\" stroke=\"#000000\" points=\"67.0151,-45.8707 66.6364,-35.2827 60.3296,-43.7959 67.0151,-45.8707\"/>\n",
       "<text text-anchor=\"middle\" x=\"63.5\" y=\"-57.8\" font-family=\"Times,serif\" font-size=\"14.00\" fill=\"#000000\">a</text>\n",
       "</g>\n",
       "</g>\n",
       "</svg>\n"
      ]
     },
     "metadata": {
      "tags": []
     },
     "output_type": "display_data"
    }
   ],
   "source": [
    "%dotstr LZ78Trie(\"xa\").to_dot(False)"
   ]
  },
  {
   "cell_type": "markdown",
   "metadata": {
    "colab_type": "text",
    "id": "XVyjEMVrChUZ"
   },
   "source": [
    "- next, for $i=2$, we have the same situation before but the new phrase is $b$ with number 3."
   ]
  },
  {
   "cell_type": "code",
   "execution_count": 6,
   "metadata": {
    "colab": {
     "base_uri": "https://localhost:8080/",
     "height": 196
    },
    "colab_type": "code",
    "id": "bSRR8qCACr2M",
    "outputId": "8c12d298-cccb-4dc0-ff35-bec289cf5488"
   },
   "outputs": [
    {
     "data": {
      "image/svg+xml": [
       "<?xml version=\"1.0\" encoding=\"UTF-8\" standalone=\"no\"?>\n",
       "<!DOCTYPE svg PUBLIC \"-//W3C//DTD SVG 1.1//EN\"\n",
       " \"http://www.w3.org/Graphics/SVG/1.1/DTD/svg11.dtd\">\n",
       "<!-- Generated by graphviz version 2.40.1 (20161225.0304)\n",
       " -->\n",
       "<!-- Title: Suffix trie Pages: 1 -->\n",
       "<svg width=\"152pt\" height=\"131pt\"\n",
       " viewBox=\"0.00 0.00 152.00 131.00\" xmlns=\"http://www.w3.org/2000/svg\" xmlns:xlink=\"http://www.w3.org/1999/xlink\">\n",
       "<g id=\"graph0\" class=\"graph\" transform=\"scale(1 1) rotate(0) translate(4 127)\">\n",
       "<title>Suffix trie</title>\n",
       "<polygon fill=\"#ffffff\" stroke=\"transparent\" points=\"-4,4 -4,-127 148,-127 148,4 -4,4\"/>\n",
       "<!-- 0 -->\n",
       "<g id=\"node1\" class=\"node\">\n",
       "<title>0</title>\n",
       "<ellipse fill=\"none\" stroke=\"#000000\" cx=\"72\" cy=\"-105\" rx=\"18\" ry=\"18\"/>\n",
       "<text text-anchor=\"middle\" x=\"72\" y=\"-101.3\" font-family=\"Times,serif\" font-size=\"14.00\" fill=\"#000000\">0</text>\n",
       "</g>\n",
       "<!-- 1 -->\n",
       "<g id=\"node2\" class=\"node\">\n",
       "<title>1</title>\n",
       "<ellipse fill=\"none\" stroke=\"#000000\" cx=\"18\" cy=\"-18\" rx=\"18\" ry=\"18\"/>\n",
       "<text text-anchor=\"middle\" x=\"18\" y=\"-14.3\" font-family=\"Times,serif\" font-size=\"14.00\" fill=\"#000000\">1</text>\n",
       "</g>\n",
       "<!-- 0&#45;&gt;1 -->\n",
       "<g id=\"edge1\" class=\"edge\">\n",
       "<title>0&#45;&gt;1</title>\n",
       "<path fill=\"none\" stroke=\"#000000\" d=\"M62.3459,-89.4461C54.2062,-76.3322 42.4192,-57.342 33.0429,-42.2358\"/>\n",
       "<polygon fill=\"#000000\" stroke=\"#000000\" points=\"35.818,-40.0698 27.5705,-33.4192 29.8705,-43.7614 35.818,-40.0698\"/>\n",
       "<text text-anchor=\"middle\" x=\"53\" y=\"-57.8\" font-family=\"Times,serif\" font-size=\"14.00\" fill=\"#000000\">x</text>\n",
       "</g>\n",
       "<!-- 2 -->\n",
       "<g id=\"node3\" class=\"node\">\n",
       "<title>2</title>\n",
       "<ellipse fill=\"none\" stroke=\"#000000\" cx=\"72\" cy=\"-18\" rx=\"18\" ry=\"18\"/>\n",
       "<text text-anchor=\"middle\" x=\"72\" y=\"-14.3\" font-family=\"Times,serif\" font-size=\"14.00\" fill=\"#000000\">2</text>\n",
       "</g>\n",
       "<!-- 0&#45;&gt;2 -->\n",
       "<g id=\"edge2\" class=\"edge\">\n",
       "<title>0&#45;&gt;2</title>\n",
       "<path fill=\"none\" stroke=\"#000000\" d=\"M72,-86.9735C72,-75.1918 72,-59.5607 72,-46.1581\"/>\n",
       "<polygon fill=\"#000000\" stroke=\"#000000\" points=\"75.5001,-46.0033 72,-36.0034 68.5001,-46.0034 75.5001,-46.0033\"/>\n",
       "<text text-anchor=\"middle\" x=\"75.5\" y=\"-57.8\" font-family=\"Times,serif\" font-size=\"14.00\" fill=\"#000000\">a</text>\n",
       "</g>\n",
       "<!-- 3 -->\n",
       "<g id=\"node4\" class=\"node\">\n",
       "<title>3</title>\n",
       "<ellipse fill=\"none\" stroke=\"#000000\" cx=\"126\" cy=\"-18\" rx=\"18\" ry=\"18\"/>\n",
       "<text text-anchor=\"middle\" x=\"126\" y=\"-14.3\" font-family=\"Times,serif\" font-size=\"14.00\" fill=\"#000000\">3</text>\n",
       "</g>\n",
       "<!-- 0&#45;&gt;3 -->\n",
       "<g id=\"edge3\" class=\"edge\">\n",
       "<title>0&#45;&gt;3</title>\n",
       "<path fill=\"none\" stroke=\"#000000\" d=\"M81.6541,-89.4461C89.7938,-76.3322 101.5808,-57.342 110.9571,-42.2358\"/>\n",
       "<polygon fill=\"#000000\" stroke=\"#000000\" points=\"114.1295,-43.7614 116.4295,-33.4192 108.182,-40.0698 114.1295,-43.7614\"/>\n",
       "<text text-anchor=\"middle\" x=\"106\" y=\"-57.8\" font-family=\"Times,serif\" font-size=\"14.00\" fill=\"#000000\">b</text>\n",
       "</g>\n",
       "</g>\n",
       "</svg>\n"
      ]
     },
     "metadata": {
      "tags": []
     },
     "output_type": "display_data"
    }
   ],
   "source": [
    "%dotstr LZ78Trie(\"xab\").to_dot(False)"
   ]
  },
  {
   "cell_type": "markdown",
   "metadata": {
    "colab_type": "text",
    "id": "rsYrOpSrCwuj"
   },
   "source": [
    "- next, for $i=3$, we have $T=𝑥𝑎𝑥𝑎\\$$ and if we walk from root to node number 1 we can see the already phrase $x$. Then, we can encode the prefix $xa$ as $(1,a)$ with the number corresponding to the previous phrase and the next character in the text. We create the node numbered 4 in trie to store the new phrase $xa$."
   ]
  },
  {
   "cell_type": "code",
   "execution_count": 7,
   "metadata": {
    "colab": {
     "base_uri": "https://localhost:8080/",
     "height": 312
    },
    "colab_type": "code",
    "id": "PVg3yo5YDZZh",
    "outputId": "bcdc6dcd-4138-4982-d24f-256ed259a2b3"
   },
   "outputs": [
    {
     "data": {
      "image/svg+xml": [
       "<?xml version=\"1.0\" encoding=\"UTF-8\" standalone=\"no\"?>\n",
       "<!DOCTYPE svg PUBLIC \"-//W3C//DTD SVG 1.1//EN\"\n",
       " \"http://www.w3.org/Graphics/SVG/1.1/DTD/svg11.dtd\">\n",
       "<!-- Generated by graphviz version 2.40.1 (20161225.0304)\n",
       " -->\n",
       "<!-- Title: Suffix trie Pages: 1 -->\n",
       "<svg width=\"152pt\" height=\"218pt\"\n",
       " viewBox=\"0.00 0.00 152.00 218.00\" xmlns=\"http://www.w3.org/2000/svg\" xmlns:xlink=\"http://www.w3.org/1999/xlink\">\n",
       "<g id=\"graph0\" class=\"graph\" transform=\"scale(1 1) rotate(0) translate(4 214)\">\n",
       "<title>Suffix trie</title>\n",
       "<polygon fill=\"#ffffff\" stroke=\"transparent\" points=\"-4,4 -4,-214 148,-214 148,4 -4,4\"/>\n",
       "<!-- 0 -->\n",
       "<g id=\"node1\" class=\"node\">\n",
       "<title>0</title>\n",
       "<ellipse fill=\"none\" stroke=\"#000000\" cx=\"72\" cy=\"-192\" rx=\"18\" ry=\"18\"/>\n",
       "<text text-anchor=\"middle\" x=\"72\" y=\"-188.3\" font-family=\"Times,serif\" font-size=\"14.00\" fill=\"#000000\">0</text>\n",
       "</g>\n",
       "<!-- 1 -->\n",
       "<g id=\"node2\" class=\"node\">\n",
       "<title>1</title>\n",
       "<ellipse fill=\"none\" stroke=\"#000000\" cx=\"18\" cy=\"-105\" rx=\"18\" ry=\"18\"/>\n",
       "<text text-anchor=\"middle\" x=\"18\" y=\"-101.3\" font-family=\"Times,serif\" font-size=\"14.00\" fill=\"#000000\">1</text>\n",
       "</g>\n",
       "<!-- 0&#45;&gt;1 -->\n",
       "<g id=\"edge1\" class=\"edge\">\n",
       "<title>0&#45;&gt;1</title>\n",
       "<path fill=\"none\" stroke=\"#000000\" d=\"M62.3459,-176.4461C54.2062,-163.3322 42.4192,-144.342 33.0429,-129.2358\"/>\n",
       "<polygon fill=\"#000000\" stroke=\"#000000\" points=\"35.818,-127.0698 27.5705,-120.4192 29.8705,-130.7614 35.818,-127.0698\"/>\n",
       "<text text-anchor=\"middle\" x=\"53\" y=\"-144.8\" font-family=\"Times,serif\" font-size=\"14.00\" fill=\"#000000\">x</text>\n",
       "</g>\n",
       "<!-- 3 -->\n",
       "<g id=\"node4\" class=\"node\">\n",
       "<title>3</title>\n",
       "<ellipse fill=\"none\" stroke=\"#000000\" cx=\"72\" cy=\"-105\" rx=\"18\" ry=\"18\"/>\n",
       "<text text-anchor=\"middle\" x=\"72\" y=\"-101.3\" font-family=\"Times,serif\" font-size=\"14.00\" fill=\"#000000\">2</text>\n",
       "</g>\n",
       "<!-- 0&#45;&gt;3 -->\n",
       "<g id=\"edge3\" class=\"edge\">\n",
       "<title>0&#45;&gt;3</title>\n",
       "<path fill=\"none\" stroke=\"#000000\" d=\"M72,-173.9735C72,-162.1918 72,-146.5607 72,-133.1581\"/>\n",
       "<polygon fill=\"#000000\" stroke=\"#000000\" points=\"75.5001,-133.0033 72,-123.0034 68.5001,-133.0034 75.5001,-133.0033\"/>\n",
       "<text text-anchor=\"middle\" x=\"75.5\" y=\"-144.8\" font-family=\"Times,serif\" font-size=\"14.00\" fill=\"#000000\">a</text>\n",
       "</g>\n",
       "<!-- 4 -->\n",
       "<g id=\"node5\" class=\"node\">\n",
       "<title>4</title>\n",
       "<ellipse fill=\"none\" stroke=\"#000000\" cx=\"126\" cy=\"-105\" rx=\"18\" ry=\"18\"/>\n",
       "<text text-anchor=\"middle\" x=\"126\" y=\"-101.3\" font-family=\"Times,serif\" font-size=\"14.00\" fill=\"#000000\">3</text>\n",
       "</g>\n",
       "<!-- 0&#45;&gt;4 -->\n",
       "<g id=\"edge4\" class=\"edge\">\n",
       "<title>0&#45;&gt;4</title>\n",
       "<path fill=\"none\" stroke=\"#000000\" d=\"M81.6541,-176.4461C89.7938,-163.3322 101.5808,-144.342 110.9571,-129.2358\"/>\n",
       "<polygon fill=\"#000000\" stroke=\"#000000\" points=\"114.1295,-130.7614 116.4295,-120.4192 108.182,-127.0698 114.1295,-130.7614\"/>\n",
       "<text text-anchor=\"middle\" x=\"106\" y=\"-144.8\" font-family=\"Times,serif\" font-size=\"14.00\" fill=\"#000000\">b</text>\n",
       "</g>\n",
       "<!-- 2 -->\n",
       "<g id=\"node3\" class=\"node\">\n",
       "<title>2</title>\n",
       "<ellipse fill=\"none\" stroke=\"#000000\" cx=\"18\" cy=\"-18\" rx=\"18\" ry=\"18\"/>\n",
       "<text text-anchor=\"middle\" x=\"18\" y=\"-14.3\" font-family=\"Times,serif\" font-size=\"14.00\" fill=\"#000000\">4</text>\n",
       "</g>\n",
       "<!-- 1&#45;&gt;2 -->\n",
       "<g id=\"edge2\" class=\"edge\">\n",
       "<title>1&#45;&gt;2</title>\n",
       "<path fill=\"none\" stroke=\"#000000\" d=\"M18,-86.9735C18,-75.1918 18,-59.5607 18,-46.1581\"/>\n",
       "<polygon fill=\"#000000\" stroke=\"#000000\" points=\"21.5001,-46.0033 18,-36.0034 14.5001,-46.0034 21.5001,-46.0033\"/>\n",
       "<text text-anchor=\"middle\" x=\"21.5\" y=\"-57.8\" font-family=\"Times,serif\" font-size=\"14.00\" fill=\"#000000\">a</text>\n",
       "</g>\n",
       "</g>\n",
       "</svg>\n"
      ]
     },
     "metadata": {
      "tags": []
     },
     "output_type": "display_data"
    }
   ],
   "source": [
    "%dotstr LZ78Trie(\"xabxa\").to_dot(False)"
   ]
  },
  {
   "cell_type": "markdown",
   "metadata": {
    "colab_type": "text",
    "id": "H_UxHMtGDoOl"
   },
   "source": [
    "- next, we have $i=5$, because we skip 2 positions due the previous phrase $xa$. And, for $i=5$, we notice that $T[5,7]=xa\\$$ meaning that the substring $xa$ was already seen in the set of phrases. Therefore, we encode it has $(4,\\$)$ and the algorithm ends."
   ]
  },
  {
   "cell_type": "code",
   "execution_count": 8,
   "metadata": {
    "colab": {
     "base_uri": "https://localhost:8080/",
     "height": 428
    },
    "colab_type": "code",
    "id": "BCmMO_6vET1F",
    "outputId": "dc73bbe3-59ef-49ae-adaa-14b56b6b1477"
   },
   "outputs": [
    {
     "data": {
      "image/svg+xml": [
       "<?xml version=\"1.0\" encoding=\"UTF-8\" standalone=\"no\"?>\n",
       "<!DOCTYPE svg PUBLIC \"-//W3C//DTD SVG 1.1//EN\"\n",
       " \"http://www.w3.org/Graphics/SVG/1.1/DTD/svg11.dtd\">\n",
       "<!-- Generated by graphviz version 2.40.1 (20161225.0304)\n",
       " -->\n",
       "<!-- Title: Suffix trie Pages: 1 -->\n",
       "<svg width=\"206pt\" height=\"305pt\"\n",
       " viewBox=\"0.00 0.00 206.00 305.00\" xmlns=\"http://www.w3.org/2000/svg\" xmlns:xlink=\"http://www.w3.org/1999/xlink\">\n",
       "<g id=\"graph0\" class=\"graph\" transform=\"scale(1 1) rotate(0) translate(4 301)\">\n",
       "<title>Suffix trie</title>\n",
       "<polygon fill=\"#ffffff\" stroke=\"transparent\" points=\"-4,4 -4,-301 202,-301 202,4 -4,4\"/>\n",
       "<!-- 0 -->\n",
       "<g id=\"node1\" class=\"node\">\n",
       "<title>0</title>\n",
       "<ellipse fill=\"none\" stroke=\"#000000\" cx=\"99\" cy=\"-279\" rx=\"18\" ry=\"18\"/>\n",
       "<text text-anchor=\"middle\" x=\"99\" y=\"-275.3\" font-family=\"Times,serif\" font-size=\"14.00\" fill=\"#000000\">0</text>\n",
       "</g>\n",
       "<!-- 1 -->\n",
       "<g id=\"node2\" class=\"node\">\n",
       "<title>1</title>\n",
       "<ellipse fill=\"none\" stroke=\"#000000\" cx=\"18\" cy=\"-192\" rx=\"18\" ry=\"18\"/>\n",
       "<text text-anchor=\"middle\" x=\"18\" y=\"-188.3\" font-family=\"Times,serif\" font-size=\"14.00\" fill=\"#000000\">1</text>\n",
       "</g>\n",
       "<!-- 0&#45;&gt;1 -->\n",
       "<g id=\"edge1\" class=\"edge\">\n",
       "<title>0&#45;&gt;1</title>\n",
       "<path fill=\"none\" stroke=\"#000000\" d=\"M86.6978,-265.7866C73.6144,-251.734 52.7369,-229.31 37.4276,-212.8667\"/>\n",
       "<polygon fill=\"#000000\" stroke=\"#000000\" points=\"39.7938,-210.2718 30.4179,-205.3378 34.6705,-215.0417 39.7938,-210.2718\"/>\n",
       "<text text-anchor=\"middle\" x=\"68\" y=\"-231.8\" font-family=\"Times,serif\" font-size=\"14.00\" fill=\"#000000\">x</text>\n",
       "</g>\n",
       "<!-- 4 -->\n",
       "<g id=\"node5\" class=\"node\">\n",
       "<title>4</title>\n",
       "<ellipse fill=\"none\" stroke=\"#000000\" cx=\"72\" cy=\"-192\" rx=\"18\" ry=\"18\"/>\n",
       "<text text-anchor=\"middle\" x=\"72\" y=\"-188.3\" font-family=\"Times,serif\" font-size=\"14.00\" fill=\"#000000\">2</text>\n",
       "</g>\n",
       "<!-- 0&#45;&gt;4 -->\n",
       "<g id=\"edge4\" class=\"edge\">\n",
       "<title>0&#45;&gt;4</title>\n",
       "<path fill=\"none\" stroke=\"#000000\" d=\"M93.5361,-261.3943C89.7787,-249.287 84.7155,-232.972 80.4424,-219.2034\"/>\n",
       "<polygon fill=\"#000000\" stroke=\"#000000\" points=\"83.6704,-217.7959 77.3636,-209.2827 76.9849,-219.8707 83.6704,-217.7959\"/>\n",
       "<text text-anchor=\"middle\" x=\"91.5\" y=\"-231.8\" font-family=\"Times,serif\" font-size=\"14.00\" fill=\"#000000\">a</text>\n",
       "</g>\n",
       "<!-- 5 -->\n",
       "<g id=\"node6\" class=\"node\">\n",
       "<title>5</title>\n",
       "<ellipse fill=\"none\" stroke=\"#000000\" cx=\"126\" cy=\"-192\" rx=\"18\" ry=\"18\"/>\n",
       "<text text-anchor=\"middle\" x=\"126\" y=\"-188.3\" font-family=\"Times,serif\" font-size=\"14.00\" fill=\"#000000\">3</text>\n",
       "</g>\n",
       "<!-- 0&#45;&gt;5 -->\n",
       "<g id=\"edge5\" class=\"edge\">\n",
       "<title>0&#45;&gt;5</title>\n",
       "<path fill=\"none\" stroke=\"#000000\" d=\"M104.4639,-261.3943C108.2213,-249.287 113.2845,-232.972 117.5576,-219.2034\"/>\n",
       "<polygon fill=\"#000000\" stroke=\"#000000\" points=\"121.0151,-219.8707 120.6364,-209.2827 114.3296,-217.7959 121.0151,-219.8707\"/>\n",
       "<text text-anchor=\"middle\" x=\"118\" y=\"-231.8\" font-family=\"Times,serif\" font-size=\"14.00\" fill=\"#000000\">b</text>\n",
       "</g>\n",
       "<!-- 6 -->\n",
       "<g id=\"node7\" class=\"node\">\n",
       "<title>6</title>\n",
       "<ellipse fill=\"none\" stroke=\"#000000\" cx=\"180\" cy=\"-192\" rx=\"18\" ry=\"18\"/>\n",
       "<text text-anchor=\"middle\" x=\"180\" y=\"-188.3\" font-family=\"Times,serif\" font-size=\"14.00\" fill=\"#000000\">6</text>\n",
       "</g>\n",
       "<!-- 0&#45;&gt;6 -->\n",
       "<g id=\"edge6\" class=\"edge\">\n",
       "<title>0&#45;&gt;6</title>\n",
       "<path fill=\"none\" stroke=\"#000000\" d=\"M111.3022,-265.7866C124.3856,-251.734 145.2631,-229.31 160.5724,-212.8667\"/>\n",
       "<polygon fill=\"#000000\" stroke=\"#000000\" points=\"163.3295,-215.0417 167.5821,-205.3378 158.2062,-210.2718 163.3295,-215.0417\"/>\n",
       "<text text-anchor=\"middle\" x=\"148\" y=\"-231.8\" font-family=\"Times,serif\" font-size=\"14.00\" fill=\"#000000\">$</text>\n",
       "</g>\n",
       "<!-- 2 -->\n",
       "<g id=\"node3\" class=\"node\">\n",
       "<title>2</title>\n",
       "<ellipse fill=\"none\" stroke=\"#000000\" cx=\"18\" cy=\"-105\" rx=\"18\" ry=\"18\"/>\n",
       "<text text-anchor=\"middle\" x=\"18\" y=\"-101.3\" font-family=\"Times,serif\" font-size=\"14.00\" fill=\"#000000\">4</text>\n",
       "</g>\n",
       "<!-- 1&#45;&gt;2 -->\n",
       "<g id=\"edge2\" class=\"edge\">\n",
       "<title>1&#45;&gt;2</title>\n",
       "<path fill=\"none\" stroke=\"#000000\" d=\"M18,-173.9735C18,-162.1918 18,-146.5607 18,-133.1581\"/>\n",
       "<polygon fill=\"#000000\" stroke=\"#000000\" points=\"21.5001,-133.0033 18,-123.0034 14.5001,-133.0034 21.5001,-133.0033\"/>\n",
       "<text text-anchor=\"middle\" x=\"21.5\" y=\"-144.8\" font-family=\"Times,serif\" font-size=\"14.00\" fill=\"#000000\">a</text>\n",
       "</g>\n",
       "<!-- 3 -->\n",
       "<g id=\"node4\" class=\"node\">\n",
       "<title>3</title>\n",
       "<ellipse fill=\"none\" stroke=\"#000000\" cx=\"18\" cy=\"-18\" rx=\"18\" ry=\"18\"/>\n",
       "<text text-anchor=\"middle\" x=\"18\" y=\"-14.3\" font-family=\"Times,serif\" font-size=\"14.00\" fill=\"#000000\">5</text>\n",
       "</g>\n",
       "<!-- 2&#45;&gt;3 -->\n",
       "<g id=\"edge3\" class=\"edge\">\n",
       "<title>2&#45;&gt;3</title>\n",
       "<path fill=\"none\" stroke=\"#000000\" d=\"M18,-86.9735C18,-75.1918 18,-59.5607 18,-46.1581\"/>\n",
       "<polygon fill=\"#000000\" stroke=\"#000000\" points=\"21.5001,-46.0033 18,-36.0034 14.5001,-46.0034 21.5001,-46.0033\"/>\n",
       "<text text-anchor=\"middle\" x=\"22\" y=\"-57.8\" font-family=\"Times,serif\" font-size=\"14.00\" fill=\"#000000\">$</text>\n",
       "</g>\n",
       "</g>\n",
       "</svg>\n"
      ]
     },
     "metadata": {
      "tags": []
     },
     "output_type": "display_data"
    }
   ],
   "source": [
    "%dotstr LZ78Trie(\"xabxaxa$\").to_dot(True)"
   ]
  },
  {
   "cell_type": "markdown",
   "metadata": {
    "colab_type": "text",
    "id": "ggznR-1FEZ2r"
   },
   "source": [
    "The encoded string is $out=(0,x)(0,a)(0,b)(1,a)(4,\\$)$ which is bigger than the initial text $T$. But this behaviour is the oposite when the length of the text gets bigger and bigger. Note from our example that the LZ78 algorithm is not suitable to pinpoint repetions. Despite the substring $T[3,5]=xa$ have been seen in $T[0,2]$, the algorithm didn't spot it. The previous variant of lempel-ziv, called LZ76 and almost ever confused with $LZ77$ is best appopriate to this kind of situations, i.e. to compress repetitive texts."
   ]
  },
  {
   "cell_type": "markdown",
   "metadata": {
    "colab_type": "text",
    "id": "R_UGdJkVppdN"
   },
   "source": [
    "It cannot produce less than $\\sqrt{n}$ phrases, even in the text $T=a^n\\$$. Why ??"
   ]
  },
  {
   "cell_type": "markdown",
   "metadata": {
    "colab_type": "text",
    "id": "wydaf0ZgKMk9"
   },
   "source": [
    "## LZ76\n",
    "\n",
    "The Lempel-Ziv 1976 compression is similar to LZ78, in which the text is parsed into a sequence of phrases. While in LZ78 the next phrase to be find after parsing $T[1,i]$ must be a previous found phrase plus the symbol following it, in LZ76 the phrase is the longest prefix of $T[i,n]$ that has already appeared in the text plus the symbol following it.\n",
    "\n",
    "Often LZ76 is mistaken with LZ77, a variant that restricts the length $l$ of the sliding window $T[i-l,i]$ from where the phrases can be detected. This constraint simplifies the finding and enconding the phrases and has the drawback to restrict the search to \"nearby\" regions in the text.\n",
    "\n",
    "Let's borrow the mathematical notation used by Gusfield in the classic book _Algorithms on Strings, Trees and Sequences_ to define the output of LZ76 algorithm. According to it, let $Prior_{i}$ be the longest prefix the longest prefix of $T[i,n]$ that also occurs as a substring before the position $i$ in text $T$.\n",
    "\n",
    "Then, for any position $i$ in $T$, let $l_i$ be length of $Prior_{i}$ and $s_i$ the starting position of the left-most copy of $Prior_{i}$ in $T[0, i-1]$ (using python counting style which is 0-based, i.e. the first character in a string is in 0-th position).\n",
    "\n",
    "For example, for $T=xabxaxa\\$$ the $ Prior_{3} $ is _xa_ leading to $l_{3}=2$ and $s_{3}=0$. The LZ76 algorithm encode it by the pair $(s_i, l_i)$, pointing to the previous ocurrence of a substring.\n",
    "\n",
    "The LZ76 phrases can be found in linear time with the help of a suffix tree (Rodeh et al, 1981), but this structure requires a lot of extra space, which hampers the parsing of large texts. \n",
    "\n",
    "### The suffix tree data structure\n",
    "\n",
    "The suffix tree (ST) it's nothing more than a compact trie. If we concatenate all the single child nodes into the same node we build a suffix tree from the trie. This is the most naive method to build a suffix tree, requires $O(m^2)$ time and $O(m^2)$ space. A more clever way to build a suffix tree using $O(m)$ space and $O(m^2)$ time was described by Gusfield in ASTS book, section 5.4. There're the Ukkonen's method to build an ST in linear time and space, but it's a detailed algorithm that I'll not cover here. If you wish more infos about Ukkonens method check this excelent [blogpost](https://marknelson.us/posts/1996/08/01/suffix-trees.html).\n",
    "\n",
    "We list the Naive methods to build a suffix tree:\n",
    "\n",
    "1. Build the ST from the suffix trie data structure. This method takes $O(m^2)$ time and $O(m^2)$ space.\n",
    "\n",
    "2. Recursively augment the tree starting from a two-edge tree representing the longest suffix. Then, insert the 2nd longest suffix. Then, the 3rd longest suffix. And so on. It takes $O(m)$ space but still $O(m^2)$ time (Gusfield, section 5.4).\n",
    "\n",
    "The suffix tree implemented on this post was borrowed from [Ben Langmead teaching materials](http://www.langmead-lab.org/teaching-materials/) and follows the Gusfield algorithm presented in section 5.4. I slightly modified the implementation to accomodate the $m$ suffix numbers in the nodes, where $m$ is the number of suffixes from text $T$. This number will be important in the implementation of the LZ76 parser using suffix trees.\n"
   ]
  },
  {
   "cell_type": "code",
   "execution_count": 0,
   "metadata": {
    "colab": {},
    "colab_type": "code",
    "id": "J6kYRUd6KL2j"
   },
   "outputs": [],
   "source": [
    "class SuffixTree(object):\n",
    "  class Node(object):\n",
    "    def __init__(self, lab, idx):\n",
    "      self.lab = lab # label on path leading to this node\n",
    "      self.out = {}  # outgoing edges; maps characters to nodes\n",
    "      self.idx = idx\n",
    "      \n",
    "  def __init__(self, s):\n",
    "    s += '$'\n",
    "    self.root = self.Node(None, None)\n",
    "    self.root.out[s[0]] = self.Node(s, 0) # trie for just longest suffix\n",
    "    # add the rest of the suffixes, from longest to shortest\n",
    "    for i in range(1, len(s)):\n",
    "      # start at root; we'll walking down as far as we can go\n",
    "      cur = self.root\n",
    "      j = i\n",
    "      while j < len(s):\n",
    "        if s[j] in cur.out:\n",
    "          child = cur.out[s[j]]\n",
    "          lab = child.lab\n",
    "          # walk along edge until we exhaust edge label or until we mismatch\n",
    "          k = j+1\n",
    "          while k-j < len(lab) and s[k] == lab[k-j]:\n",
    "            k += 1\n",
    "          if k-j == len(lab):\n",
    "            cur = child # we exhausted the edge\n",
    "            j = k\n",
    "          else:\n",
    "            # we fell off in middle of edge\n",
    "            cExist, cNew = lab[k-j], s[k]\n",
    "            # create \"mid\": new node bisecting edge\n",
    "            mid = self.Node(lab[:k-j], None)\n",
    "            mid.out[cNew] = self.Node(s[k:], i)\n",
    "            # original child becomes mid's child\n",
    "            mid.out[cExist] = child\n",
    "            # original child's label is curtailed\n",
    "            child.lab = lab[k-j:]\n",
    "            # mid becomes new child of original parent\n",
    "            cur.out[s[j]] = mid\n",
    "        else:\n",
    "          # Fell off tree at a node: make new edge hanging off it\n",
    "          cur.out[s[j]] = self.Node(s[j:],i)\n",
    "\n",
    "  def followPath(self, s):\n",
    "    \"\"\" Follow path given by s.  If we fall off tree, return None.  If we\n",
    "        finish mid-edge, return (node, offset) where 'node' is child and\n",
    "        'offset' is label offset.  If we finish on a node, return (node,\n",
    "        None). \"\"\"\n",
    "    cur = self.root\n",
    "    i = 0\n",
    "    while i < len(s):\n",
    "        c = s[i]\n",
    "        if c not in cur.out:\n",
    "            return (None, None) # fell off at a node\n",
    "        child = cur.out[s[i]]\n",
    "        lab = child.lab\n",
    "        j = i+1\n",
    "        while j-i < len(lab) and j < len(s) and s[j] == lab[j-i]:\n",
    "            j += 1\n",
    "        if j-i == len(lab):\n",
    "            cur = child # exhausted edge\n",
    "            i = j\n",
    "        elif j == len(s):\n",
    "            return (child, j-i) # exhausted query string in middle of edge\n",
    "        else:\n",
    "            return (None, None) # fell off in the middle of the edge\n",
    "    return (cur, None) # exhausted query string at internal node\n",
    "\n",
    "  def hasSubstring(self, s):\n",
    "      \"\"\" Return true iff s appears as a substring \"\"\"\n",
    "      node, off = self.followPath(s)\n",
    "      return node is not None\n",
    "\n",
    "  def hasSuffix(self, s):\n",
    "      \"\"\" Return true iff s is a suffix \"\"\"\n",
    "      node, off = self.followPath(s)\n",
    "      if node is None:\n",
    "          return False # fell off the tree\n",
    "      if off is None:\n",
    "          # finished on top of a node\n",
    "          return '$' in node.out\n",
    "      else:\n",
    "          # finished at offset 'off' within an edge leading to 'node'\n",
    "          return node.lab[off] == '$'\n",
    "\n",
    "  def _iterate_over_nodes(self):\n",
    "    def _to_iter(node):\n",
    "        for c, child in node.out.items():\n",
    "          print(\"Node lab={}, id={}\".format(child.lab, child.idx))\n",
    "          _to_iter(child)\n",
    "    _to_iter(self.root)\n",
    "  \n",
    "  def numerate_internal_nodes(self):\n",
    "    def preorder_traversal(root):\n",
    "      yield root\n",
    "      for c, child in root.out.items():\n",
    "        yield from preorder_traversal(child)\n",
    "    return preorder_traversal(self.root)\n",
    "    \n",
    "  def to_dot(self):\n",
    "      \"\"\" Return dot representation of trie to make a picture \"\"\"\n",
    "      lines = []\n",
    "      def _to_dot_helper(node, parid):\n",
    "          childid = parid\n",
    "          for c, child in node.out.items():\n",
    "#              print(c, child)\n",
    "              lines.append('  %d -> %d [ label=\"%s\" ];' % \n",
    "                           (parid, childid+1, child.lab))\n",
    "              if child.idx is not None:\n",
    "                lines.append('  {} [label=\"{}\"];'.format(childid+1, child.idx))\n",
    "              childid = _to_dot_helper(child, childid+1)\n",
    "          return childid\n",
    "      lines.append('digraph \"Suffix trie\" {')\n",
    "      lines.append('  node [shape=circle label=\"\"];')\n",
    "      _to_dot_helper(self.root, 0)\n",
    "      lines.append('}')\n",
    "      return '\\n'.join(lines) + '\\n'"
   ]
  },
  {
   "cell_type": "markdown",
   "metadata": {
    "colab_type": "text",
    "id": "Lu4WNnvtFt8a"
   },
   "source": [
    "The example shown by Langsmead in his lecture about suffix trees is reproduced below, i.e. $T=abaaba$. The leaf nodes were labeled with the corresponding suffix number. Internal nodes dont have labels. \n",
    "\n",
    "Let`s begin listing all the suffix numbers of $T$ and it's corresponding suffixes."
   ]
  },
  {
   "cell_type": "code",
   "execution_count": 11,
   "metadata": {
    "colab": {
     "base_uri": "https://localhost:8080/",
     "height": 155
    },
    "colab_type": "code",
    "id": "pyacaeWdMuyl",
    "outputId": "fd6f2938-03de-4fb4-9225-9a4737996d9f"
   },
   "outputs": [
    {
     "name": "stdout",
     "output_type": "stream",
     "text": [
      "0 xabxaxa$\n",
      "1 abxaxa$\n",
      "2 bxaxa$\n",
      "3 xaxa$\n",
      "4 axa$\n",
      "5 xa$\n",
      "6 a$\n",
      "7 $\n"
     ]
    }
   ],
   "source": [
    "T = 'xabxaxa'\n",
    "t = T + '$'\n",
    "for i in range(len(t)):\n",
    "  print(i, t[i:])"
   ]
  },
  {
   "cell_type": "markdown",
   "metadata": {
    "colab_type": "text",
    "id": "FjWq0_XKNEMi"
   },
   "source": [
    "Then, we build and draw the suffix tree for $T$."
   ]
  },
  {
   "cell_type": "code",
   "execution_count": 0,
   "metadata": {
    "colab": {},
    "colab_type": "code",
    "id": "d4wYMCHL9wYT"
   },
   "outputs": [],
   "source": [
    "stree = SuffixTree(T)"
   ]
  },
  {
   "cell_type": "code",
   "execution_count": 13,
   "metadata": {
    "colab": {
     "base_uri": "https://localhost:8080/",
     "height": 312
    },
    "colab_type": "code",
    "id": "NiJcWF81-5YS",
    "outputId": "0e8004df-8a58-4f13-d161-b63d14d478fa"
   },
   "outputs": [
    {
     "data": {
      "image/svg+xml": [
       "<?xml version=\"1.0\" encoding=\"UTF-8\" standalone=\"no\"?>\n",
       "<!DOCTYPE svg PUBLIC \"-//W3C//DTD SVG 1.1//EN\"\n",
       " \"http://www.w3.org/Graphics/SVG/1.1/DTD/svg11.dtd\">\n",
       "<!-- Generated by graphviz version 2.40.1 (20161225.0304)\n",
       " -->\n",
       "<!-- Title: Suffix trie Pages: 1 -->\n",
       "<svg width=\"356pt\" height=\"218pt\"\n",
       " viewBox=\"0.00 0.00 356.00 218.00\" xmlns=\"http://www.w3.org/2000/svg\" xmlns:xlink=\"http://www.w3.org/1999/xlink\">\n",
       "<g id=\"graph0\" class=\"graph\" transform=\"scale(1 1) rotate(0) translate(4 214)\">\n",
       "<title>Suffix trie</title>\n",
       "<polygon fill=\"#ffffff\" stroke=\"transparent\" points=\"-4,4 -4,-214 352,-214 352,4 -4,4\"/>\n",
       "<!-- 0 -->\n",
       "<g id=\"node1\" class=\"node\">\n",
       "<title>0</title>\n",
       "<ellipse fill=\"none\" stroke=\"#000000\" cx=\"246\" cy=\"-192\" rx=\"18\" ry=\"18\"/>\n",
       "</g>\n",
       "<!-- 1 -->\n",
       "<g id=\"node2\" class=\"node\">\n",
       "<title>1</title>\n",
       "<ellipse fill=\"none\" stroke=\"#000000\" cx=\"105\" cy=\"-105\" rx=\"18\" ry=\"18\"/>\n",
       "</g>\n",
       "<!-- 0&#45;&gt;1 -->\n",
       "<g id=\"edge1\" class=\"edge\">\n",
       "<title>0&#45;&gt;1</title>\n",
       "<path fill=\"none\" stroke=\"#000000\" d=\"M230.6421,-182.5239C206.1682,-167.4229 158.1234,-137.7783 129.0558,-119.8429\"/>\n",
       "<polygon fill=\"#000000\" stroke=\"#000000\" points=\"130.6872,-116.7369 120.3389,-114.4645 127.0114,-122.6942 130.6872,-116.7369\"/>\n",
       "<text text-anchor=\"middle\" x=\"191\" y=\"-144.8\" font-family=\"Times,serif\" font-size=\"14.00\" fill=\"#000000\">xa</text>\n",
       "</g>\n",
       "<!-- 5 -->\n",
       "<g id=\"node6\" class=\"node\">\n",
       "<title>5</title>\n",
       "<ellipse fill=\"none\" stroke=\"#000000\" cx=\"216\" cy=\"-105\" rx=\"18\" ry=\"18\"/>\n",
       "</g>\n",
       "<!-- 0&#45;&gt;5 -->\n",
       "<g id=\"edge5\" class=\"edge\">\n",
       "<title>0&#45;&gt;5</title>\n",
       "<path fill=\"none\" stroke=\"#000000\" d=\"M240.073,-174.8116C235.8408,-162.5383 230.0651,-145.7887 225.2319,-131.7725\"/>\n",
       "<polygon fill=\"#000000\" stroke=\"#000000\" points=\"228.4835,-130.4654 221.9147,-122.1527 221.8659,-132.7474 228.4835,-130.4654\"/>\n",
       "<text text-anchor=\"middle\" x=\"235.5\" y=\"-144.8\" font-family=\"Times,serif\" font-size=\"14.00\" fill=\"#000000\">a</text>\n",
       "</g>\n",
       "<!-- 9 -->\n",
       "<g id=\"node10\" class=\"node\">\n",
       "<title>9</title>\n",
       "<ellipse fill=\"none\" stroke=\"#000000\" cx=\"270\" cy=\"-105\" rx=\"18\" ry=\"18\"/>\n",
       "<text text-anchor=\"middle\" x=\"270\" y=\"-101.3\" font-family=\"Times,serif\" font-size=\"14.00\" fill=\"#000000\">2</text>\n",
       "</g>\n",
       "<!-- 0&#45;&gt;9 -->\n",
       "<g id=\"edge9\" class=\"edge\">\n",
       "<title>0&#45;&gt;9</title>\n",
       "<path fill=\"none\" stroke=\"#000000\" d=\"M250.8568,-174.3943C254.1749,-162.3661 258.6386,-146.1851 262.4211,-132.4737\"/>\n",
       "<polygon fill=\"#000000\" stroke=\"#000000\" points=\"265.8651,-133.1503 265.1505,-122.5796 259.1171,-131.2887 265.8651,-133.1503\"/>\n",
       "<text text-anchor=\"middle\" x=\"280.5\" y=\"-144.8\" font-family=\"Times,serif\" font-size=\"14.00\" fill=\"#000000\">bxaxa$</text>\n",
       "</g>\n",
       "<!-- 10 -->\n",
       "<g id=\"node11\" class=\"node\">\n",
       "<title>10</title>\n",
       "<ellipse fill=\"none\" stroke=\"#000000\" cx=\"330\" cy=\"-105\" rx=\"18\" ry=\"18\"/>\n",
       "<text text-anchor=\"middle\" x=\"330\" y=\"-101.3\" font-family=\"Times,serif\" font-size=\"14.00\" fill=\"#000000\">7</text>\n",
       "</g>\n",
       "<!-- 0&#45;&gt;10 -->\n",
       "<g id=\"edge10\" class=\"edge\">\n",
       "<title>0&#45;&gt;10</title>\n",
       "<path fill=\"none\" stroke=\"#000000\" d=\"M262.8558,-185.1823C276.0178,-179.1498 294.0237,-169.2458 306,-156 312.2265,-149.1135 317.1342,-140.3266 320.8455,-131.9937\"/>\n",
       "<polygon fill=\"#000000\" stroke=\"#000000\" points=\"324.1556,-133.1441 324.6598,-122.5612 317.6661,-130.5198 324.1556,-133.1441\"/>\n",
       "<text text-anchor=\"middle\" x=\"319\" y=\"-144.8\" font-family=\"Times,serif\" font-size=\"14.00\" fill=\"#000000\">$</text>\n",
       "</g>\n",
       "<!-- 2 -->\n",
       "<g id=\"node3\" class=\"node\">\n",
       "<title>2</title>\n",
       "<ellipse fill=\"none\" stroke=\"#000000\" cx=\"18\" cy=\"-18\" rx=\"18\" ry=\"18\"/>\n",
       "<text text-anchor=\"middle\" x=\"18\" y=\"-14.3\" font-family=\"Times,serif\" font-size=\"14.00\" fill=\"#000000\">3</text>\n",
       "</g>\n",
       "<!-- 1&#45;&gt;2 -->\n",
       "<g id=\"edge2\" class=\"edge\">\n",
       "<title>1&#45;&gt;2</title>\n",
       "<path fill=\"none\" stroke=\"#000000\" d=\"M88.2463,-98.2643C74.9061,-92.2202 56.466,-82.2598 44,-69 37.3724,-61.9503 32.0253,-52.8863 27.9434,-44.3598\"/>\n",
       "<polygon fill=\"#000000\" stroke=\"#000000\" points=\"31.1001,-42.8434 23.8715,-35.0975 24.692,-45.6605 31.1001,-42.8434\"/>\n",
       "<text text-anchor=\"middle\" x=\"55\" y=\"-57.8\" font-family=\"Times,serif\" font-size=\"14.00\" fill=\"#000000\">xa$</text>\n",
       "</g>\n",
       "<!-- 3 -->\n",
       "<g id=\"node4\" class=\"node\">\n",
       "<title>3</title>\n",
       "<ellipse fill=\"none\" stroke=\"#000000\" cx=\"72\" cy=\"-18\" rx=\"18\" ry=\"18\"/>\n",
       "<text text-anchor=\"middle\" x=\"72\" y=\"-14.3\" font-family=\"Times,serif\" font-size=\"14.00\" fill=\"#000000\">0</text>\n",
       "</g>\n",
       "<!-- 1&#45;&gt;3 -->\n",
       "<g id=\"edge3\" class=\"edge\">\n",
       "<title>1&#45;&gt;3</title>\n",
       "<path fill=\"none\" stroke=\"#000000\" d=\"M90.9326,-93.5439C84.1608,-87.1213 76.7189,-78.4999 73,-69 70.2354,-61.9376 69.2085,-53.8929 69.0662,-46.3135\"/>\n",
       "<polygon fill=\"#000000\" stroke=\"#000000\" points=\"72.5722,-46.1569 69.365,-36.0592 65.5751,-45.953 72.5722,-46.1569\"/>\n",
       "<text text-anchor=\"middle\" x=\"94.5\" y=\"-57.8\" font-family=\"Times,serif\" font-size=\"14.00\" fill=\"#000000\">bxaxa$</text>\n",
       "</g>\n",
       "<!-- 4 -->\n",
       "<g id=\"node5\" class=\"node\">\n",
       "<title>4</title>\n",
       "<ellipse fill=\"none\" stroke=\"#000000\" cx=\"138\" cy=\"-18\" rx=\"18\" ry=\"18\"/>\n",
       "<text text-anchor=\"middle\" x=\"138\" y=\"-14.3\" font-family=\"Times,serif\" font-size=\"14.00\" fill=\"#000000\">5</text>\n",
       "</g>\n",
       "<!-- 1&#45;&gt;4 -->\n",
       "<g id=\"edge4\" class=\"edge\">\n",
       "<title>1&#45;&gt;4</title>\n",
       "<path fill=\"none\" stroke=\"#000000\" d=\"M111.5197,-87.8116C116.2054,-75.4586 122.611,-58.571 127.9483,-44.4998\"/>\n",
       "<polygon fill=\"#000000\" stroke=\"#000000\" points=\"131.332,-45.448 131.6061,-34.8567 124.787,-42.9653 131.332,-45.448\"/>\n",
       "<text text-anchor=\"middle\" x=\"128\" y=\"-57.8\" font-family=\"Times,serif\" font-size=\"14.00\" fill=\"#000000\">$</text>\n",
       "</g>\n",
       "<!-- 6 -->\n",
       "<g id=\"node7\" class=\"node\">\n",
       "<title>6</title>\n",
       "<ellipse fill=\"none\" stroke=\"#000000\" cx=\"192\" cy=\"-18\" rx=\"18\" ry=\"18\"/>\n",
       "<text text-anchor=\"middle\" x=\"192\" y=\"-14.3\" font-family=\"Times,serif\" font-size=\"14.00\" fill=\"#000000\">4</text>\n",
       "</g>\n",
       "<!-- 5&#45;&gt;6 -->\n",
       "<g id=\"edge6\" class=\"edge\">\n",
       "<title>5&#45;&gt;6</title>\n",
       "<path fill=\"none\" stroke=\"#000000\" d=\"M206.2936,-89.7948C202.7819,-83.58 199.1541,-76.1747 197,-69 194.8439,-61.8185 193.5655,-53.8379 192.8206,-46.3626\"/>\n",
       "<polygon fill=\"#000000\" stroke=\"#000000\" points=\"196.3027,-45.9875 192.0869,-36.2675 189.3211,-46.4949 196.3027,-45.9875\"/>\n",
       "<text text-anchor=\"middle\" x=\"208\" y=\"-57.8\" font-family=\"Times,serif\" font-size=\"14.00\" fill=\"#000000\">xa$</text>\n",
       "</g>\n",
       "<!-- 7 -->\n",
       "<g id=\"node8\" class=\"node\">\n",
       "<title>7</title>\n",
       "<ellipse fill=\"none\" stroke=\"#000000\" cx=\"246\" cy=\"-18\" rx=\"18\" ry=\"18\"/>\n",
       "<text text-anchor=\"middle\" x=\"246\" y=\"-14.3\" font-family=\"Times,serif\" font-size=\"14.00\" fill=\"#000000\">1</text>\n",
       "</g>\n",
       "<!-- 5&#45;&gt;7 -->\n",
       "<g id=\"edge7\" class=\"edge\">\n",
       "<title>5&#45;&gt;7</title>\n",
       "<path fill=\"none\" stroke=\"#000000\" d=\"M221.927,-87.8116C226.1592,-75.5383 231.9349,-58.7887 236.7681,-44.7725\"/>\n",
       "<polygon fill=\"#000000\" stroke=\"#000000\" points=\"240.1341,-45.7474 240.0853,-35.1527 233.5165,-43.4654 240.1341,-45.7474\"/>\n",
       "<text text-anchor=\"middle\" x=\"253.5\" y=\"-57.8\" font-family=\"Times,serif\" font-size=\"14.00\" fill=\"#000000\">bxaxa$</text>\n",
       "</g>\n",
       "<!-- 8 -->\n",
       "<g id=\"node9\" class=\"node\">\n",
       "<title>8</title>\n",
       "<ellipse fill=\"none\" stroke=\"#000000\" cx=\"307\" cy=\"-18\" rx=\"18\" ry=\"18\"/>\n",
       "<text text-anchor=\"middle\" x=\"307\" y=\"-14.3\" font-family=\"Times,serif\" font-size=\"14.00\" fill=\"#000000\">6</text>\n",
       "</g>\n",
       "<!-- 5&#45;&gt;8 -->\n",
       "<g id=\"edge8\" class=\"edge\">\n",
       "<title>5&#45;&gt;8</title>\n",
       "<path fill=\"none\" stroke=\"#000000\" d=\"M230.9265,-94.5709C234.7983,-91.9988 239.0045,-89.3187 243,-87 258.472,-78.0213 266.1101,-81.4037 279,-69 286.0861,-62.1812 291.8322,-53.1725 296.2326,-44.6258\"/>\n",
       "<polygon fill=\"#000000\" stroke=\"#000000\" points=\"299.5245,-45.8511 300.6287,-35.314 293.1945,-42.8627 299.5245,-45.8511\"/>\n",
       "<text text-anchor=\"middle\" x=\"294\" y=\"-57.8\" font-family=\"Times,serif\" font-size=\"14.00\" fill=\"#000000\">$</text>\n",
       "</g>\n",
       "</g>\n",
       "</svg>\n"
      ]
     },
     "metadata": {
      "tags": []
     },
     "output_type": "display_data"
    }
   ],
   "source": [
    "%dotstr stree.to_dot()"
   ]
  },
  {
   "cell_type": "markdown",
   "metadata": {
    "colab_type": "text",
    "id": "V-NaSdygGb7Z"
   },
   "source": [
    "Note that every path going from the root to a leaf node produce a suffix of $T$ with the suffix number in the leaf node.\n",
    "\n",
    "Now that we have a suffix tree implementation we can go back and implement the naive LZ76 parsing algorithm. "
   ]
  },
  {
   "cell_type": "markdown",
   "metadata": {
    "colab_type": "text",
    "id": "lupDGRoNGxDT"
   },
   "source": [
    "# Naive LZ76 parsing algorithm\n",
    "\n",
    "The algorithm relies on the suffix tree (ST) for string $T$ to find longest prefix of $T[i,n]$ already seen in $T[1,i-1]$.\n",
    "\n",
    "1. Build an ST for string $T$;\n",
    "\n",
    "2. Number each internal node $v$ with $c_v$, the smallest number of all the suffixes in $v$´s subtree; this way, $c_v$ is the left most position in $T$ of any copy of the substring on the path from root to node $v$;\n",
    "\n",
    "3. To obtain the encoding (position, length), i.e. the pair $(s_{i}, l_{i})$, for the substring $T[i, n]$, whith $0 \\leq i \\leq n$, do:\n",
    "\n",
    "  a. Follow the only path from the root that matches the prefix $T[i, n]$ keeping track of all $c_{v}$s found on the path;\n",
    "\n",
    "  b. The traversal stops at point $p$ which not necessarily is a node, when a character breaks the match;\n",
    "  \n",
    "  c. let v be the deepest internal node with the smallest $c_{v}$ found on the path to point $p$ and let depth(v) be the length of the string from the root to v; if we do not cross internal nodes then we output the character $T[i]$; do j <- i + 1. Else, do position $s_{i} = v$ and $l_{i} = depth(v)$;\n",
    "  \n",
    "  d. Output encoding $(s_{i}, l_{i})$ and do j <- i + $l_{i}$;\n",
    "  \n",
    "  e. Do i <- j + 1; if i = n stop; else goto 3.\n",
    "  "
   ]
  },
  {
   "cell_type": "code",
   "execution_count": 0,
   "metadata": {
    "colab": {},
    "colab_type": "code",
    "id": "AzhwHFg8GJpe"
   },
   "outputs": [],
   "source": [
    "from collections import defaultdict\n",
    "\n",
    "class SuffixTreeLZ76(SuffixTree):\n",
    "      \n",
    "  def __init__(self, s):\n",
    "    SuffixTree.__init__(self, s)\n",
    "\n",
    "  def followPath(self, s):\n",
    "    \"\"\" Follow path given by s.  If we fall off tree, return None.  If we\n",
    "        finish mid-edge, return (node, offset) where 'node' is child and\n",
    "        'offset' is label offset.  If we finish on a node, return (node,\n",
    "        None). \"\"\"\n",
    "    cur = self.root\n",
    "    i = 0\n",
    "    parent = None # the root not doesnt have parent node\n",
    "    cvs = []\n",
    "    path_labs = defaultdict(list)\n",
    "    while i < len(s):\n",
    "        c = s[i]\n",
    "        if c not in cur.out:\n",
    "            return (None, None) # fell off at a node\n",
    "        child = cur.out[s[i]]\n",
    "        lab = child.lab\n",
    "        idx = child.idx\n",
    "        cvs.append(idx)\n",
    "        path_labs[idx].append(lab)\n",
    "        j = i+1\n",
    "        while j-i < len(lab) and j < len(s) and s[j] == lab[j-i]:\n",
    "            j += 1\n",
    "        if j-i == len(lab):\n",
    "            parent = cur\n",
    "            cur = child # exhausted edge\n",
    "            i = j\n",
    "        elif j == len(s):\n",
    "            return (cur, j-i, path_labs) # exhausted query string in middle of edge\n",
    "        else:\n",
    "            return (None, None, path_labs) # fell off in the middle of the edge\n",
    "    return (parent, None, path_labs) # exhausted query string at internal node\n",
    "  \n",
    "  def LZ76encoder(self, t):\n",
    "    \"\"\" Perform the LZ76 parsing of T[1,n]. Outputs the phrases ($z$) of the\n",
    "     LZ76 parsing of T.\n",
    "    \"\"\"\n",
    "    i = 0\n",
    "    phrases = []\n",
    "    while i < len(t):\n",
    "      if i == 0:\n",
    "        phrases.append(t[0])\n",
    "        i+=1\n",
    "      else:  \n",
    "        right_substring = t[i:2*i]\n",
    "        node_end, offset, lcvs = self.followPath(right_substring)\n",
    "        #print(\"i=\",i, right_substring, node_end.idx, lcvs)\n",
    "        if len(lcvs) == 1 and list(lcvs.keys())[0] == i:\n",
    "   #       print(t[i])\n",
    "          phrases.append(t[i])\n",
    "          i += 1\n",
    "        else:\n",
    "          repi = ''.join(lcvs[min(lcvs)])\n",
    "          li = len(repi)\n",
    "          if li >= i:\n",
    "           # print(\"Here\")\n",
    "           # print(\"First\",i, repi, li)\n",
    "            offset = (li-i) + 1\n",
    "            if offset == 1:\n",
    "              repi = repi[0]\n",
    "            else:\n",
    "              repi = repi[:-offset]\n",
    "            li = len(repi)\n",
    "           # print(\"Second\",i, repi, li)\n",
    "          phrases.append((min(lcvs), li))\n",
    "          i += li\n",
    "    return phrases\n",
    "    \n",
    "  def LZ76decoder(self, phrases):\n",
    "    \"\"\" Decode a LZ78 codded string. Input is a LZ78 codded string. \"\"\"\n",
    "    T = ''\n",
    "    for z in phrases:\n",
    "      if type(z) == str:\n",
    "        T += z\n",
    "      elif type(z) == tuple:\n",
    "        si, li = z\n",
    "        T += T[si:si+li]\n",
    "    return T\n",
    "\n",
    "  \n",
    "  def _iterate_over_nodes(self):\n",
    "    \"\"\" Auxiliary function to traverse a tree \"\"\"\n",
    "    reverse_dict = {}\n",
    "    def _to_iter(node, reverse_dict):\n",
    "        for c, child in node.out.items():\n",
    "          reverse_dict[child] = node\n",
    "          print(\"Node lab={}, id={}\".format(child.lab, child.idx))\n",
    "          _to_iter(child, reverse_dict)\n",
    "    _to_iter(self.root, reverse_dict)\n",
    "    return reverse_dict\n",
    "  \n",
    "  def do_preorder(self):\n",
    "    \"\"\" Traverse the tree in preorder \"\"\"\n",
    "    def preorder_traversal(root):\n",
    "      yield root\n",
    "      for c, child in root.out.items():\n",
    "        yield from preorder_traversal(child)\n",
    "    return preorder_traversal(self.root)\n",
    "  \n",
    "  def do_posorder(self):\n",
    "    \"\"\" Traverse the tree in posorder \"\"\"\n",
    "    def posorder_traversal(root):\n",
    "      for c, child in root.out.items():\n",
    "        yield from posorder_traversal(child)\n",
    "      yield root\n",
    "    return posorder_traversal(self.root)\n",
    "\n",
    "  \n",
    "  def rec_dfs(self, root, S=None):\n",
    "    \"\"\" Function to traverse the tree in a depth-first search (DFS) manner \"\"\"\n",
    "    if S is None: S = set() # Initialize the history\n",
    "    S.add(root) # We've visited s\n",
    "#    print(root.lab, root.idx)\n",
    "    for c, u in root.out.items(): # Explore neighbors\n",
    "      if u in S: continue # Already visited: Skip\n",
    "      self.rec_dfs(u, S) # New: Explore recursively\n",
    "    return S\n",
    "    \n",
    "  def do_rec_dfs(self):\n",
    "    \"\"\" Apply recursive DFS \"\"\"\n",
    "    return self.rec_dfs(self.root)\n",
    "        \n",
    "  def enumerate_internal_nodes(self):\n",
    "    \"\"\" This function first applies posorder in ST yielding a sorted vector.\n",
    "    The sorted vector is a set of nodes where the childs come first than\n",
    "    their parents. For each internal node in sorted vector we perform a DFS with\n",
    "     the internal node beeing the root yielding the subtree. We get the minimum\n",
    "     number in the subtree of each internal node as the cv number.\n",
    "    Enumerate all internal nodes in ST \"\"\"\n",
    "    stree_pos = list(self.do_posorder())\n",
    "    for i in range(len(stree_pos)):\n",
    "      if stree_pos[i].idx is None:\n",
    "        stree_pos[i].idx = min([x.idx for x in self.rec_dfs(stree_pos[i]) if x.idx != None])\n",
    "    \n",
    "  def to_dot(self):\n",
    "      \"\"\" Return dot representation of trie to make a picture \"\"\"\n",
    "      lines = []\n",
    "      def _to_dot_helper(node, parid):\n",
    "          childid = parid\n",
    "          for c, child in node.out.items():\n",
    "#              print(c, child)\n",
    "              lines.append('  %d -> %d [ label=\"%s\" ];' % \n",
    "                           (parid, childid+1, child.lab))\n",
    "              if child.idx is not None:\n",
    "                lines.append('  {} [label=\"{}\"];'.format(childid+1, child.idx))\n",
    "              childid = _to_dot_helper(child, childid+1)\n",
    "          return childid\n",
    "      lines.append('digraph \"Suffix trie\" {')\n",
    "      lines.append('  node [shape=circle label=\"\"];')\n",
    "      lines.append('  0 [label=\"{}\"];'.format(self.root.idx))\n",
    "      _to_dot_helper(self.root, 0)\n",
    "      lines.append('}')\n",
    "      return '\\n'.join(lines) + '\\n'\n",
    "    "
   ]
  },
  {
   "cell_type": "code",
   "execution_count": 15,
   "metadata": {
    "colab": {
     "base_uri": "https://localhost:8080/",
     "height": 35
    },
    "colab_type": "code",
    "id": "ZQoXP5HEeeVm",
    "outputId": "a2041fdd-d82f-40de-c747-f9aeda194725"
   },
   "outputs": [
    {
     "data": {
      "text/plain": [
       "'xabxaxa'"
      ]
     },
     "execution_count": 15,
     "metadata": {
      "tags": []
     },
     "output_type": "execute_result"
    }
   ],
   "source": [
    "T"
   ]
  },
  {
   "cell_type": "code",
   "execution_count": 0,
   "metadata": {
    "colab": {},
    "colab_type": "code",
    "id": "EIGSz9IRb3DU"
   },
   "outputs": [],
   "source": [
    "stree = SuffixTreeLZ76(T)"
   ]
  },
  {
   "cell_type": "code",
   "execution_count": 0,
   "metadata": {
    "colab": {},
    "colab_type": "code",
    "id": "IScMByzCptp-"
   },
   "outputs": [],
   "source": [
    "#stree = SuffixTreeLZ76('abbacbba')\n",
    "#stree = SuffixTreeLZ76('abaaba')\n",
    "#stree = SuffixTreeLZ76('mississippi')"
   ]
  },
  {
   "cell_type": "code",
   "execution_count": 0,
   "metadata": {
    "colab": {},
    "colab_type": "code",
    "id": "cmAbNyMTmVND"
   },
   "outputs": [],
   "source": [
    "stree.enumerate_internal_nodes()"
   ]
  },
  {
   "cell_type": "code",
   "execution_count": 19,
   "metadata": {
    "colab": {
     "base_uri": "https://localhost:8080/",
     "height": 312
    },
    "colab_type": "code",
    "id": "DF_NSl-Qp0OB",
    "outputId": "d7ff4970-2d6d-45b5-bee7-2c194f3fb50e"
   },
   "outputs": [
    {
     "data": {
      "image/svg+xml": [
       "<?xml version=\"1.0\" encoding=\"UTF-8\" standalone=\"no\"?>\n",
       "<!DOCTYPE svg PUBLIC \"-//W3C//DTD SVG 1.1//EN\"\n",
       " \"http://www.w3.org/Graphics/SVG/1.1/DTD/svg11.dtd\">\n",
       "<!-- Generated by graphviz version 2.40.1 (20161225.0304)\n",
       " -->\n",
       "<!-- Title: Suffix trie Pages: 1 -->\n",
       "<svg width=\"356pt\" height=\"218pt\"\n",
       " viewBox=\"0.00 0.00 356.00 218.00\" xmlns=\"http://www.w3.org/2000/svg\" xmlns:xlink=\"http://www.w3.org/1999/xlink\">\n",
       "<g id=\"graph0\" class=\"graph\" transform=\"scale(1 1) rotate(0) translate(4 214)\">\n",
       "<title>Suffix trie</title>\n",
       "<polygon fill=\"#ffffff\" stroke=\"transparent\" points=\"-4,4 -4,-214 352,-214 352,4 -4,4\"/>\n",
       "<!-- 0 -->\n",
       "<g id=\"node1\" class=\"node\">\n",
       "<title>0</title>\n",
       "<ellipse fill=\"none\" stroke=\"#000000\" cx=\"246\" cy=\"-192\" rx=\"18\" ry=\"18\"/>\n",
       "<text text-anchor=\"middle\" x=\"246\" y=\"-188.3\" font-family=\"Times,serif\" font-size=\"14.00\" fill=\"#000000\">0</text>\n",
       "</g>\n",
       "<!-- 1 -->\n",
       "<g id=\"node2\" class=\"node\">\n",
       "<title>1</title>\n",
       "<ellipse fill=\"none\" stroke=\"#000000\" cx=\"105\" cy=\"-105\" rx=\"18\" ry=\"18\"/>\n",
       "<text text-anchor=\"middle\" x=\"105\" y=\"-101.3\" font-family=\"Times,serif\" font-size=\"14.00\" fill=\"#000000\">0</text>\n",
       "</g>\n",
       "<!-- 0&#45;&gt;1 -->\n",
       "<g id=\"edge1\" class=\"edge\">\n",
       "<title>0&#45;&gt;1</title>\n",
       "<path fill=\"none\" stroke=\"#000000\" d=\"M230.6421,-182.5239C206.1682,-167.4229 158.1234,-137.7783 129.0558,-119.8429\"/>\n",
       "<polygon fill=\"#000000\" stroke=\"#000000\" points=\"130.6872,-116.7369 120.3389,-114.4645 127.0114,-122.6942 130.6872,-116.7369\"/>\n",
       "<text text-anchor=\"middle\" x=\"191\" y=\"-144.8\" font-family=\"Times,serif\" font-size=\"14.00\" fill=\"#000000\">xa</text>\n",
       "</g>\n",
       "<!-- 5 -->\n",
       "<g id=\"node6\" class=\"node\">\n",
       "<title>5</title>\n",
       "<ellipse fill=\"none\" stroke=\"#000000\" cx=\"216\" cy=\"-105\" rx=\"18\" ry=\"18\"/>\n",
       "<text text-anchor=\"middle\" x=\"216\" y=\"-101.3\" font-family=\"Times,serif\" font-size=\"14.00\" fill=\"#000000\">1</text>\n",
       "</g>\n",
       "<!-- 0&#45;&gt;5 -->\n",
       "<g id=\"edge5\" class=\"edge\">\n",
       "<title>0&#45;&gt;5</title>\n",
       "<path fill=\"none\" stroke=\"#000000\" d=\"M240.073,-174.8116C235.8408,-162.5383 230.0651,-145.7887 225.2319,-131.7725\"/>\n",
       "<polygon fill=\"#000000\" stroke=\"#000000\" points=\"228.4835,-130.4654 221.9147,-122.1527 221.8659,-132.7474 228.4835,-130.4654\"/>\n",
       "<text text-anchor=\"middle\" x=\"235.5\" y=\"-144.8\" font-family=\"Times,serif\" font-size=\"14.00\" fill=\"#000000\">a</text>\n",
       "</g>\n",
       "<!-- 9 -->\n",
       "<g id=\"node10\" class=\"node\">\n",
       "<title>9</title>\n",
       "<ellipse fill=\"none\" stroke=\"#000000\" cx=\"270\" cy=\"-105\" rx=\"18\" ry=\"18\"/>\n",
       "<text text-anchor=\"middle\" x=\"270\" y=\"-101.3\" font-family=\"Times,serif\" font-size=\"14.00\" fill=\"#000000\">2</text>\n",
       "</g>\n",
       "<!-- 0&#45;&gt;9 -->\n",
       "<g id=\"edge9\" class=\"edge\">\n",
       "<title>0&#45;&gt;9</title>\n",
       "<path fill=\"none\" stroke=\"#000000\" d=\"M250.8568,-174.3943C254.1749,-162.3661 258.6386,-146.1851 262.4211,-132.4737\"/>\n",
       "<polygon fill=\"#000000\" stroke=\"#000000\" points=\"265.8651,-133.1503 265.1505,-122.5796 259.1171,-131.2887 265.8651,-133.1503\"/>\n",
       "<text text-anchor=\"middle\" x=\"280.5\" y=\"-144.8\" font-family=\"Times,serif\" font-size=\"14.00\" fill=\"#000000\">bxaxa$</text>\n",
       "</g>\n",
       "<!-- 10 -->\n",
       "<g id=\"node11\" class=\"node\">\n",
       "<title>10</title>\n",
       "<ellipse fill=\"none\" stroke=\"#000000\" cx=\"330\" cy=\"-105\" rx=\"18\" ry=\"18\"/>\n",
       "<text text-anchor=\"middle\" x=\"330\" y=\"-101.3\" font-family=\"Times,serif\" font-size=\"14.00\" fill=\"#000000\">7</text>\n",
       "</g>\n",
       "<!-- 0&#45;&gt;10 -->\n",
       "<g id=\"edge10\" class=\"edge\">\n",
       "<title>0&#45;&gt;10</title>\n",
       "<path fill=\"none\" stroke=\"#000000\" d=\"M262.8558,-185.1823C276.0178,-179.1498 294.0237,-169.2458 306,-156 312.2265,-149.1135 317.1342,-140.3266 320.8455,-131.9937\"/>\n",
       "<polygon fill=\"#000000\" stroke=\"#000000\" points=\"324.1556,-133.1441 324.6598,-122.5612 317.6661,-130.5198 324.1556,-133.1441\"/>\n",
       "<text text-anchor=\"middle\" x=\"319\" y=\"-144.8\" font-family=\"Times,serif\" font-size=\"14.00\" fill=\"#000000\">$</text>\n",
       "</g>\n",
       "<!-- 2 -->\n",
       "<g id=\"node3\" class=\"node\">\n",
       "<title>2</title>\n",
       "<ellipse fill=\"none\" stroke=\"#000000\" cx=\"18\" cy=\"-18\" rx=\"18\" ry=\"18\"/>\n",
       "<text text-anchor=\"middle\" x=\"18\" y=\"-14.3\" font-family=\"Times,serif\" font-size=\"14.00\" fill=\"#000000\">3</text>\n",
       "</g>\n",
       "<!-- 1&#45;&gt;2 -->\n",
       "<g id=\"edge2\" class=\"edge\">\n",
       "<title>1&#45;&gt;2</title>\n",
       "<path fill=\"none\" stroke=\"#000000\" d=\"M88.2463,-98.2643C74.9061,-92.2202 56.466,-82.2598 44,-69 37.3724,-61.9503 32.0253,-52.8863 27.9434,-44.3598\"/>\n",
       "<polygon fill=\"#000000\" stroke=\"#000000\" points=\"31.1001,-42.8434 23.8715,-35.0975 24.692,-45.6605 31.1001,-42.8434\"/>\n",
       "<text text-anchor=\"middle\" x=\"55\" y=\"-57.8\" font-family=\"Times,serif\" font-size=\"14.00\" fill=\"#000000\">xa$</text>\n",
       "</g>\n",
       "<!-- 3 -->\n",
       "<g id=\"node4\" class=\"node\">\n",
       "<title>3</title>\n",
       "<ellipse fill=\"none\" stroke=\"#000000\" cx=\"72\" cy=\"-18\" rx=\"18\" ry=\"18\"/>\n",
       "<text text-anchor=\"middle\" x=\"72\" y=\"-14.3\" font-family=\"Times,serif\" font-size=\"14.00\" fill=\"#000000\">0</text>\n",
       "</g>\n",
       "<!-- 1&#45;&gt;3 -->\n",
       "<g id=\"edge3\" class=\"edge\">\n",
       "<title>1&#45;&gt;3</title>\n",
       "<path fill=\"none\" stroke=\"#000000\" d=\"M90.9326,-93.5439C84.1608,-87.1213 76.7189,-78.4999 73,-69 70.2354,-61.9376 69.2085,-53.8929 69.0662,-46.3135\"/>\n",
       "<polygon fill=\"#000000\" stroke=\"#000000\" points=\"72.5722,-46.1569 69.365,-36.0592 65.5751,-45.953 72.5722,-46.1569\"/>\n",
       "<text text-anchor=\"middle\" x=\"94.5\" y=\"-57.8\" font-family=\"Times,serif\" font-size=\"14.00\" fill=\"#000000\">bxaxa$</text>\n",
       "</g>\n",
       "<!-- 4 -->\n",
       "<g id=\"node5\" class=\"node\">\n",
       "<title>4</title>\n",
       "<ellipse fill=\"none\" stroke=\"#000000\" cx=\"138\" cy=\"-18\" rx=\"18\" ry=\"18\"/>\n",
       "<text text-anchor=\"middle\" x=\"138\" y=\"-14.3\" font-family=\"Times,serif\" font-size=\"14.00\" fill=\"#000000\">5</text>\n",
       "</g>\n",
       "<!-- 1&#45;&gt;4 -->\n",
       "<g id=\"edge4\" class=\"edge\">\n",
       "<title>1&#45;&gt;4</title>\n",
       "<path fill=\"none\" stroke=\"#000000\" d=\"M111.5197,-87.8116C116.2054,-75.4586 122.611,-58.571 127.9483,-44.4998\"/>\n",
       "<polygon fill=\"#000000\" stroke=\"#000000\" points=\"131.332,-45.448 131.6061,-34.8567 124.787,-42.9653 131.332,-45.448\"/>\n",
       "<text text-anchor=\"middle\" x=\"128\" y=\"-57.8\" font-family=\"Times,serif\" font-size=\"14.00\" fill=\"#000000\">$</text>\n",
       "</g>\n",
       "<!-- 6 -->\n",
       "<g id=\"node7\" class=\"node\">\n",
       "<title>6</title>\n",
       "<ellipse fill=\"none\" stroke=\"#000000\" cx=\"192\" cy=\"-18\" rx=\"18\" ry=\"18\"/>\n",
       "<text text-anchor=\"middle\" x=\"192\" y=\"-14.3\" font-family=\"Times,serif\" font-size=\"14.00\" fill=\"#000000\">4</text>\n",
       "</g>\n",
       "<!-- 5&#45;&gt;6 -->\n",
       "<g id=\"edge6\" class=\"edge\">\n",
       "<title>5&#45;&gt;6</title>\n",
       "<path fill=\"none\" stroke=\"#000000\" d=\"M206.2936,-89.7948C202.7819,-83.58 199.1541,-76.1747 197,-69 194.8439,-61.8185 193.5655,-53.8379 192.8206,-46.3626\"/>\n",
       "<polygon fill=\"#000000\" stroke=\"#000000\" points=\"196.3027,-45.9875 192.0869,-36.2675 189.3211,-46.4949 196.3027,-45.9875\"/>\n",
       "<text text-anchor=\"middle\" x=\"208\" y=\"-57.8\" font-family=\"Times,serif\" font-size=\"14.00\" fill=\"#000000\">xa$</text>\n",
       "</g>\n",
       "<!-- 7 -->\n",
       "<g id=\"node8\" class=\"node\">\n",
       "<title>7</title>\n",
       "<ellipse fill=\"none\" stroke=\"#000000\" cx=\"246\" cy=\"-18\" rx=\"18\" ry=\"18\"/>\n",
       "<text text-anchor=\"middle\" x=\"246\" y=\"-14.3\" font-family=\"Times,serif\" font-size=\"14.00\" fill=\"#000000\">1</text>\n",
       "</g>\n",
       "<!-- 5&#45;&gt;7 -->\n",
       "<g id=\"edge7\" class=\"edge\">\n",
       "<title>5&#45;&gt;7</title>\n",
       "<path fill=\"none\" stroke=\"#000000\" d=\"M221.927,-87.8116C226.1592,-75.5383 231.9349,-58.7887 236.7681,-44.7725\"/>\n",
       "<polygon fill=\"#000000\" stroke=\"#000000\" points=\"240.1341,-45.7474 240.0853,-35.1527 233.5165,-43.4654 240.1341,-45.7474\"/>\n",
       "<text text-anchor=\"middle\" x=\"253.5\" y=\"-57.8\" font-family=\"Times,serif\" font-size=\"14.00\" fill=\"#000000\">bxaxa$</text>\n",
       "</g>\n",
       "<!-- 8 -->\n",
       "<g id=\"node9\" class=\"node\">\n",
       "<title>8</title>\n",
       "<ellipse fill=\"none\" stroke=\"#000000\" cx=\"307\" cy=\"-18\" rx=\"18\" ry=\"18\"/>\n",
       "<text text-anchor=\"middle\" x=\"307\" y=\"-14.3\" font-family=\"Times,serif\" font-size=\"14.00\" fill=\"#000000\">6</text>\n",
       "</g>\n",
       "<!-- 5&#45;&gt;8 -->\n",
       "<g id=\"edge8\" class=\"edge\">\n",
       "<title>5&#45;&gt;8</title>\n",
       "<path fill=\"none\" stroke=\"#000000\" d=\"M230.9265,-94.5709C234.7983,-91.9988 239.0045,-89.3187 243,-87 258.472,-78.0213 266.1101,-81.4037 279,-69 286.0861,-62.1812 291.8322,-53.1725 296.2326,-44.6258\"/>\n",
       "<polygon fill=\"#000000\" stroke=\"#000000\" points=\"299.5245,-45.8511 300.6287,-35.314 293.1945,-42.8627 299.5245,-45.8511\"/>\n",
       "<text text-anchor=\"middle\" x=\"294\" y=\"-57.8\" font-family=\"Times,serif\" font-size=\"14.00\" fill=\"#000000\">$</text>\n",
       "</g>\n",
       "</g>\n",
       "</svg>\n"
      ]
     },
     "metadata": {
      "tags": []
     },
     "output_type": "display_data"
    }
   ],
   "source": [
    "%dotstr stree.to_dot()"
   ]
  },
  {
   "cell_type": "markdown",
   "metadata": {
    "colab_type": "text",
    "id": "ar-0U0mfcTUm"
   },
   "source": [
    "The encoded LZ78 for text $T=xabxaxa\\$$ is:"
   ]
  },
  {
   "cell_type": "code",
   "execution_count": 20,
   "metadata": {
    "colab": {
     "base_uri": "https://localhost:8080/",
     "height": 35
    },
    "colab_type": "code",
    "id": "xwsU--PMcZ4X",
    "outputId": "ee9e5705-7ef8-4d6c-c0d5-27912f393bf2"
   },
   "outputs": [
    {
     "data": {
      "text/plain": [
       "['x', 'a', 'b', (0, 2), (0, 2), '$']"
      ]
     },
     "execution_count": 20,
     "metadata": {
      "tags": []
     },
     "output_type": "execute_result"
    }
   ],
   "source": [
    "zs = stree.LZ76encoder(T+'$'); zs"
   ]
  },
  {
   "cell_type": "markdown",
   "metadata": {
    "colab_type": "text",
    "id": "bCPuTmDlckrj"
   },
   "source": [
    "And using the implementation to decode the parsed string we have."
   ]
  },
  {
   "cell_type": "code",
   "execution_count": 21,
   "metadata": {
    "colab": {
     "base_uri": "https://localhost:8080/",
     "height": 35
    },
    "colab_type": "code",
    "id": "zaUL7VeLcrjZ",
    "outputId": "010f45ae-672c-4e0a-a630-7bda1db4e7ea"
   },
   "outputs": [
    {
     "data": {
      "text/plain": [
       "'xabxaxa$'"
      ]
     },
     "execution_count": 21,
     "metadata": {
      "tags": []
     },
     "output_type": "execute_result"
    }
   ],
   "source": [
    "stree.LZ76decoder(zs)"
   ]
  },
  {
   "cell_type": "markdown",
   "metadata": {
    "colab_type": "text",
    "id": "ufCwi0lEA1_d"
   },
   "source": [
    "**Implementation details and notes**: I dont know if the complexity time is $O(m)$ because my implementation is matching every $T[i..m]$ for all i $\\in$ {0..m}. So, maybe it's complexity is growing in order $m^2$ instead of $m$. Certainly the suffix tree construction takes $O(m^{2})$ time. But, when I find a previous match, i.e. a portion of the text that can be compressed, the algorithm jumps the lenght of the compressed part. This may be contributing to lower the running time.\n",
    "\n",
    "The algorithm perform the enumeration of all internal nodes through the creation of a subtree for each internal node, and them keeps the minimum value found in a leaf belonging to the subtree. Since we have to enumerate the internal nodes from in a bottom-up fashion we first sort the nodes in pos-order. We iterate over the pos-order vector of nodes creating the subtree for each internal node found.\n",
    "\n",
    "I've used a dictionary to keep track of numbers in the internal nodes encountered and their labels when the algorithm traverses a path from root to $p$. This code is implemented on function `followPath()`. This may be a naive method because we always store a dictionary with all the paths and labels and this can be a burden to very deep suffix trees. Another cavet of the implementation was already mentioned and is related to the fact that every time we traverses all the remaining string. This could be avoided narrowing the traverse path to a number of characters equal to the index i of $T[i..m]$ because we can only have previous substrings of length $i$."
   ]
  },
  {
   "cell_type": "markdown",
   "metadata": {
    "colab_type": "text",
    "id": "YQhwG44Vkg8K"
   },
   "source": [
    "### LZ76 parsing of a genome sequence\n",
    "\n",
    "Let`s complicate the things in order to test if the LZ76 parsing can handle very long texts. I choose a viral genome, phage lambda, that infects E. coli has our \"complicated\" example. In fact, this is a very small genome that has only 48.502 base pairs. First we download the genome from NCBI nucleotide collection from this link. But, we'll take another path and download the genome directly from the command line using the python library _ncbi-acc-download_. We do it in the following lines.\n"
   ]
  },
  {
   "cell_type": "code",
   "execution_count": 0,
   "metadata": {
    "colab": {},
    "colab_type": "code",
    "id": "EBGp_Xd-w2Y8"
   },
   "outputs": [],
   "source": [
    "! pip install -q ncbi-acc-download"
   ]
  },
  {
   "cell_type": "markdown",
   "metadata": {
    "colab_type": "text",
    "id": "hIfc_uPamp1e"
   },
   "source": [
    "Then, we download the phage lambda genome."
   ]
  },
  {
   "cell_type": "code",
   "execution_count": 0,
   "metadata": {
    "colab": {},
    "colab_type": "code",
    "id": "_XWe05Ao-etQ"
   },
   "outputs": [],
   "source": [
    "! ncbi-acc-download -m nucleotide -F fasta NC_001416.1"
   ]
  },
  {
   "cell_type": "markdown",
   "metadata": {
    "colab_type": "text",
    "id": "tO_T3Iw_mvpY"
   },
   "source": [
    "And check if our file is what we`re expecting, i.e. a collection of nucleotides."
   ]
  },
  {
   "cell_type": "code",
   "execution_count": 24,
   "metadata": {
    "colab": {
     "base_uri": "https://localhost:8080/",
     "height": 190
    },
    "colab_type": "code",
    "id": "HNxrSqe0-kiS",
    "outputId": "9bef65fc-ddad-407a-83d8-f579c52877b7"
   },
   "outputs": [
    {
     "name": "stdout",
     "output_type": "stream",
     "text": [
      ">NC_001416.1 Enterobacteria phage lambda, complete genome\n",
      "GGGCGGCGACCTCGCGGGTTTTCGCTATTTATGAAAATTTTCCGGTTTAAGGCGTTTCCGTTCTTCTTCG\n",
      "TCATAACTTAATGTTTTTATTTAAAATACCCTCTGAAAAGAAAGGAAACGACAGGTGCTGAAAGCGAGGC\n",
      "TTTTTGGCCTCTGTCGTTTCCTTTCTCTGTTTTTGTCCGTGGAATGAACAATGGAAGTCAACAAAAAGCA\n",
      "GCTGGCTGACATTTTCGGTGCGAGTATCCGTACCATTCAGAACTGGCAGGAACAGGGAATGCCCGTTCTG\n",
      "CGAGGCGGTGGCAAGGGTAATGAGGTGCTTTATGACTCTGCCGCCGTCATAAAATGGTATGCCGAAAGGG\n",
      "ATGCTGAAATTGAGAACGAAAAGCTGCGCCGGGAGGTTGAAGAACTGCGGCAGGCCAGCGAGGCAGATCT\n",
      "CCAGCCAGGAACTATTGAGTACGAACGCCATCGACTTACGCGTGCGCAGGCCGACGCACAGGAACTGAAG\n",
      "AATGCCAGAGACTCCGCTGAAGTGGTGGAAACCGCATTCTGTACTTTCGTGCTGTCGCGGATCGCAGGTG\n",
      "AAATTGCCAGTATTCTCGACGGGCTCCCCCTGTCGGTGCAGCGGCGTTTTCCGGAACTGGAAAACCGACA\n"
     ]
    }
   ],
   "source": [
    "! head NC_001416.1.fa"
   ]
  },
  {
   "cell_type": "markdown",
   "metadata": {
    "colab_type": "text",
    "id": "D3v3Xz_9m8by"
   },
   "source": [
    "Next, we load our genome into a variable to be able to perform some analysis on top of it. The first analysis will be related to the execution time of the implemented algorithm in a range of text lenghts. Be aware that the following codes take some minutes to run !"
   ]
  },
  {
   "cell_type": "code",
   "execution_count": 0,
   "metadata": {
    "colab": {},
    "colab_type": "code",
    "id": "2MO2j7_k_Boq"
   },
   "outputs": [],
   "source": [
    "phage_geno = ''\n",
    "with open('NC_001416.1.fa', 'r') as phagefa:\n",
    "  for line in phagefa.readlines():\n",
    "    if line.startswith('>'):\n",
    "      continue\n",
    "    else:\n",
    "      phage_geno += line.strip('\\n')"
   ]
  },
  {
   "cell_type": "code",
   "execution_count": 0,
   "metadata": {
    "colab": {},
    "colab_type": "code",
    "id": "HBb9balZRcdS"
   },
   "outputs": [],
   "source": [
    "def do_LZ_parsing(t):\n",
    "  ST = SuffixTreeLZ76(t)\n",
    "  ST.enumerate_internal_nodes()\n",
    "  z = ST.LZ76encoder(t)\n",
    "  return z"
   ]
  },
  {
   "cell_type": "code",
   "execution_count": 0,
   "metadata": {
    "colab": {},
    "colab_type": "code",
    "id": "XVldooAtRxRc"
   },
   "outputs": [],
   "source": [
    "Mrange = 10000\n",
    "\n",
    "t_LZ76_parsing = []\n",
    "\n",
    "for M in range(2, Mrange, 500):\n",
    "  \n",
    "  t1 = %timeit -n 3 -oq do_LZ_parsing(phage_geno[:M])\n",
    "  \n",
    "  t_LZ76_parsing.append(t1.best)"
   ]
  },
  {
   "cell_type": "code",
   "execution_count": 0,
   "metadata": {
    "colab": {},
    "colab_type": "code",
    "id": "yUxBQaD0P6Dg"
   },
   "outputs": [],
   "source": [
    "%matplotlib inline\n",
    "import matplotlib.pyplot as plt\n",
    "plt.rcParams['figure.figsize'] = [10, 5]\n",
    "# use seaborn for nice default plot settings\n",
    "import seaborn; seaborn.set()\n"
   ]
  },
  {
   "cell_type": "code",
   "execution_count": 45,
   "metadata": {
    "colab": {
     "base_uri": "https://localhost:8080/",
     "height": 345
    },
    "colab_type": "code",
    "id": "JGxDLr21QJ_e",
    "outputId": "b64b59a4-08f5-4089-e704-593b21e389af"
   },
   "outputs": [
    {
     "data": {
      "image/png": "[encoded data removed]",
      "text/plain": [
       "<Figure size 720x360 with 1 Axes>"
      ]
     },
     "metadata": {
      "tags": []
     },
     "output_type": "display_data"
    }
   ],
   "source": [
    "plt.plot(range(2, Mrange, 500), t_LZ76_parsing, label='LZ76 compression using suffix tree')\n",
    "plt.legend(loc='upper left')\n",
    "plt.xlabel('Text length')\n",
    "plt.ylabel('Execution Time (s)');"
   ]
  },
  {
   "cell_type": "markdown",
   "metadata": {
    "colab_type": "text",
    "id": "-0ko2NgqT4pp"
   },
   "source": [
    "As we see, the logarithm scales $~O(m^2)$ in the large limit when the text becomes larger and larger. So it is inappropriate for larger genomes. We can also, dig deeper into the code and check which function is taking more time to run using a python utility called `line_profiler`. We can install it through pip, as follows: \n",
    "\n",
    "\n",
    "If we consider that every step take $1\\ \\mu$ second in a computer, and that the algorithm has running time $O(m^2)$ we have the following results."
   ]
  },
  {
   "cell_type": "code",
   "execution_count": 0,
   "metadata": {
    "colab": {},
    "colab_type": "code",
    "id": "8h7B2m-sVj--"
   },
   "outputs": [],
   "source": [
    "! pip install -q line_profiler"
   ]
  },
  {
   "cell_type": "markdown",
   "metadata": {
    "colab_type": "text",
    "id": "JG-uaYoxVpYY"
   },
   "source": [
    "Once it's installed, we load the extension into the ipython notebook and use the magic function `%lprun` to debug the running time of our functions."
   ]
  },
  {
   "cell_type": "code",
   "execution_count": 0,
   "metadata": {
    "colab": {},
    "colab_type": "code",
    "id": "UUPop-VOV8FO"
   },
   "outputs": [],
   "source": [
    "%load_ext line_profiler"
   ]
  },
  {
   "cell_type": "code",
   "execution_count": 0,
   "metadata": {
    "colab": {},
    "colab_type": "code",
    "id": "RgpHoy8sYGUV"
   },
   "outputs": [],
   "source": [
    "def do_LZ_parsing_prof():\n",
    "  g = phage_geno[:500]\n",
    "  ST = SuffixTreeLZ76(g)\n",
    "  ST.enumerate_internal_nodes()\n",
    "  z = ST.LZ76encoder(g)"
   ]
  },
  {
   "cell_type": "code",
   "execution_count": 66,
   "metadata": {
    "colab": {
     "base_uri": "https://localhost:8080/",
     "height": 276
    },
    "colab_type": "code",
    "id": "DdAwuhScV_LL",
    "outputId": "bcef25c1-c3cc-4a70-a0bc-44c213a23e2c"
   },
   "outputs": [
    {
     "name": "stdout",
     "output_type": "stream",
     "text": [
      "\n",
      "*** Profile printout saved to text file 'lp_results.txt'. \n",
      "Timer unit: 1e-06 s\n",
      "\n",
      "Total time: 0.149242 s\n",
      "File: <ipython-input-64-2529e879245a>\n",
      "Function: do_LZ_parsing_prof at line 1\n",
      "\n",
      "Line #      Hits         Time  Per Hit   % Time  Line Contents\n",
      "==============================================================\n",
      "     1                                           def do_LZ_parsing_prof():\n",
      "     2         1          4.0      4.0      0.0    g = phage_geno[:500]\n",
      "     3         1      97279.0  97279.0     65.2    ST = SuffixTreeLZ76(g)\n",
      "     4         1      10262.0  10262.0      6.9    ST.enumerate_internal_nodes()\n",
      "     5         1      41697.0  41697.0     27.9    z = ST.LZ76encoder(g)"
     ]
    }
   ],
   "source": [
    "%lprun -s -f do_LZ_parsing_prof -T lp_results.txt do_LZ_parsing_prof()\n",
    "% cat lp_results.txt"
   ]
  },
  {
   "cell_type": "markdown",
   "metadata": {
    "colab_type": "text",
    "id": "tAGJUfI1ZC-9"
   },
   "source": [
    "The output shows us that most of the time the parsing spent in building the suffix tree data structure. \n",
    "\n",
    "\n",
    "\n",
    "_This post was written entirely in the Jupyter notebook. You can [download](https://github.com/rodtheo/rodtheo.github.io/blob/master/downloads/notebooks/LZ.ipynb) this notebook, or see a static view on [nbviewer](https://nbviewer.jupyter.org/github/rodtheo/rodtheo.github.io/blob/master/downloads/notebooks/LZ.ipynb) or even open it on [google colab](https://colab.research.google.com/drive/1bDi0db3IOw0VO7dpn6wqyKFcQZDdQaT7)._"
   ]
  }
 ],
 "metadata": {
  "colab": {
   "collapsed_sections": [],
   "name": "LZ.ipynb",
   "provenance": []
  },
  "kernelspec": {
   "display_name": "Python 3",
   "language": "python",
   "name": "python3"
  },
  "language_info": {
   "codemirror_mode": {
    "name": "ipython",
    "version": 3
   },
   "file_extension": ".py",
   "mimetype": "text/x-python",
   "name": "python",
   "nbconvert_exporter": "python",
   "pygments_lexer": "ipython3",
   "version": "3.5.5"
  },
  "latex_envs": {
   "LaTeX_envs_menu_present": true,
   "autocomplete": false,
   "bibliofile": "biblio.bib",
   "cite_by": "apalike",
   "current_citInitial": 1,
   "eqLabelWithNumbers": false,
   "eqNumInitial": 1,
   "hotkeys": {
    "equation": "Ctrl-E",
    "itemize": "Ctrl-I"
   },
   "labels_anchors": false,
   "latex_user_defs": false,
   "report_style_numbering": false,
   "user_envs_cfg": false
  },
  "toc": {
   "colors": {
    "hover_highlight": "#DAA520",
    "navigate_num": "#000000",
    "navigate_text": "#333333",
    "running_highlight": "#FF0000",
    "selected_highlight": "#FFD700",
    "sidebar_border": "#EEEEEE",
    "wrapper_background": "#FFFFFF"
   },
   "moveMenuLeft": true,
   "nav_menu": {
    "height": "116px",
    "width": "252px"
   },
   "navigate_menu": true,
   "number_sections": true,
   "sideBar": true,
   "threshold": 4,
   "toc_cell": false,
   "toc_section_display": "block",
   "toc_window_display": false,
   "widenNotebook": false
  }
 },
 "nbformat": 4,
 "nbformat_minor": 1
}
