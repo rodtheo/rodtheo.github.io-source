{
 "cells": [
  {
   "cell_type": "markdown",
   "metadata": {
    "colab_type": "text",
    "id": "Xd3393WRjhg6"
   },
   "source": [
    "# The Lempel-Ziv or Ziv-lempel, or, even the LZ compression"
   ]
  },
  {
   "cell_type": "markdown",
   "metadata": {
    "colab_type": "text",
    "id": "Xd3393WRjhg6"
   },
   "source": [
    "<!-- PELICAN_BEGIN_SUMMARY -->\n",
    "\n",
    "Between a couple of years, from 1976 to 1978, Abraham Lempel and Jacob Ziv created a procedure, and several variants of it, aiming the compression of data. Its latter proposed variants turnout to be a very effective procedure to compress many data types, such as texts and images. The fact that no prior information about the data statistics were required in advance (constrain imposed by statistical compression methods) and the simplistic, but powerfull, algorithm were two facts contributing to the popularity of the LZ compression methods.\n",
    "\n",
    "Since it's creation, the LZ algorithms have been widely used but in many occasions there's a confusion between which algorithm correspond each variant. Furthermore, the increasing in the amount of data produced have pushed the initial LZ algorithms to be augumented with new data structures in order to become feasible for the analysis of big datasets. Specially for big texts, like human genome that has more than 3 billions ($10^9$) base pairs.\n",
    "\n",
    "In this post, I plan to cover the whys and whichs of the lempel-ziv algorithms called LZ76, LZ77 and LZ78. \n",
    "\n",
    "<!-- PELICAN_END_SUMMARY -->"
   ]
  },
  {
   "cell_type": "markdown",
   "metadata": {
    "colab_type": "text",
    "id": "8Gs9YEoAA1wQ"
   },
   "source": [
    "# LZ78\n",
    "\n",
    "The lempel-zip compression algorithm proposed in 1978, also called LZ78, processes a text $T[1,n]$ from left to right and cuts it into $z$ substrings, called _phrases_. Navarro, in Compact Data Structures book, defined the algorithm in plain english in a simple way:\n",
    "\n",
    "> \"As the text is parsed, each new phrase is extended as much as possible to the right as long as it matches **some previous phrase**, and then next the new character (the mismatched one) is also included.\"\n",
    "\n",
    "This whole process is called the parsing of $T$. A trie is a data structure that can be used to store the parsing results. Basically, a trie is a tree that holds every suffix of a word/text. To spell the suffix from a trie, we traverse it from the root to a leaf outputting the label in the edges found in the path. A trie is usefull in string matching because when comparing a word of size $m$ with a text of size $n$ in the \"brute force\" way we must perform $m*n$ comparisons, while with the aid of the trie the number of comparisons is the size of the word to be mathed ($m$). If you want to learn more about tries in the context of string matching watch the excelent lecture from Ben Langmead. In fact, I'll use his code as base to the LZ78 python implementation parser.\n",
    "\n",
    "Be aware that the trie used in LZ78 implementation will not hold every suffix but a phrase for each path begining at a root and ending at a leaf. \n",
    "\n",
    "The example 8.28 from Navarro`s CDS is reproduced bellow to show the LZ78 parsing of the text  how_can_a_clam_cram_in_a_clean_cream_can. The parsing is carried out as follows. "
   ]
  },
  {
   "cell_type": "code",
   "execution_count": 2,
   "metadata": {
    "colab": {},
    "colab_type": "code",
    "id": "kBgYTVhZxGDo"
   },
   "outputs": [],
   "source": [
    "class LZ78Trie(object):\n",
    "  \n",
    "  def __init__(self, t):\n",
    "    t += '$'\n",
    "    self.root = {}\n",
    "    i = 0\n",
    "    while i < len(t):\n",
    "      cur = self.root\n",
    "      j = 1\n",
    "      for c in t[i:]:\n",
    "        if c not in cur:\n",
    "          cur[c] = {}\n",
    "          i += 1\n",
    "          break\n",
    "        cur = cur[c]\n",
    "        i += 1\n",
    "        \n",
    "\n",
    "  def followPath(object, s):\n",
    "    cur = self.root\n",
    "    for c in s:\n",
    "      if c not in cur:\n",
    "        return None\n",
    "      cur = cur[c]\n",
    "    return cur\n",
    "  \n",
    "  \n",
    "  def has_substring(self, s):\n",
    "    \"\"\" Return true if s appears as a substring of t \"\"\"\n",
    "    return self.follow_path(s) is not None\n",
    "  \n",
    "  \n",
    "  def to_dot(self):\n",
    "    \"\"\" Return dot representation of trie to make a picture \"\"\"\n",
    "    lines = []\n",
    "    def _to_dot_helper(node, parid):\n",
    "        childid = parid\n",
    "        for c, child in node.items():\n",
    "            lines.append('  %d -> %d [ label=\"%s\" ];' % (parid, childid+1, c))\n",
    "            childid = _to_dot_helper(child, childid+1)\n",
    "        return childid\n",
    "    lines.append('digraph \"Suffix trie\" {')\n",
    "    lines.append('  node [shape=circle label=\"\"];')\n",
    "    _to_dot_helper(self.root, 0)\n",
    "    lines.append('}')\n",
    "    return '\\n'.join(lines) + '\\n'"
   ]
  },
  {
   "cell_type": "code",
   "execution_count": 9,
   "metadata": {
    "colab": {
     "base_uri": "https://localhost:8080/",
     "height": 294
    },
    "colab_type": "code",
    "id": "q7XsMDAT62Rj",
    "outputId": "b0061f48-bceb-4cc4-856f-55a298ca47cc"
   },
   "outputs": [
    {
     "name": "stdout",
     "output_type": "stream",
     "text": [
      "--2019-10-16 16:22:39--  https://raw.github.com/cjdrake/ipython-magic/master/gvmagic.py\n",
      "Resolving raw.github.com... 151.101.92.133\n",
      "Connecting to raw.github.com|151.101.92.133|:443... connected.\n",
      "HTTP request sent, awaiting response... 301 Moved Permanently\n",
      "Location: https://raw.githubusercontent.com/cjdrake/ipython-magic/master/gvmagic.py [following]\n",
      "--2019-10-16 16:22:40--  https://raw.githubusercontent.com/cjdrake/ipython-magic/master/gvmagic.py\n",
      "Resolving raw.githubusercontent.com... 151.101.92.133\n",
      "Connecting to raw.githubusercontent.com|151.101.92.133|:443... connected.\n",
      "HTTP request sent, awaiting response... 200 OK\n",
      "Length: 4988 (4.9K) [text/plain]\n",
      "Saving to: ‘gvmagic.py.5’\n",
      "\n",
      "gvmagic.py.5        100%[===================>]   4.87K  --.-KB/s    in 0s      \n",
      "\n",
      "2019-10-16 16:22:41 (30.7 MB/s) - ‘gvmagic.py.5’ saved [4988/4988]\n",
      "\n"
     ]
    }
   ],
   "source": [
    "! wget https://raw.github.com/cjdrake/ipython-magic/master/gvmagic.py"
   ]
  },
  {
   "cell_type": "code",
   "execution_count": 6,
   "metadata": {
    "colab": {},
    "colab_type": "code",
    "id": "3J35LVTc_-Ye"
   },
   "outputs": [],
   "source": [
    "%reload_ext gvmagic"
   ]
  },
  {
   "cell_type": "code",
   "execution_count": 10,
   "metadata": {
    "colab": {
     "base_uri": "https://localhost:8080/",
     "height": 545
    },
    "colab_type": "code",
    "id": "tCstz5kmABEV",
    "outputId": "5d8e2c9b-6e37-4f2d-bd1f-90df72e92fbc"
   },
   "outputs": [
    {
     "data": {
      "image/svg+xml": [
       "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\n"
      ]
     },
     "metadata": {},
     "output_type": "display_data"
    }
   ],
   "source": [
    "%dotstr LZ78Trie(\"how_can_a_clam_cram_in_a_clean_cream_can\").to_dot()"
   ]
  },
  {
   "cell_type": "markdown",
   "metadata": {
    "colab_type": "text",
    "id": "R_UGdJkVppdN"
   },
   "source": [
    "It cannot produce less than $\\sqrt{n}$ phrases, even in the text $T=a^n\\$$. Why ??"
   ]
  },
  {
   "cell_type": "markdown",
   "metadata": {
    "colab_type": "text",
    "id": "wydaf0ZgKMk9"
   },
   "source": [
    "## LZ76\n",
    "\n",
    "The Lempel-Ziv 1976 compression is somehow similar to LZ78, in which the text is parsed into a sequence of phrases. While in LZ78 the next phrase to be find after parsing $T[1,i]$ must be a previous found phrase plus the symbol following it, in LZ76 the phrase is the longest prefix of $T[i+1,n]$ that has already appeared in the text plus the symbol following it. If the next phrase foud is $T[i+1,j] = T[i',j'].T[j]$, the LZ76 compression algorithm encodes the phrase as the triple $(i´,j-i-1,T[j])$.\n",
    "\n",
    "Often LZ76 is mistaken with LZ77, a variant that restricts the length $l$ of the sliding window $T[i-l,i]$ from where the phrases can be detected. This constraint simplifies the finding and enconding the phrases and has the drawback to restrict the search to \"nearby\" regions in the text.\n",
    "\n",
    "**Lemma:** The z distinct phrases that LZ compression algorithms generate have $O(n/log_{\\sigma}n)$.\n",
    "\n",
    "_Proof:_ Let $\\sigma$ be the length of the alphabet used. Listing all the distict phrases in sorted order of length we'll have:\n",
    "- $\\sigma$ phrases of length 1;\n",
    "- $\\sigma^2$ phases of length 2;\n",
    "- $\\sigma^3$ phrases of length 3;\n",
    "- and so on;\n",
    "TO BE CONTINUED\n",
    "\n",
    "The LZ76 phrases can be found in linear time with the help of a suffix tree (Rodeh et al, 1981), but this structure requires a lot of extra space, which hampers the parsing of large texts. \n",
    "\n",
    "### The suffix tree data structure\n",
    "\n",
    "\n",
    "Naive methods to build a suffix tree:\n",
    "\n",
    "1. Build the ST from the suffix trie data structure. This method takes $O(m^2)$ time and $O(m^2)$ space.\n",
    "\n",
    "2. Recursively augment the tree starting from a two-edge tree representing the longest suffix. Then, insert the 2nd longest suffix. Then, the 3rd longest suffix. And so on. It takes $O(m)$ space but still $O(m^2)$ time (Gusfield, section 5.4).\n",
    "\n",
    "The suffix tree implementation below was borrowed from [Ben Langmead teaching materials](http://www.langmead-lab.org/teaching-materials/) (which I highly recommend) and follows the Gusfield algorithm presented in section 5.4. I slightly modified the implementation to accomodate the $m$ suffix numbers in the nodes, where $m$ is the number of suffixes from text $T$. This number will be important in the implementation of the LZ76 parser using suffix trees.\n"
   ]
  },
  {
   "cell_type": "code",
   "execution_count": 5,
   "metadata": {
    "colab": {},
    "colab_type": "code",
    "id": "J6kYRUd6KL2j"
   },
   "outputs": [],
   "source": [
    "class SuffixTree(object):\n",
    "  class Node(object):\n",
    "    def __init__(self, lab, idx):\n",
    "      self.lab = lab # label on path leading to this node\n",
    "      self.out = {}  # outgoing edges; maps characters to nodes\n",
    "      self.idx = idx\n",
    "      \n",
    "  def __init__(self, s):\n",
    "    s += '$'\n",
    "    self.root = self.Node(None, None)\n",
    "    self.root.out[s[0]] = self.Node(s, 0) # trie for just longest suffix\n",
    "    # add the rest of the suffixes, from longest to shortest\n",
    "    for i in range(1, len(s)):\n",
    "      # start at root; we'll walking down as far as we can go\n",
    "      cur = self.root\n",
    "      j = i\n",
    "      while j < len(s):\n",
    "        if s[j] in cur.out:\n",
    "          child = cur.out[s[j]]\n",
    "          lab = child.lab\n",
    "          # walk along edge until we exhaust edge label or until we mismatch\n",
    "          k = j+1\n",
    "          while k-j < len(lab) and s[k] == lab[k-j]:\n",
    "            k += 1\n",
    "          if k-j == len(lab):\n",
    "            cur = child # we exhausted the edge\n",
    "            j = k\n",
    "          else:\n",
    "            # we fell off in middle of edge\n",
    "            cExist, cNew = lab[k-j], s[k]\n",
    "            # create \"mid\": new node bisecting edge\n",
    "            mid = self.Node(lab[:k-j], None)\n",
    "            mid.out[cNew] = self.Node(s[k:], i)\n",
    "            # original child becomes mid's child\n",
    "            mid.out[cExist] = child\n",
    "            # original child's label is curtailed\n",
    "            child.lab = lab[k-j:]\n",
    "            # mid becomes new child of original parent\n",
    "            cur.out[s[j]] = mid\n",
    "        else:\n",
    "          # Fell off tree at a node: make new edge hanging off it\n",
    "          cur.out[s[j]] = self.Node(s[j:],i)\n",
    "\n",
    "  def followPath(self, s):\n",
    "    \"\"\" Follow path given by s.  If we fall off tree, return None.  If we\n",
    "        finish mid-edge, return (node, offset) where 'node' is child and\n",
    "        'offset' is label offset.  If we finish on a node, return (node,\n",
    "        None). \"\"\"\n",
    "    cur = self.root\n",
    "    i = 0\n",
    "    while i < len(s):\n",
    "        c = s[i]\n",
    "        if c not in cur.out:\n",
    "            return (None, None) # fell off at a node\n",
    "        child = cur.out[s[i]]\n",
    "        lab = child.lab\n",
    "        j = i+1\n",
    "        while j-i < len(lab) and j < len(s) and s[j] == lab[j-i]:\n",
    "            j += 1\n",
    "        if j-i == len(lab):\n",
    "            cur = child # exhausted edge\n",
    "            i = j\n",
    "        elif j == len(s):\n",
    "            return (child, j-i) # exhausted query string in middle of edge\n",
    "        else:\n",
    "            return (None, None) # fell off in the middle of the edge\n",
    "    return (cur, None) # exhausted query string at internal node\n",
    "\n",
    "  def hasSubstring(self, s):\n",
    "      \"\"\" Return true iff s appears as a substring \"\"\"\n",
    "      node, off = self.followPath(s)\n",
    "      return node is not None\n",
    "\n",
    "  def hasSuffix(self, s):\n",
    "      \"\"\" Return true iff s is a suffix \"\"\"\n",
    "      node, off = self.followPath(s)\n",
    "      if node is None:\n",
    "          return False # fell off the tree\n",
    "      if off is None:\n",
    "          # finished on top of a node\n",
    "          return '$' in node.out\n",
    "      else:\n",
    "          # finished at offset 'off' within an edge leading to 'node'\n",
    "          return node.lab[off] == '$'\n",
    "\n",
    "  def _iterate_over_nodes(self):\n",
    "    def _to_iter(node):\n",
    "        for c, child in node.out.items():\n",
    "          print(\"Node lab={}, id={}\".format(child.lab, child.idx))\n",
    "          _to_iter(child)\n",
    "    _to_iter(self.root)\n",
    "  \n",
    "  def numerate_internal_nodes(self):\n",
    "    def preorder_traversal(root):\n",
    "      yield root\n",
    "      for c, child in root.out.items():\n",
    "        yield from preorder_traversal(child)\n",
    "    return preorder_traversal(self.root)\n",
    "    \n",
    "  def to_dot(self):\n",
    "      \"\"\" Return dot representation of trie to make a picture \"\"\"\n",
    "      lines = []\n",
    "      def _to_dot_helper(node, parid):\n",
    "          childid = parid\n",
    "          for c, child in node.out.items():\n",
    "#              print(c, child)\n",
    "              lines.append('  %d -> %d [ label=\"%s\" ];' % \n",
    "                           (parid, childid+1, child.lab))\n",
    "              if child.idx is not None:\n",
    "                lines.append('  {} [label=\"{}\"];'.format(childid+1, child.idx))\n",
    "              childid = _to_dot_helper(child, childid+1)\n",
    "          return childid\n",
    "      lines.append('digraph \"Suffix trie\" {')\n",
    "      lines.append('  node [shape=circle label=\"\"];')\n",
    "      _to_dot_helper(self.root, 0)\n",
    "      lines.append('}')\n",
    "      return '\\n'.join(lines) + '\\n'"
   ]
  },
  {
   "cell_type": "markdown",
   "metadata": {
    "colab_type": "text",
    "id": "Lu4WNnvtFt8a"
   },
   "source": [
    "The example shown by Langsmead in his lecture about suffix trees is reproduced below, i.e. $T=abaaba$. The leaf nodes were labeled with the corresponding suffix number. Internal nodes dont have labels."
   ]
  },
  {
   "cell_type": "code",
   "execution_count": 6,
   "metadata": {
    "colab": {},
    "colab_type": "code",
    "id": "d4wYMCHL9wYT"
   },
   "outputs": [],
   "source": [
    "stree = SuffixTree('abaaba')"
   ]
  },
  {
   "cell_type": "code",
   "execution_count": 7,
   "metadata": {
    "colab": {
     "base_uri": "https://localhost:8080/",
     "height": 428
    },
    "colab_type": "code",
    "id": "NiJcWF81-5YS",
    "outputId": "53df1f48-894f-4471-fb21-80658ce2922b"
   },
   "outputs": [
    {
     "data": {
      "image/svg+xml": [
       "PD94bWwgdmVyc2lvbj0iMS4wIiBlbmNvZGluZz0iVVRGLTgiIHN0YW5kYWxvbmU9Im5vIj8+CjwhRE9DVFlQRSBzdmcgUFVCTElDICItLy9XM0MvL0RURCBTVkcgMS4xLy9FTiIKICJodHRwOi8vd3d3LnczLm9yZy9HcmFwaGljcy9TVkcvMS4xL0RURC9zdmcxMS5kdGQiPgo8IS0tIEdlbmVyYXRlZCBieSBncmFwaHZpeiB2ZXJzaW9uIDIuNDAuMSAoMjAxNjEyMjUuMDMwNCkKIC0tPgo8IS0tIFRpdGxlOiBTdWZmaXggdHJpZSBQYWdlczogMSAtLT4KPHN2ZyB3aWR0aD0iMjYwcHQiIGhlaWdodD0iMzAycHQiCiB2aWV3Qm94PSIwLjAwIDAuMDAgMjYwLjAwIDMwMi4wMCIgeG1sbnM9Imh0dHA6Ly93d3cudzMub3JnLzIwMDAvc3ZnIiB4bWxuczp4bGluaz0iaHR0cDovL3d3dy53My5vcmcvMTk5OS94bGluayI+CjxnIGlkPSJncmFwaDAiIGNsYXNzPSJncmFwaCIgdHJhbnNmb3JtPSJzY2FsZSgxIDEpIHJvdGF0ZSgwKSB0cmFuc2xhdGUoNCAyOTgpIj4KPHRpdGxlPlN1ZmZpeCB0cmllPC90aXRsZT4KPHBvbHlnb24gZmlsbD0iI2ZmZmZmZiIgc3Ryb2tlPSJ0cmFuc3BhcmVudCIgcG9pbnRzPSItNCw0IC00LC0yOTggMjU2LC0yOTggMjU2LDQgLTQsNCIvPgo8IS0tIDAgLS0+CjxnIGlkPSJub2RlMSIgY2xhc3M9Im5vZGUiPgo8dGl0bGU+MDwvdGl0bGU+CjxlbGxpcHNlIGZpbGw9Im5vbmUiIHN0cm9rZT0iIzAwMDAwMCIgY3g9IjcyIiBjeT0iLTI3NiIgcng9IjE4IiByeT0iMTgiLz4KPC9nPgo8IS0tIDEgLS0+CjxnIGlkPSJub2RlMiIgY2xhc3M9Im5vZGUiPgo8dGl0bGU+MTwvdGl0bGU+CjxlbGxpcHNlIGZpbGw9Im5vbmUiIHN0cm9rZT0iIzAwMDAwMCIgY3g9IjE4IiBjeT0iLTE5MCIgcng9IjE4IiByeT0iMTgiLz4KPHRleHQgdGV4dC1hbmNob3I9Im1pZGRsZSIgeD0iMTgiIHk9Ii0xODUuOCIgZm9udC1mYW1pbHk9IlRpbWVzLHNlcmlmIiBmb250LXNpemU9IjE0LjAwIiBmaWxsPSIjMDAwMDAwIj42PC90ZXh0Pgo8L2c+CjwhLS0gMCYjNDU7Jmd0OzEgLS0+CjxnIGlkPSJlZGdlMSIgY2xhc3M9ImVkZ2UiPgo8dGl0bGU+MCYjNDU7Jmd0OzE8L3RpdGxlPgo8cGF0aCBmaWxsPSJub25lIiBzdHJva2U9IiMwMDAwMDAiIGQ9Ik02Mi4zNDU5LC0yNjAuNjI0OUM1NC4yNTY1LC0yNDcuNzQxOCA0Mi41NjQ1LC0yMjkuMTIxMyAzMy4yMTY4LC0yMTQuMjM0MiIvPgo8cG9seWdvbiBmaWxsPSIjMDAwMDAwIiBzdHJva2U9IiMwMDAwMDAiIHBvaW50cz0iMzYuMDM0NSwtMjEyLjEzOTYgMjcuNzUyNiwtMjA1LjUzMTkgMzAuMTA2MiwtMjE1Ljg2MiAzNi4wMzQ1LC0yMTIuMTM5NiIvPgo8dGV4dCB0ZXh0LWFuY2hvcj0ibWlkZGxlIiB4PSI1Mi41IiB5PSItMjI4LjgiIGZvbnQtZmFtaWx5PSJUaW1lcyxzZXJpZiIgZm9udC1zaXplPSIxNC4wMCIgZmlsbD0iIzAwMDAwMCI+JDwvdGV4dD4KPC9nPgo8IS0tIDIgLS0+CjxnIGlkPSJub2RlMyIgY2xhc3M9Im5vZGUiPgo8dGl0bGU+MjwvdGl0bGU+CjxlbGxpcHNlIGZpbGw9Im5vbmUiIHN0cm9rZT0iIzAwMDAwMCIgY3g9IjcyIiBjeT0iLTE5MCIgcng9IjE4IiByeT0iMTgiLz4KPC9nPgo8IS0tIDAmIzQ1OyZndDsyIC0tPgo8ZyBpZD0iZWRnZTIiIGNsYXNzPSJlZGdlIj4KPHRpdGxlPjAmIzQ1OyZndDsyPC90aXRsZT4KPHBhdGggZmlsbD0ibm9uZSIgc3Ryb2tlPSIjMDAwMDAwIiBkPSJNNzIsLTI1Ny43NjE2QzcyLC0yNDYuMzU5NyA3MiwtMjMxLjQzNDIgNzIsLTIxOC40OTQiLz4KPHBvbHlnb24gZmlsbD0iIzAwMDAwMCIgc3Ryb2tlPSIjMDAwMDAwIiBwb2ludHM9Ijc1LjUwMDEsLTIxOC4yMTIxIDcyLC0yMDguMjEyMSA2OC41MDAxLC0yMTguMjEyMSA3NS41MDAxLC0yMTguMjEyMSIvPgo8dGV4dCB0ZXh0LWFuY2hvcj0ibWlkZGxlIiB4PSI3OC42MDY5IiB5PSItMjI4LjgiIGZvbnQtZmFtaWx5PSJUaW1lcyxzZXJpZiIgZm9udC1zaXplPSIxNC4wMCIgZmlsbD0iIzAwMDAwMCI+YmE8L3RleHQ+CjwvZz4KPCEtLSA1IC0tPgo8ZyBpZD0ibm9kZTYiIGNsYXNzPSJub2RlIj4KPHRpdGxlPjU8L3RpdGxlPgo8ZWxsaXBzZSBmaWxsPSJub25lIiBzdHJva2U9IiMwMDAwMDAiIGN4PSIxNTMiIGN5PSItMTkwIiByeD0iMTgiIHJ5PSIxOCIvPgo8L2c+CjwhLS0gMCYjNDU7Jmd0OzUgLS0+CjxnIGlkPSJlZGdlNSIgY2xhc3M9ImVkZ2UiPgo8dGl0bGU+MCYjNDU7Jmd0OzU8L3RpdGxlPgo8cGF0aCBmaWxsPSJub25lIiBzdHJva2U9IiMwMDAwMDAiIGQ9Ik04NC42NTYzLC0yNjIuNTYyNUM5Ny43MzM1LC0yNDguNjc4IDExOC4zMTc2LC0yMjYuODIzMyAxMzMuNDgwOSwtMjEwLjcyNCIvPgo8cG9seWdvbiBmaWxsPSIjMDAwMDAwIiBzdHJva2U9IiMwMDAwMDAiIHBvaW50cz0iMTM2LjEyNDEsLTIxMy4wMjI0IDE0MC40MzI2LC0yMDMuMzQzMSAxMzEuMDI4NSwtMjA4LjIyMyAxMzYuMTI0MSwtMjEzLjAyMjQiLz4KPHRleHQgdGV4dC1hbmNob3I9Im1pZGRsZSIgeD0iMTIxLjEwNjkiIHk9Ii0yMjguOCIgZm9udC1mYW1pbHk9IlRpbWVzLHNlcmlmIiBmb250LXNpemU9IjE0LjAwIiBmaWxsPSIjMDAwMDAwIj5hPC90ZXh0Pgo8L2c+CjwhLS0gMyAtLT4KPGcgaWQ9Im5vZGU0IiBjbGFzcz0ibm9kZSI+Cjx0aXRsZT4zPC90aXRsZT4KPGVsbGlwc2UgZmlsbD0ibm9uZSIgc3Ryb2tlPSIjMDAwMDAwIiBjeD0iMTgiIGN5PSItMTA0IiByeD0iMTgiIHJ5PSIxOCIvPgo8dGV4dCB0ZXh0LWFuY2hvcj0ibWlkZGxlIiB4PSIxOCIgeT0iLTk5LjgiIGZvbnQtZmFtaWx5PSJUaW1lcyxzZXJpZiIgZm9udC1zaXplPSIxNC4wMCIgZmlsbD0iIzAwMDAwMCI+NDwvdGV4dD4KPC9nPgo8IS0tIDImIzQ1OyZndDszIC0tPgo8ZyBpZD0iZWRnZTMiIGNsYXNzPSJlZGdlIj4KPHRpdGxlPjImIzQ1OyZndDszPC90aXRsZT4KPHBhdGggZmlsbD0ibm9uZSIgc3Ryb2tlPSIjMDAwMDAwIiBkPSJNNjIuMzQ1OSwtMTc0LjYyNDlDNTQuMjU2NSwtMTYxLjc0MTggNDIuNTY0NSwtMTQzLjEyMTMgMzMuMjE2OCwtMTI4LjIzNDIiLz4KPHBvbHlnb24gZmlsbD0iIzAwMDAwMCIgc3Ryb2tlPSIjMDAwMDAwIiBwb2ludHM9IjM2LjAzNDUsLTEyNi4xMzk2IDI3Ljc1MjYsLTExOS41MzE5IDMwLjEwNjIsLTEyOS44NjIgMzYuMDM0NSwtMTI2LjEzOTYiLz4KPHRleHQgdGV4dC1hbmNob3I9Im1pZGRsZSIgeD0iNTIuNSIgeT0iLTE0Mi44IiBmb250LWZhbWlseT0iVGltZXMsc2VyaWYiIGZvbnQtc2l6ZT0iMTQuMDAiIGZpbGw9IiMwMDAwMDAiPiQ8L3RleHQ+CjwvZz4KPCEtLSA0IC0tPgo8ZyBpZD0ibm9kZTUiIGNsYXNzPSJub2RlIj4KPHRpdGxlPjQ8L3RpdGxlPgo8ZWxsaXBzZSBmaWxsPSJub25lIiBzdHJva2U9IiMwMDAwMDAiIGN4PSI3MiIgY3k9Ii0xMDQiIHJ4PSIxOCIgcnk9IjE4Ii8+Cjx0ZXh0IHRleHQtYW5jaG9yPSJtaWRkbGUiIHg9IjcyIiB5PSItOTkuOCIgZm9udC1mYW1pbHk9IlRpbWVzLHNlcmlmIiBmb250LXNpemU9IjE0LjAwIiBmaWxsPSIjMDAwMDAwIj4xPC90ZXh0Pgo8L2c+CjwhLS0gMiYjNDU7Jmd0OzQgLS0+CjxnIGlkPSJlZGdlNCIgY2xhc3M9ImVkZ2UiPgo8dGl0bGU+MiYjNDU7Jmd0OzQ8L3RpdGxlPgo8cGF0aCBmaWxsPSJub25lIiBzdHJva2U9IiMwMDAwMDAiIGQ9Ik03MiwtMTcxLjc2MTZDNzIsLTE2MC4zNTk3IDcyLC0xNDUuNDM0MiA3MiwtMTMyLjQ5NCIvPgo8cG9seWdvbiBmaWxsPSIjMDAwMDAwIiBzdHJva2U9IiMwMDAwMDAiIHBvaW50cz0iNzUuNTAwMSwtMTMyLjIxMjEgNzIsLTEyMi4yMTIxIDY4LjUwMDEsLTEzMi4yMTIxIDc1LjUwMDEsLTEzMi4yMTIxIi8+Cjx0ZXh0IHRleHQtYW5jaG9yPSJtaWRkbGUiIHg9Ijg1LjIxMzkiIHk9Ii0xNDIuOCIgZm9udC1mYW1pbHk9IlRpbWVzLHNlcmlmIiBmb250LXNpemU9IjE0LjAwIiBmaWxsPSIjMDAwMDAwIj5hYmEkPC90ZXh0Pgo8L2c+CjwhLS0gNiAtLT4KPGcgaWQ9Im5vZGU3IiBjbGFzcz0ibm9kZSI+Cjx0aXRsZT42PC90aXRsZT4KPGVsbGlwc2UgZmlsbD0ibm9uZSIgc3Ryb2tlPSIjMDAwMDAwIiBjeD0iMTI2IiBjeT0iLTEwNCIgcng9IjE4IiByeT0iMTgiLz4KPHRleHQgdGV4dC1hbmNob3I9Im1pZGRsZSIgeD0iMTI2IiB5PSItOTkuOCIgZm9udC1mYW1pbHk9IlRpbWVzLHNlcmlmIiBmb250LXNpemU9IjE0LjAwIiBmaWxsPSIjMDAwMDAwIj41PC90ZXh0Pgo8L2c+CjwhLS0gNSYjNDU7Jmd0OzYgLS0+CjxnIGlkPSJlZGdlNiIgY2xhc3M9ImVkZ2UiPgo8dGl0bGU+NSYjNDU7Jmd0OzY8L3RpdGxlPgo8cGF0aCBmaWxsPSJub25lIiBzdHJva2U9IiMwMDAwMDAiIGQ9Ik0xNDYuMDM3NCwtMTczLjI5NjRDMTQzLjY0OTksLTE2Ny4yNjk5IDE0MS4wNjI1LC0xNjAuMzgwOSAxMzksLTE1NCAxMzYuNjc1LC0xNDYuODA3MSAxMzQuNDcxOSwtMTM4LjkzMDkgMTMyLjU2MjQsLTEzMS42MDEiLz4KPHBvbHlnb24gZmlsbD0iIzAwMDAwMCIgc3Ryb2tlPSIjMDAwMDAwIiBwb2ludHM9IjEzNS45MTI4LC0xMzAuNTcyOSAxMzAuMDc2MywtMTIxLjczMDcgMTI5LjEyNDgsLTEzMi4yODI3IDEzNS45MTI4LC0xMzAuNTcyOSIvPgo8dGV4dCB0ZXh0LWFuY2hvcj0ibWlkZGxlIiB4PSIxNDIuNSIgeT0iLTE0Mi44IiBmb250LWZhbWlseT0iVGltZXMsc2VyaWYiIGZvbnQtc2l6ZT0iMTQuMDAiIGZpbGw9IiMwMDAwMDAiPiQ8L3RleHQ+CjwvZz4KPCEtLSA3IC0tPgo8ZyBpZD0ibm9kZTgiIGNsYXNzPSJub2RlIj4KPHRpdGxlPjc8L3RpdGxlPgo8ZWxsaXBzZSBmaWxsPSJub25lIiBzdHJva2U9IiMwMDAwMDAiIGN4PSIxODAiIGN5PSItMTA0IiByeD0iMTgiIHJ5PSIxOCIvPgo8L2c+CjwhLS0gNSYjNDU7Jmd0OzcgLS0+CjxnIGlkPSJlZGdlNyIgY2xhc3M9ImVkZ2UiPgo8dGl0bGU+NSYjNDU7Jmd0Ozc8L3RpdGxlPgo8cGF0aCBmaWxsPSJub25lIiBzdHJva2U9IiMwMDAwMDAiIGQ9Ik0xNTguNDYzOSwtMTcyLjU5NjZDMTYyLjE5NjcsLTE2MC43MDY4IDE2Ny4yMTg0LC0xNDQuNzExNyAxNzEuNDczNywtMTMxLjE1NzkiLz4KPHBvbHlnb24gZmlsbD0iIzAwMDAwMCIgc3Ryb2tlPSIjMDAwMDAwIiBwb2ludHM9IjE3NC44ODgxLC0xMzEuOTY2OCAxNzQuNTQ0MywtMTIxLjM3NzUgMTY4LjIwOTUsLTEyOS44Njk5IDE3NC44ODgxLC0xMzEuOTY2OCIvPgo8dGV4dCB0ZXh0LWFuY2hvcj0ibWlkZGxlIiB4PSIxNzUuNjA2OSIgeT0iLTE0Mi44IiBmb250LWZhbWlseT0iVGltZXMsc2VyaWYiIGZvbnQtc2l6ZT0iMTQuMDAiIGZpbGw9IiMwMDAwMDAiPmJhPC90ZXh0Pgo8L2c+CjwhLS0gMTAgLS0+CjxnIGlkPSJub2RlMTEiIGNsYXNzPSJub2RlIj4KPHRpdGxlPjEwPC90aXRsZT4KPGVsbGlwc2UgZmlsbD0ibm9uZSIgc3Ryb2tlPSIjMDAwMDAwIiBjeD0iMjM0IiBjeT0iLTEwNCIgcng9IjE4IiByeT0iMTgiLz4KPHRleHQgdGV4dC1hbmNob3I9Im1pZGRsZSIgeD0iMjM0IiB5PSItOTkuOCIgZm9udC1mYW1pbHk9IlRpbWVzLHNlcmlmIiBmb250LXNpemU9IjE0LjAwIiBmaWxsPSIjMDAwMDAwIj4yPC90ZXh0Pgo8L2c+CjwhLS0gNSYjNDU7Jmd0OzEwIC0tPgo8ZyBpZD0iZWRnZTEwIiBjbGFzcz0iZWRnZSI+Cjx0aXRsZT41JiM0NTsmZ3Q7MTA8L3RpdGxlPgo8cGF0aCBmaWxsPSJub25lIiBzdHJva2U9IiMwMDAwMDAiIGQ9Ik0xNjUuNjU2MywtMTc2LjU2MjVDMTc4LjczMzUsLTE2Mi42NzggMTk5LjMxNzYsLTE0MC44MjMzIDIxNC40ODA5LC0xMjQuNzI0Ii8+Cjxwb2x5Z29uIGZpbGw9IiMwMDAwMDAiIHN0cm9rZT0iIzAwMDAwMCIgcG9pbnRzPSIyMTcuMTI0MSwtMTI3LjAyMjQgMjIxLjQzMjYsLTExNy4zNDMxIDIxMi4wMjg1LC0xMjIuMjIzIDIxNy4xMjQxLC0xMjcuMDIyNCIvPgo8dGV4dCB0ZXh0LWFuY2hvcj0ibWlkZGxlIiB4PSIyMTIuMjEzOSIgeT0iLTE0Mi44IiBmb250LWZhbWlseT0iVGltZXMsc2VyaWYiIGZvbnQtc2l6ZT0iMTQuMDAiIGZpbGw9IiMwMDAwMDAiPmFiYSQ8L3RleHQ+CjwvZz4KPCEtLSA4IC0tPgo8ZyBpZD0ibm9kZTkiIGNsYXNzPSJub2RlIj4KPHRpdGxlPjg8L3RpdGxlPgo8ZWxsaXBzZSBmaWxsPSJub25lIiBzdHJva2U9IiMwMDAwMDAiIGN4PSIxNTMiIGN5PSItMTgiIHJ4PSIxOCIgcnk9IjE4Ii8+Cjx0ZXh0IHRleHQtYW5jaG9yPSJtaWRkbGUiIHg9IjE1MyIgeT0iLTEzLjgiIGZvbnQtZmFtaWx5PSJUaW1lcyxzZXJpZiIgZm9udC1zaXplPSIxNC4wMCIgZmlsbD0iIzAwMDAwMCI+MzwvdGV4dD4KPC9nPgo8IS0tIDcmIzQ1OyZndDs4IC0tPgo8ZyBpZD0iZWRnZTgiIGNsYXNzPSJlZGdlIj4KPHRpdGxlPjcmIzQ1OyZndDs4PC90aXRsZT4KPHBhdGggZmlsbD0ibm9uZSIgc3Ryb2tlPSIjMDAwMDAwIiBkPSJNMTc0LjUzNjEsLTg2LjU5NjZDMTcwLjgwMzMsLTc0LjcwNjggMTY1Ljc4MTYsLTU4LjcxMTcgMTYxLjUyNjMsLTQ1LjE1NzkiLz4KPHBvbHlnb24gZmlsbD0iIzAwMDAwMCIgc3Ryb2tlPSIjMDAwMDAwIiBwb2ludHM9IjE2NC43OTA1LC00My44Njk5IDE1OC40NTU3LC0zNS4zNzc1IDE1OC4xMTE5LC00NS45NjY4IDE2NC43OTA1LC00My44Njk5Ii8+Cjx0ZXh0IHRleHQtYW5jaG9yPSJtaWRkbGUiIHg9IjE3Mi41IiB5PSItNTYuOCIgZm9udC1mYW1pbHk9IlRpbWVzLHNlcmlmIiBmb250LXNpemU9IjE0LjAwIiBmaWxsPSIjMDAwMDAwIj4kPC90ZXh0Pgo8L2c+CjwhLS0gOSAtLT4KPGcgaWQ9Im5vZGUxMCIgY2xhc3M9Im5vZGUiPgo8dGl0bGU+OTwvdGl0bGU+CjxlbGxpcHNlIGZpbGw9Im5vbmUiIHN0cm9rZT0iIzAwMDAwMCIgY3g9IjIwNyIgY3k9Ii0xOCIgcng9IjE4IiByeT0iMTgiLz4KPHRleHQgdGV4dC1hbmNob3I9Im1pZGRsZSIgeD0iMjA3IiB5PSItMTMuOCIgZm9udC1mYW1pbHk9IlRpbWVzLHNlcmlmIiBmb250LXNpemU9IjE0LjAwIiBmaWxsPSIjMDAwMDAwIj4wPC90ZXh0Pgo8L2c+CjwhLS0gNyYjNDU7Jmd0OzkgLS0+CjxnIGlkPSJlZGdlOSIgY2xhc3M9ImVkZ2UiPgo8dGl0bGU+NyYjNDU7Jmd0Ozk8L3RpdGxlPgo8cGF0aCBmaWxsPSJub25lIiBzdHJva2U9IiMwMDAwMDAiIGQ9Ik0xODUuNDYzOSwtODYuNTk2NkMxODkuMTk2NywtNzQuNzA2OCAxOTQuMjE4NCwtNTguNzExNyAxOTguNDczNywtNDUuMTU3OSIvPgo8cG9seWdvbiBmaWxsPSIjMDAwMDAwIiBzdHJva2U9IiMwMDAwMDAiIHBvaW50cz0iMjAxLjg4ODEsLTQ1Ljk2NjggMjAxLjU0NDMsLTM1LjM3NzUgMTk1LjIwOTUsLTQzLjg2OTkgMjAxLjg4ODEsLTQ1Ljk2NjgiLz4KPHRleHQgdGV4dC1hbmNob3I9Im1pZGRsZSIgeD0iMjA5LjIxMzkiIHk9Ii01Ni44IiBmb250LWZhbWlseT0iVGltZXMsc2VyaWYiIGZvbnQtc2l6ZT0iMTQuMDAiIGZpbGw9IiMwMDAwMDAiPmFiYSQ8L3RleHQ+CjwvZz4KPC9nPgo8L3N2Zz4K\n"
      ]
     },
     "metadata": {},
     "output_type": "display_data"
    }
   ],
   "source": [
    "%dotstr stree.to_dot()"
   ]
  },
  {
   "cell_type": "markdown",
   "metadata": {
    "colab_type": "text",
    "id": "V-NaSdygGb7Z"
   },
   "source": [
    "Now that we have a suffix tree implementation we can go back to LZ76 parsing algorithm. "
   ]
  },
  {
   "cell_type": "markdown",
   "metadata": {
    "colab_type": "text",
    "id": "lupDGRoNGxDT"
   },
   "source": [
    "# Naive LZ76 parsing algorithm\n",
    "\n",
    "The algorithm relies on the suffix tree (ST) for string $T$ to find longest prefix of $T[i,n]$. \n",
    "\n",
    "1. Build an ST for string $T$;\n",
    "\n",
    "2. Number each internal node $v$ with $c_v$, the smallest number of all the suffixes in $v$´s subtree; this way, $c_v$ is the left most position in $T$ of any copy of the substring on the path from root to node $v$;\n",
    "\n",
    "3. To obtain the encoding (position, length) for the substring $T[i, n]$, whith $0 \\leq i \\leq n$, do:\n",
    "\n",
    "  a. Follow the only path from the root that matches the prefix $T[i, n]$;\n",
    "\n",
    "  b. The traversal stops at point $p$ which not necessarily is a node, when a character breaks the match; let depth(p) be the length of the string from the root to p and v the first node at of below p;\n",
    "\n",
    "  c. Do position <- $c_v$ and length <- depth(p);\n",
    "\n",
    "  d. Output encoding (position, length, S[j]), with $j=i+length$;\n",
    "\n",
    "  e. Do i <- j+1; if i = n stop; else goto 3."
   ]
  },
  {
   "cell_type": "markdown",
   "metadata": {
    "colab_type": "text",
    "id": "GmxyNP6rxADf"
   },
   "source": [
    "1. Build an ST for string $T$;\n",
    "\n",
    "2. Number each internal node $v$ with $c_v$, the smallest number of all the suffixes in $v$´s subtree; this way, $c_v$ is the left most position in $T$ of any copy of the substring on the path from root to node $v$;\n",
    "\n",
    "3. To obtain the encoding (position, length) for the substring $T[i, n]$, whith $0 \\leq i \\leq n$, do:\n",
    "\n",
    "  a. Follow the only path from the root that matches the prefix $T[i, n]$;\n",
    "\n",
    "  b. The traversal stops at point $p$ which not necessarily is a node, when a character breaks the match; let depth(p) be the length of the string from the root to p and v the first node at of below p;\n",
    "\n",
    "  c. Do position <- $c_v$ and length <- depth(p);\n",
    "\n",
    "  d. Output encoding (position, length, S[j]), with $j=i+length$;\n",
    "\n",
    "  e. Do i <- j+1; if i = n stop; else goto 3."
   ]
  },
  {
   "cell_type": "code",
   "execution_count": 0,
   "metadata": {
    "colab": {},
    "colab_type": "code",
    "id": "cERMLTiNoz0h"
   },
   "outputs": [],
   "source": [
    "from collections import defaultdict\n",
    "\n",
    "class SuffixTreeLZ76(object):\n",
    "  class Node(object):\n",
    "    def __init__(self, lab, idx):\n",
    "      self.lab = lab # label on path leading to this node\n",
    "      self.out = {}  # outgoing edges; maps characters to nodes\n",
    "      self.idx = idx\n",
    "      \n",
    "    #def __hash__(self):\n",
    "    #    return hash((self.lab, self.out, self.idx))\n",
    "\n",
    "    #def __eq__(self, other):\n",
    "    #    if not isinstance(other, type(self)): return NotImplemented\n",
    "    #    return self.lab == other.lab and self.out == other.out and self.idx == other.idx\n",
    "      \n",
    "  def __init__(self, s):\n",
    "    s += '$'\n",
    "    self.root = self.Node(None, None)\n",
    "    self.root.out[s[0]] = self.Node(s, 0) # trie for just longest suffix\n",
    "    # add the rest of the suffixes, from longest to shortest\n",
    "    for i in range(1, len(s)):\n",
    "      # start at root; we'll walking down as far as we can go\n",
    "      cur = self.root\n",
    "      j = i\n",
    "      while j < len(s):\n",
    "        if s[j] in cur.out:\n",
    "          child = cur.out[s[j]]\n",
    "          lab = child.lab\n",
    "          # walk along edge until we exhaust edge label or until we mismatch\n",
    "          k = j+1\n",
    "          while k-j < len(lab) and s[k] == lab[k-j]:\n",
    "            k += 1\n",
    "          if k-j == len(lab):\n",
    "            cur = child # we exhausted the edge\n",
    "            j = k\n",
    "          else:\n",
    "            # we fell off in middle of edge\n",
    "            cExist, cNew = lab[k-j], s[k]\n",
    "            # create \"mid\": new node bisecting edge\n",
    "            mid = self.Node(lab[:k-j], None)\n",
    "            mid.out[cNew] = self.Node(s[k:], i)\n",
    "            # original child becomes mid's child\n",
    "            mid.out[cExist] = child\n",
    "            # original child's label is curtailed\n",
    "            child.lab = lab[k-j:]\n",
    "            # mid becomes new child of original parent\n",
    "            cur.out[s[j]] = mid\n",
    "        else:\n",
    "          # Fell off tree at a node: make new edge hanging off it\n",
    "          cur.out[s[j]] = self.Node(s[j:],i)\n",
    "\n",
    "  def followPath(self, s):\n",
    "    \"\"\" Follow path given by s.  If we fall off tree, return None.  If we\n",
    "        finish mid-edge, return (node, offset) where 'node' is child and\n",
    "        'offset' is label offset.  If we finish on a node, return (node,\n",
    "        None). \"\"\"\n",
    "    cur = self.root\n",
    "    i = 0\n",
    "    while i < len(s):\n",
    "        c = s[i]\n",
    "        if c not in cur.out:\n",
    "            return (None, None) # fell off at a node\n",
    "        child = cur.out[s[i]]\n",
    "        lab = child.lab\n",
    "        j = i+1\n",
    "        while j-i < len(lab) and j < len(s) and s[j] == lab[j-i]:\n",
    "            j += 1\n",
    "        if j-i == len(lab):\n",
    "            cur = child # exhausted edge\n",
    "            i = j\n",
    "        elif j == len(s):\n",
    "            return (child, j-i) # exhausted query string in middle of edge\n",
    "        else:\n",
    "            return (None, None) # fell off in the middle of the edge\n",
    "    return (cur, None) # exhausted query string at internal node\n",
    "\n",
    "  def followPathMod(self, s):\n",
    "    \"\"\" Follow path given by s.  If we fall off tree, return None.  If we\n",
    "        finish mid-edge, return (node, offset) where 'node' is child and\n",
    "        'offset' is label offset.  If we finish on a node, return (node,\n",
    "        None). \"\"\"\n",
    "    cur = self.root\n",
    "    i = 0\n",
    "    parent = None # the root not doesnt have parent node\n",
    "    cvs = []\n",
    "    path_labs = defaultdict(list)\n",
    "    while i < len(s):\n",
    "        c = s[i]\n",
    "        if c not in cur.out:\n",
    "            return (None, None) # fell off at a node\n",
    "        child = cur.out[s[i]]\n",
    "        lab = child.lab\n",
    "        idx = child.idx\n",
    "        cvs.append(idx)\n",
    "        path_labs[idx].append(lab)\n",
    "        j = i+1\n",
    "        while j-i < len(lab) and j < len(s) and s[j] == lab[j-i]:\n",
    "            j += 1\n",
    "        if j-i == len(lab):\n",
    "            parent = cur\n",
    "            cur = child # exhausted edge\n",
    "            i = j\n",
    "        elif j == len(s):\n",
    "            return (cur, j-i, path_labs) # exhausted query string in middle of edge\n",
    "        else:\n",
    "            return (None, None, path_labs) # fell off in the middle of the edge\n",
    "    return (parent, None, path_labs) # exhausted query string at internal node\n",
    "  \n",
    "  def LZ76encoder(self, t):\n",
    "    \"\"\" Performing the LZ76 parsing of T[1,n]. Outputs the $z$ of the\n",
    "     LZ76 parsing of T.\n",
    "    \"\"\"\n",
    "    i = 0\n",
    "    phrases = []\n",
    "    while i < len(t):\n",
    "      if i == 0:\n",
    "        phrases.append(t[0])\n",
    "        i+=1\n",
    "      else:  \n",
    "        right_substring = t[i:2*i]\n",
    "        node_end, offset, lcvs = self.followPathMod(right_substring)\n",
    "        #print(\"i=\",i, right_substring, node_end.idx, lcvs)\n",
    "        if len(lcvs) == 1 and list(lcvs.keys())[0] == i:\n",
    "   #       print(t[i])\n",
    "          phrases.append(t[i])\n",
    "          i += 1\n",
    "        else:\n",
    "          repi = ''.join(lcvs[min(lcvs)])\n",
    "          li = len(repi)\n",
    "          if li >= i:\n",
    "           # print(\"Here\")\n",
    "           # print(\"First\",i, repi, li)\n",
    "            offset = (li-i) + 1\n",
    "            if offset == 1:\n",
    "              repi = repi[0]\n",
    "            else:\n",
    "              repi = repi[:-offset]\n",
    "            li = len(repi)\n",
    "           # print(\"Second\",i, repi, li)\n",
    "          phrases.append((min(lcvs), li))\n",
    "          i += li\n",
    "    return phrases\n",
    "    \n",
    "  def LZ76decoder(self, phrases):\n",
    "    \"\"\"\"\"\"\n",
    "    T = ''\n",
    "    for z in phrases:\n",
    "      if type(z) == str:\n",
    "        T += z\n",
    "      elif type(z) == tuple:\n",
    "        si, li = z\n",
    "        T += T[si:si+li]\n",
    "    return T\n",
    "          \n",
    "  def hasSubstring(self, s):\n",
    "      \"\"\" Return true iff s appears as a substring \"\"\"\n",
    "      node, off = self.followPath(s)\n",
    "      return node is not None\n",
    "\n",
    "  def hasSuffix(self, s):\n",
    "      \"\"\" Return true iff s is a suffix \"\"\"\n",
    "      node, off = self.followPath(s)\n",
    "      if node is None:\n",
    "          return False # fell off the tree\n",
    "      if off is None:\n",
    "          # finished on top of a node\n",
    "          return '$' in node.out\n",
    "      else:\n",
    "          # finished at offset 'off' within an edge leading to 'node'\n",
    "          return node.lab[off] == '$'\n",
    "\n",
    "  def _iterate_over_nodes(self):\n",
    "    reverse_dict = {}\n",
    "    def _to_iter(node, reverse_dict):\n",
    "        for c, child in node.out.items():\n",
    "          reverse_dict[child] = node\n",
    "          print(\"Node lab={}, id={}\".format(child.lab, child.idx))\n",
    "          _to_iter(child, reverse_dict)\n",
    "    _to_iter(self.root, reverse_dict)\n",
    "    return reverse_dict\n",
    "  \n",
    "  def do_preorder(self):\n",
    "    def preorder_traversal(root):\n",
    "      yield root\n",
    "      for c, child in root.out.items():\n",
    "        yield from preorder_traversal(child)\n",
    "    return preorder_traversal(self.root)\n",
    "  \n",
    "  def do_posorder(self):\n",
    "    def posorder_traversal(root):\n",
    "      for c, child in root.out.items():\n",
    "        yield from posorder_traversal(child)\n",
    "      yield root\n",
    "    return posorder_traversal(self.root)\n",
    "\n",
    "  \n",
    "  def rec_dfs(self, root, S=None):\n",
    "    if S is None: S = set() # Initialize the history\n",
    "    S.add(root) # We've visited s\n",
    "#    print(root.lab, root.idx)\n",
    "    for c, u in root.out.items(): # Explore neighbors\n",
    "      if u in S: continue # Already visited: Skip\n",
    "      self.rec_dfs(u, S) # New: Explore recursively\n",
    "    return S\n",
    "    \n",
    "  def do_rec_dfs(self):\n",
    "    return self.rec_dfs(self.root)\n",
    "  \n",
    "  def enumerate_internal_nodes(self):\n",
    "    stree_pre = list(self.do_preorder())\n",
    "    print([(x.lab, x.idx) for x in stree_pre])\n",
    "    for i in range(len(stree_pre)):\n",
    "      if stree_pre[i].idx is None:\n",
    "        stree_pre[i].idx = min([n.idx for n in stree_pre[i:] if n.idx != None])\n",
    "        \n",
    "  def enumerate_internal_nodes2(self):\n",
    "    stree_pre = list(self.do_posorder())\n",
    "#    print([(x.lab, x.idx) for x in stree_pre])\n",
    "    for i in range(len(stree_pre)):\n",
    "      if stree_pre[i].idx is None:\n",
    "#         print(stree_pre[i].lab, min([x.idx for x in self.rec_dfs(stree_pre[i]) if x.idx != None]))\n",
    "        stree_pre[i].idx = min([x.idx for x in self.rec_dfs(stree_pre[i]) if x.idx != None])\n",
    "#         print(\"=============\")\n",
    "#        stree_pre[i].idx = min([n.idx for n in stree_pre[i:] if n.idx != None])\n",
    "    \n",
    "  def to_dot(self):\n",
    "      \"\"\" Return dot representation of trie to make a picture \"\"\"\n",
    "      lines = []\n",
    "      def _to_dot_helper(node, parid):\n",
    "          childid = parid\n",
    "          for c, child in node.out.items():\n",
    "#              print(c, child)\n",
    "              lines.append('  %d -> %d [ label=\"%s\" ];' % \n",
    "                           (parid, childid+1, child.lab))\n",
    "              if child.idx is not None:\n",
    "                lines.append('  {} [label=\"{}\"];'.format(childid+1, child.idx))\n",
    "              childid = _to_dot_helper(child, childid+1)\n",
    "          return childid\n",
    "      lines.append('digraph \"Suffix trie\" {')\n",
    "      lines.append('  node [shape=circle label=\"\"];')\n",
    "      lines.append('  0 [label=\"{}\"];'.format(self.root.idx))\n",
    "      _to_dot_helper(self.root, 0)\n",
    "      lines.append('}')\n",
    "      return '\\n'.join(lines) + '\\n'\n",
    "    "
   ]
  },
  {
   "cell_type": "code",
   "execution_count": 0,
   "metadata": {
    "colab": {},
    "colab_type": "code",
    "id": "IScMByzCptp-"
   },
   "outputs": [],
   "source": [
    "#stree = SuffixTreeLZ76('abbacbba')\n",
    "#stree = SuffixTreeLZ76('abaaba')\n",
    "stree = SuffixTreeLZ76('mississippi')"
   ]
  },
  {
   "cell_type": "code",
   "execution_count": 0,
   "metadata": {
    "colab": {},
    "colab_type": "code",
    "id": "cmAbNyMTmVND"
   },
   "outputs": [],
   "source": [
    "stree.enumerate_internal_nodes2()"
   ]
  },
  {
   "cell_type": "code",
   "execution_count": 11,
   "metadata": {
    "colab": {
     "base_uri": "https://localhost:8080/",
     "height": 442
    },
    "colab_type": "code",
    "id": "DF_NSl-Qp0OB",
    "outputId": "7b5cb61c-f83f-44fa-a1a4-dbddf350588c"
   },
   "outputs": [
    {
     "data": {
      "image/svg+xml": [
       "<?xml version=\"1.0\" encoding=\"UTF-8\" standalone=\"no\"?>\n",
       "<!DOCTYPE svg PUBLIC \"-//W3C//DTD SVG 1.1//EN\"\n",
       " \"http://www.w3.org/Graphics/SVG/1.1/DTD/svg11.dtd\">\n",
       "<!-- Generated by graphviz version 2.40.1 (20161225.0304)\n",
       " -->\n",
       "<!-- Title: Suffix trie Pages: 1 -->\n",
       "<svg width=\"374pt\" height=\"315pt\"\n",
       " viewBox=\"0.00 0.00 374.00 314.89\" xmlns=\"http://www.w3.org/2000/svg\" xmlns:xlink=\"http://www.w3.org/1999/xlink\">\n",
       "<g id=\"graph0\" class=\"graph\" transform=\"scale(1 1) rotate(0) translate(4 310.8927)\">\n",
       "<title>Suffix trie</title>\n",
       "<polygon fill=\"#ffffff\" stroke=\"transparent\" points=\"-4,4 -4,-310.8927 370,-310.8927 370,4 -4,4\"/>\n",
       "<!-- 0 -->\n",
       "<g id=\"node1\" class=\"node\">\n",
       "<title>0</title>\n",
       "<ellipse fill=\"none\" stroke=\"#000000\" cx=\"219\" cy=\"-288.8927\" rx=\"18\" ry=\"18\"/>\n",
       "<text text-anchor=\"middle\" x=\"219\" y=\"-285.1927\" font-family=\"Times,serif\" font-size=\"14.00\" fill=\"#000000\">0</text>\n",
       "</g>\n",
       "<!-- 1 -->\n",
       "<g id=\"node2\" class=\"node\">\n",
       "<title>1</title>\n",
       "<ellipse fill=\"none\" stroke=\"#000000\" cx=\"75\" cy=\"-199.7445\" rx=\"18\" ry=\"18\"/>\n",
       "<text text-anchor=\"middle\" x=\"75\" y=\"-196.0445\" font-family=\"Times,serif\" font-size=\"14.00\" fill=\"#000000\">0</text>\n",
       "</g>\n",
       "<!-- 0&#45;&gt;1 -->\n",
       "<g id=\"edge1\" class=\"edge\">\n",
       "<title>0&#45;&gt;1</title>\n",
       "<path fill=\"none\" stroke=\"#000000\" d=\"M201.1599,-285.7426C170.7253,-280.0465 110.5472,-267.2815 95,-252.8927 87.7203,-246.1555 83.0735,-236.5049 80.1144,-227.2714\"/>\n",
       "<polygon fill=\"#000000\" stroke=\"#000000\" points=\"83.4857,-226.3299 77.5212,-217.5735 76.7233,-228.1382 83.4857,-226.3299\"/>\n",
       "<text text-anchor=\"middle\" x=\"130\" y=\"-241.6927\" font-family=\"Times,serif\" font-size=\"14.00\" fill=\"#000000\">mississippi$</text>\n",
       "</g>\n",
       "<!-- 2 -->\n",
       "<g id=\"node3\" class=\"node\">\n",
       "<title>2</title>\n",
       "<ellipse fill=\"none\" stroke=\"#000000\" cx=\"129\" cy=\"-199.7445\" rx=\"18\" ry=\"18\"/>\n",
       "<text text-anchor=\"middle\" x=\"129\" y=\"-196.0445\" font-family=\"Times,serif\" font-size=\"14.00\" fill=\"#000000\">1</text>\n",
       "</g>\n",
       "<!-- 0&#45;&gt;2 -->\n",
       "<g id=\"edge2\" class=\"edge\">\n",
       "<title>0&#45;&gt;2</title>\n",
       "<path fill=\"none\" stroke=\"#000000\" d=\"M206.1052,-276.12C191.2685,-261.4237 166.7162,-237.1038 149.3067,-219.859\"/>\n",
       "<polygon fill=\"#000000\" stroke=\"#000000\" points=\"151.4386,-217.0444 141.8709,-212.4936 146.5124,-222.0176 151.4386,-217.0444\"/>\n",
       "<text text-anchor=\"middle\" x=\"185\" y=\"-241.6927\" font-family=\"Times,serif\" font-size=\"14.00\" fill=\"#000000\">i</text>\n",
       "</g>\n",
       "<!-- 8 -->\n",
       "<g id=\"node9\" class=\"node\">\n",
       "<title>8</title>\n",
       "<ellipse fill=\"none\" stroke=\"#000000\" cx=\"219\" cy=\"-199.7445\" rx=\"18\" ry=\"18\"/>\n",
       "<text text-anchor=\"middle\" x=\"219\" y=\"-196.0445\" font-family=\"Times,serif\" font-size=\"14.00\" fill=\"#000000\">2</text>\n",
       "</g>\n",
       "<!-- 0&#45;&gt;8 -->\n",
       "<g id=\"edge8\" class=\"edge\">\n",
       "<title>0&#45;&gt;8</title>\n",
       "<path fill=\"none\" stroke=\"#000000\" d=\"M219,-270.8523C219,-258.5271 219,-241.9466 219,-227.8966\"/>\n",
       "<polygon fill=\"#000000\" stroke=\"#000000\" points=\"222.5001,-227.7581 219,-217.7582 215.5001,-227.7582 222.5001,-227.7581\"/>\n",
       "<text text-anchor=\"middle\" x=\"222\" y=\"-241.6927\" font-family=\"Times,serif\" font-size=\"14.00\" fill=\"#000000\">s</text>\n",
       "</g>\n",
       "<!-- 15 -->\n",
       "<g id=\"node16\" class=\"node\">\n",
       "<title>15</title>\n",
       "<ellipse fill=\"none\" stroke=\"#000000\" cx=\"283\" cy=\"-199.7445\" rx=\"18\" ry=\"18\"/>\n",
       "<text text-anchor=\"middle\" x=\"283\" y=\"-196.0445\" font-family=\"Times,serif\" font-size=\"14.00\" fill=\"#000000\">8</text>\n",
       "</g>\n",
       "<!-- 0&#45;&gt;15 -->\n",
       "<g id=\"edge15\" class=\"edge\">\n",
       "<title>0&#45;&gt;15</title>\n",
       "<path fill=\"none\" stroke=\"#000000\" d=\"M229.5683,-274.1717C239.5736,-260.2349 254.7523,-239.0919 266.3781,-222.8978\"/>\n",
       "<polygon fill=\"#000000\" stroke=\"#000000\" points=\"269.4273,-224.652 272.416,-214.4874 263.7409,-220.5697 269.4273,-224.652\"/>\n",
       "<text text-anchor=\"middle\" x=\"259\" y=\"-241.6927\" font-family=\"Times,serif\" font-size=\"14.00\" fill=\"#000000\">p</text>\n",
       "</g>\n",
       "<!-- 18 -->\n",
       "<g id=\"node19\" class=\"node\">\n",
       "<title>18</title>\n",
       "<ellipse fill=\"none\" stroke=\"#000000\" cx=\"339\" cy=\"-199.7445\" rx=\"20.2975\" ry=\"20.2975\"/>\n",
       "<text text-anchor=\"middle\" x=\"339\" y=\"-196.0445\" font-family=\"Times,serif\" font-size=\"14.00\" fill=\"#000000\">11</text>\n",
       "</g>\n",
       "<!-- 0&#45;&gt;18 -->\n",
       "<g id=\"edge18\" class=\"edge\">\n",
       "<title>0&#45;&gt;18</title>\n",
       "<path fill=\"none\" stroke=\"#000000\" d=\"M233.7144,-277.9614C253.8686,-262.9888 290.3211,-235.9081 314.5967,-217.8738\"/>\n",
       "<polygon fill=\"#000000\" stroke=\"#000000\" points=\"316.6887,-220.6798 322.6288,-211.9067 312.5143,-215.0607 316.6887,-220.6798\"/>\n",
       "<text text-anchor=\"middle\" x=\"291\" y=\"-241.6927\" font-family=\"Times,serif\" font-size=\"14.00\" fill=\"#000000\">$</text>\n",
       "</g>\n",
       "<!-- 3 -->\n",
       "<g id=\"node4\" class=\"node\">\n",
       "<title>3</title>\n",
       "<ellipse fill=\"none\" stroke=\"#000000\" cx=\"18\" cy=\"-107.7982\" rx=\"18\" ry=\"18\"/>\n",
       "<text text-anchor=\"middle\" x=\"18\" y=\"-104.0982\" font-family=\"Times,serif\" font-size=\"14.00\" fill=\"#000000\">7</text>\n",
       "</g>\n",
       "<!-- 2&#45;&gt;3 -->\n",
       "<g id=\"edge3\" class=\"edge\">\n",
       "<title>2&#45;&gt;3</title>\n",
       "<path fill=\"none\" stroke=\"#000000\" d=\"M114.7387,-188.4137C110.714,-185.4076 106.2669,-182.2598 102,-179.5963 87.1616,-170.3337 80.8878,-172.2313 67,-161.5963 55.2866,-152.6264 44.0632,-140.6449 35.3202,-130.2662\"/>\n",
       "<polygon fill=\"#000000\" stroke=\"#000000\" points=\"37.9133,-127.908 28.8784,-122.3744 32.4905,-132.3345 37.9133,-127.908\"/>\n",
       "<text text-anchor=\"middle\" x=\"80.5\" y=\"-150.3963\" font-family=\"Times,serif\" font-size=\"14.00\" fill=\"#000000\">ppi$</text>\n",
       "</g>\n",
       "<!-- 4 -->\n",
       "<g id=\"node5\" class=\"node\">\n",
       "<title>4</title>\n",
       "<ellipse fill=\"none\" stroke=\"#000000\" cx=\"72\" cy=\"-107.7982\" rx=\"18\" ry=\"18\"/>\n",
       "<text text-anchor=\"middle\" x=\"72\" y=\"-104.0982\" font-family=\"Times,serif\" font-size=\"14.00\" fill=\"#000000\">1</text>\n",
       "</g>\n",
       "<!-- 2&#45;&gt;4 -->\n",
       "<g id=\"edge4\" class=\"edge\">\n",
       "<title>2&#45;&gt;4</title>\n",
       "<path fill=\"none\" stroke=\"#000000\" d=\"M119.3307,-184.1471C110.4333,-169.7947 97.1038,-148.293 86.8554,-131.7613\"/>\n",
       "<polygon fill=\"#000000\" stroke=\"#000000\" points=\"89.7702,-129.8204 81.5265,-123.1653 83.8207,-133.5087 89.7702,-129.8204\"/>\n",
       "<text text-anchor=\"middle\" x=\"111.5\" y=\"-150.3963\" font-family=\"Times,serif\" font-size=\"14.00\" fill=\"#000000\">ssi</text>\n",
       "</g>\n",
       "<!-- 7 -->\n",
       "<g id=\"node8\" class=\"node\">\n",
       "<title>7</title>\n",
       "<ellipse fill=\"none\" stroke=\"#000000\" cx=\"129\" cy=\"-107.7982\" rx=\"20.5982\" ry=\"20.5982\"/>\n",
       "<text text-anchor=\"middle\" x=\"129\" y=\"-104.0982\" font-family=\"Times,serif\" font-size=\"14.00\" fill=\"#000000\">10</text>\n",
       "</g>\n",
       "<!-- 2&#45;&gt;7 -->\n",
       "<g id=\"edge7\" class=\"edge\">\n",
       "<title>2&#45;&gt;7</title>\n",
       "<path fill=\"none\" stroke=\"#000000\" d=\"M129,-181.5789C129,-169.4844 129,-153.277 129,-139.1334\"/>\n",
       "<polygon fill=\"#000000\" stroke=\"#000000\" points=\"132.5001,-138.8222 129,-128.8223 125.5001,-138.8223 132.5001,-138.8222\"/>\n",
       "<text text-anchor=\"middle\" x=\"133\" y=\"-150.3963\" font-family=\"Times,serif\" font-size=\"14.00\" fill=\"#000000\">$</text>\n",
       "</g>\n",
       "<!-- 5 -->\n",
       "<g id=\"node6\" class=\"node\">\n",
       "<title>5</title>\n",
       "<ellipse fill=\"none\" stroke=\"#000000\" cx=\"18\" cy=\"-18\" rx=\"18\" ry=\"18\"/>\n",
       "<text text-anchor=\"middle\" x=\"18\" y=\"-14.3\" font-family=\"Times,serif\" font-size=\"14.00\" fill=\"#000000\">4</text>\n",
       "</g>\n",
       "<!-- 4&#45;&gt;5 -->\n",
       "<g id=\"edge5\" class=\"edge\">\n",
       "<title>4&#45;&gt;5</title>\n",
       "<path fill=\"none\" stroke=\"#000000\" d=\"M59.922,-94.4119C53.7858,-87.2056 46.4881,-77.9734 41,-69 36.3163,-61.3419 32.0167,-52.566 28.4343,-44.4777\"/>\n",
       "<polygon fill=\"#000000\" stroke=\"#000000\" points=\"31.5718,-42.9114 24.4427,-35.074 25.1283,-45.6466 31.5718,-42.9114\"/>\n",
       "<text text-anchor=\"middle\" x=\"54.5\" y=\"-57.8\" font-family=\"Times,serif\" font-size=\"14.00\" fill=\"#000000\">ppi$</text>\n",
       "</g>\n",
       "<!-- 6 -->\n",
       "<g id=\"node7\" class=\"node\">\n",
       "<title>6</title>\n",
       "<ellipse fill=\"none\" stroke=\"#000000\" cx=\"72\" cy=\"-18\" rx=\"18\" ry=\"18\"/>\n",
       "<text text-anchor=\"middle\" x=\"72\" y=\"-14.3\" font-family=\"Times,serif\" font-size=\"14.00\" fill=\"#000000\">1</text>\n",
       "</g>\n",
       "<!-- 4&#45;&gt;6 -->\n",
       "<g id=\"edge6\" class=\"edge\">\n",
       "<title>4&#45;&gt;6</title>\n",
       "<path fill=\"none\" stroke=\"#000000\" d=\"M72,-89.6262C72,-77.2112 72,-60.5097 72,-46.3573\"/>\n",
       "<polygon fill=\"#000000\" stroke=\"#000000\" points=\"75.5001,-46.1449 72,-36.145 68.5001,-46.145 75.5001,-46.1449\"/>\n",
       "<text text-anchor=\"middle\" x=\"92.5\" y=\"-57.8\" font-family=\"Times,serif\" font-size=\"14.00\" fill=\"#000000\">ssippi$</text>\n",
       "</g>\n",
       "<!-- 9 -->\n",
       "<g id=\"node10\" class=\"node\">\n",
       "<title>9</title>\n",
       "<ellipse fill=\"none\" stroke=\"#000000\" cx=\"186\" cy=\"-107.7982\" rx=\"18\" ry=\"18\"/>\n",
       "<text text-anchor=\"middle\" x=\"186\" y=\"-104.0982\" font-family=\"Times,serif\" font-size=\"14.00\" fill=\"#000000\">3</text>\n",
       "</g>\n",
       "<!-- 8&#45;&gt;9 -->\n",
       "<g id=\"edge9\" class=\"edge\">\n",
       "<title>8&#45;&gt;9</title>\n",
       "<path fill=\"none\" stroke=\"#000000\" d=\"M212.793,-182.4501C207.9532,-168.9654 201.1463,-149.9997 195.6047,-134.5594\"/>\n",
       "<polygon fill=\"#000000\" stroke=\"#000000\" points=\"198.8516,-133.2448 192.1792,-125.015 192.2631,-135.6095 198.8516,-133.2448\"/>\n",
       "<text text-anchor=\"middle\" x=\"207\" y=\"-150.3963\" font-family=\"Times,serif\" font-size=\"14.00\" fill=\"#000000\">i</text>\n",
       "</g>\n",
       "<!-- 12 -->\n",
       "<g id=\"node13\" class=\"node\">\n",
       "<title>12</title>\n",
       "<ellipse fill=\"none\" stroke=\"#000000\" cx=\"240\" cy=\"-107.7982\" rx=\"18\" ry=\"18\"/>\n",
       "<text text-anchor=\"middle\" x=\"240\" y=\"-104.0982\" font-family=\"Times,serif\" font-size=\"14.00\" fill=\"#000000\">2</text>\n",
       "</g>\n",
       "<!-- 8&#45;&gt;12 -->\n",
       "<g id=\"edge12\" class=\"edge\">\n",
       "<title>8&#45;&gt;12</title>\n",
       "<path fill=\"none\" stroke=\"#000000\" d=\"M223.049,-182.0163C226.0704,-168.7875 230.2553,-150.4644 233.7109,-135.3345\"/>\n",
       "<polygon fill=\"#000000\" stroke=\"#000000\" points=\"237.1489,-136.0002 235.9634,-125.4719 230.3246,-134.4415 237.1489,-136.0002\"/>\n",
       "<text text-anchor=\"middle\" x=\"236\" y=\"-150.3963\" font-family=\"Times,serif\" font-size=\"14.00\" fill=\"#000000\">si</text>\n",
       "</g>\n",
       "<!-- 10 -->\n",
       "<g id=\"node11\" class=\"node\">\n",
       "<title>10</title>\n",
       "<ellipse fill=\"none\" stroke=\"#000000\" cx=\"134\" cy=\"-18\" rx=\"18\" ry=\"18\"/>\n",
       "<text text-anchor=\"middle\" x=\"134\" y=\"-14.3\" font-family=\"Times,serif\" font-size=\"14.00\" fill=\"#000000\">6</text>\n",
       "</g>\n",
       "<!-- 9&#45;&gt;10 -->\n",
       "<g id=\"edge10\" class=\"edge\">\n",
       "<title>9&#45;&gt;10</title>\n",
       "<path fill=\"none\" stroke=\"#000000\" d=\"M173.9893,-94.0349C168.1054,-86.8766 161.1893,-77.8016 156,-69 151.4737,-61.3229 147.3481,-52.5418 143.9239,-44.4545\"/>\n",
       "<polygon fill=\"#000000\" stroke=\"#000000\" points=\"147.1144,-43.0083 140.1152,-35.0546 140.6268,-45.6371 147.1144,-43.0083\"/>\n",
       "<text text-anchor=\"middle\" x=\"169.5\" y=\"-57.8\" font-family=\"Times,serif\" font-size=\"14.00\" fill=\"#000000\">ppi$</text>\n",
       "</g>\n",
       "<!-- 11 -->\n",
       "<g id=\"node12\" class=\"node\">\n",
       "<title>11</title>\n",
       "<ellipse fill=\"none\" stroke=\"#000000\" cx=\"188\" cy=\"-18\" rx=\"18\" ry=\"18\"/>\n",
       "<text text-anchor=\"middle\" x=\"188\" y=\"-14.3\" font-family=\"Times,serif\" font-size=\"14.00\" fill=\"#000000\">3</text>\n",
       "</g>\n",
       "<!-- 9&#45;&gt;11 -->\n",
       "<g id=\"edge11\" class=\"edge\">\n",
       "<title>9&#45;&gt;11</title>\n",
       "<path fill=\"none\" stroke=\"#000000\" d=\"M186.3007,-89.372C186.4807,-78.9836 186.7272,-65.7672 187,-54 187.0562,-51.5739 187.1184,-49.056 187.1834,-46.5298\"/>\n",
       "<polygon fill=\"#000000\" stroke=\"#000000\" points=\"190.688,-46.404 187.4588,-36.3133 183.6905,-46.2153 190.688,-46.404\"/>\n",
       "<text text-anchor=\"middle\" x=\"207.5\" y=\"-57.8\" font-family=\"Times,serif\" font-size=\"14.00\" fill=\"#000000\">ssippi$</text>\n",
       "</g>\n",
       "<!-- 13 -->\n",
       "<g id=\"node14\" class=\"node\">\n",
       "<title>13</title>\n",
       "<ellipse fill=\"none\" stroke=\"#000000\" cx=\"250\" cy=\"-18\" rx=\"18\" ry=\"18\"/>\n",
       "<text text-anchor=\"middle\" x=\"250\" y=\"-14.3\" font-family=\"Times,serif\" font-size=\"14.00\" fill=\"#000000\">5</text>\n",
       "</g>\n",
       "<!-- 12&#45;&gt;13 -->\n",
       "<g id=\"edge13\" class=\"edge\">\n",
       "<title>12&#45;&gt;13</title>\n",
       "<path fill=\"none\" stroke=\"#000000\" d=\"M242.0236,-89.6262C243.4062,-77.2112 245.2661,-60.5097 246.8421,-46.3573\"/>\n",
       "<polygon fill=\"#000000\" stroke=\"#000000\" points=\"250.351,-46.4709 247.9794,-36.145 243.394,-45.6961 250.351,-46.4709\"/>\n",
       "<text text-anchor=\"middle\" x=\"259.5\" y=\"-57.8\" font-family=\"Times,serif\" font-size=\"14.00\" fill=\"#000000\">ppi$</text>\n",
       "</g>\n",
       "<!-- 14 -->\n",
       "<g id=\"node15\" class=\"node\">\n",
       "<title>14</title>\n",
       "<ellipse fill=\"none\" stroke=\"#000000\" cx=\"304\" cy=\"-18\" rx=\"18\" ry=\"18\"/>\n",
       "<text text-anchor=\"middle\" x=\"304\" y=\"-14.3\" font-family=\"Times,serif\" font-size=\"14.00\" fill=\"#000000\">2</text>\n",
       "</g>\n",
       "<!-- 12&#45;&gt;14 -->\n",
       "<g id=\"edge14\" class=\"edge\">\n",
       "<title>12&#45;&gt;14</title>\n",
       "<path fill=\"none\" stroke=\"#000000\" d=\"M253.6303,-95.3059C261.0746,-88.0631 270.1449,-78.5156 277,-69 282.6163,-61.204 287.8139,-52.0915 292.1183,-43.7429\"/>\n",
       "<polygon fill=\"#000000\" stroke=\"#000000\" points=\"295.2692,-45.267 296.5734,-34.7527 288.9971,-42.1589 295.2692,-45.267\"/>\n",
       "<text text-anchor=\"middle\" x=\"307.5\" y=\"-57.8\" font-family=\"Times,serif\" font-size=\"14.00\" fill=\"#000000\">ssippi$</text>\n",
       "</g>\n",
       "<!-- 16 -->\n",
       "<g id=\"node17\" class=\"node\">\n",
       "<title>16</title>\n",
       "<ellipse fill=\"none\" stroke=\"#000000\" cx=\"294\" cy=\"-107.7982\" rx=\"18\" ry=\"18\"/>\n",
       "<text text-anchor=\"middle\" x=\"294\" y=\"-104.0982\" font-family=\"Times,serif\" font-size=\"14.00\" fill=\"#000000\">9</text>\n",
       "</g>\n",
       "<!-- 15&#45;&gt;16 -->\n",
       "<g id=\"edge16\" class=\"edge\">\n",
       "<title>15&#45;&gt;16</title>\n",
       "<path fill=\"none\" stroke=\"#000000\" d=\"M285.1732,-181.5789C286.725,-168.6078 288.8428,-150.9059 290.615,-136.0928\"/>\n",
       "<polygon fill=\"#000000\" stroke=\"#000000\" points=\"294.1185,-136.271 291.8313,-125.9261 287.1681,-135.4395 294.1185,-136.271\"/>\n",
       "<text text-anchor=\"middle\" x=\"296\" y=\"-150.3963\" font-family=\"Times,serif\" font-size=\"14.00\" fill=\"#000000\">i$</text>\n",
       "</g>\n",
       "<!-- 17 -->\n",
       "<g id=\"node18\" class=\"node\">\n",
       "<title>17</title>\n",
       "<ellipse fill=\"none\" stroke=\"#000000\" cx=\"348\" cy=\"-107.7982\" rx=\"18\" ry=\"18\"/>\n",
       "<text text-anchor=\"middle\" x=\"348\" y=\"-104.0982\" font-family=\"Times,serif\" font-size=\"14.00\" fill=\"#000000\">8</text>\n",
       "</g>\n",
       "<!-- 15&#45;&gt;17 -->\n",
       "<g id=\"edge17\" class=\"edge\">\n",
       "<title>15&#45;&gt;17</title>\n",
       "<path fill=\"none\" stroke=\"#000000\" d=\"M293.4434,-184.9717C303.7726,-170.3605 319.7298,-147.788 331.723,-130.8229\"/>\n",
       "<polygon fill=\"#000000\" stroke=\"#000000\" points=\"334.6679,-132.7203 337.5825,-122.5343 328.952,-128.6795 334.6679,-132.7203\"/>\n",
       "<text text-anchor=\"middle\" x=\"329.5\" y=\"-150.3963\" font-family=\"Times,serif\" font-size=\"14.00\" fill=\"#000000\">pi$</text>\n",
       "</g>\n",
       "</g>\n",
       "</svg>\n"
      ]
     },
     "metadata": {
      "tags": []
     },
     "output_type": "display_data"
    }
   ],
   "source": [
    "%dotstr stree.to_dot()"
   ]
  },
  {
   "cell_type": "code",
   "execution_count": 0,
   "metadata": {
    "colab": {},
    "colab_type": "code",
    "id": "Rz1c4Mitq2qt"
   },
   "outputs": [],
   "source": []
  },
  {
   "cell_type": "markdown",
   "metadata": {
    "colab_type": "text",
    "id": "ufCwi0lEA1_d"
   },
   "source": [
    "1. Construir a árvore de sufixos\n",
    "\n",
    "2. Enumerar os nós internos com o menor valor encontrado em sua subárvore.\n",
    "\n",
    "3. Varremos a string T em busca da substring encontrada anteriormente. Para cada i em T temos a substring a seguir, T[i:m], onde m é o tamanho da palavra.\n",
    "\n",
    "  3.1. Seguimos o caminho na árvore de sufixo correspondente a subpalavra T[i:m] mantendo o menor valor encontrado nos nós internos percorridos (ps: o valor encontrado nas leafs não nos interessa).\n",
    "\n",
    "  3.2. Quando o menor valor encontrado é igual ao índice da palavra, isso quer dizer que o caractere correspondente ao índice i não foi encontrado anteriormente. Output esse caractere.\n",
    "  \n",
    "  3.3. Quando não nos deparamos com nós internos ao longo do caminho de match, significa que tmb nao encontramos o caractere i anteriormente. Output i.\n",
    "  \n",
    "  3.4. Quando nos deparamos com um caminho com mais de um nó interno com mesmo valor. Output do conjunto de labels que correspondem a estes nós. Output (posicao = menor valor encontrado, tamanho da string correspondente aos nós de menor valor encontrado)\n",
    "  \n",
    "  3.5. Pulamos os caracteres de output e continuamos com o algoritmo até percorrer toda a string.\n",
    "  \n",
    "  \n",
    "**Implementation details**: I dont know if the complexity time is $O(m)$ because my implementation is matching every $T[i..m]$ for all i $\\in$ {0..m}. So, maybe it's complexity is growing in order $m^2$ instead of $m$. But, when I find a previous matche, i.e. a portion of the text that can be compressed, the algorithm jumps the lenght of the compressed part. This may be contributing to lower the running time.\n",
    "\n",
    "The algorithm perform the enumeration of all internal nodes through the creation of a subtree for each internal node, and them keeps the minimum value found in a leaf belonging to the subtree. Since we have to enumerate the internal nodes from in a bottom-up fashion we first sort the nodes in pos-order. We iterate over the pos-order vector of nodes creating the subtree for each internal node found.\n",
    "\n",
    "I've used a dictionary to keep track of numbers in the internal nodes encountered and their labels when the algorithm traverses a path from root to $p$. This code is implemented on function `followPathMod()`. This may be a naive method because we always store a dictionary with all the paths and labels and this can be a burden to very deep suffix trees. Another cavet of the implementation was already mentioned and is related to the fact that every time we traverses all the remaining string. This could be avoided contrainting the traverse to a number of characters equal to the index i of $T[i..m]$ because we can only have previous substrings of length $i$."
   ]
  },
  {
   "cell_type": "code",
   "execution_count": 0,
   "metadata": {
    "colab": {},
    "colab_type": "code",
    "id": "xcwFVs5qDBeW"
   },
   "outputs": [],
   "source": [
    "node_end, offset, lcvs = stree.followPathMod('mississippi$')"
   ]
  },
  {
   "cell_type": "code",
   "execution_count": 0,
   "metadata": {
    "colab": {},
    "colab_type": "code",
    "id": "PTRABE1aLk-5"
   },
   "outputs": [],
   "source": [
    "zs = stree.LZ76encoder('mississippi$')"
   ]
  },
  {
   "cell_type": "code",
   "execution_count": 15,
   "metadata": {
    "colab": {
     "base_uri": "https://localhost:8080/",
     "height": 35
    },
    "colab_type": "code",
    "id": "gQ7n96IXwO-F",
    "outputId": "5e583c2c-6c77-49c6-bfa7-5b79cf28d73a"
   },
   "outputs": [
    {
     "data": {
      "text/plain": [
       "['m', 'i', 's', (2, 1), (1, 1), (2, 3), 'p', (8, 1), (1, 1), '$']"
      ]
     },
     "execution_count": 15,
     "metadata": {
      "tags": []
     },
     "output_type": "execute_result"
    }
   ],
   "source": [
    "zs"
   ]
  },
  {
   "cell_type": "code",
   "execution_count": 16,
   "metadata": {
    "colab": {
     "base_uri": "https://localhost:8080/",
     "height": 35
    },
    "colab_type": "code",
    "id": "KZrlwrMxwXxa",
    "outputId": "4b6d35fc-de79-45f1-dc37-0e9fae6dfb3e"
   },
   "outputs": [
    {
     "data": {
      "text/plain": [
       "'mississippi$'"
      ]
     },
     "execution_count": 16,
     "metadata": {
      "tags": []
     },
     "output_type": "execute_result"
    }
   ],
   "source": [
    "stree.LZ76decoder(zs)"
   ]
  },
  {
   "cell_type": "code",
   "execution_count": 0,
   "metadata": {
    "colab": {},
    "colab_type": "code",
    "id": "Zt2lfpgHWE6_"
   },
   "outputs": [],
   "source": [
    "stree = SuffixTreeLZ76('how_can_a_clam_cram_in_a_clean_cream_can')"
   ]
  },
  {
   "cell_type": "code",
   "execution_count": 0,
   "metadata": {
    "colab": {},
    "colab_type": "code",
    "id": "-LjhPgQSMVij"
   },
   "outputs": [],
   "source": [
    "stree.enumerate_internal_nodes2()"
   ]
  },
  {
   "cell_type": "code",
   "execution_count": 0,
   "metadata": {
    "colab": {},
    "colab_type": "code",
    "id": "kHhxInHTWMcQ"
   },
   "outputs": [],
   "source": [
    "zs = stree.LZ76encoder('how_can_a_clam_cram_in_a_clean_cream_can$')"
   ]
  },
  {
   "cell_type": "code",
   "execution_count": 20,
   "metadata": {
    "colab": {
     "base_uri": "https://localhost:8080/",
     "height": 484
    },
    "colab_type": "code",
    "id": "y8Eev5ZfWPYi",
    "outputId": "ef830ac7-6c11-4957-dc6c-70410ddda7f4"
   },
   "outputs": [
    {
     "data": {
      "text/plain": [
       "['h',\n",
       " 'o',\n",
       " 'w',\n",
       " '_',\n",
       " 'c',\n",
       " 'a',\n",
       " 'n',\n",
       " (3, 1),\n",
       " (5, 1),\n",
       " (3, 2),\n",
       " 'l',\n",
       " (5, 1),\n",
       " 'm',\n",
       " (3, 2),\n",
       " 'r',\n",
       " (5, 1),\n",
       " (13, 2),\n",
       " 'i',\n",
       " (6, 6),\n",
       " 'e',\n",
       " (5, 3),\n",
       " (4, 1),\n",
       " (16, 1),\n",
       " (27, 2),\n",
       " (13, 3),\n",
       " (5, 2),\n",
       " '$']"
      ]
     },
     "execution_count": 20,
     "metadata": {
      "tags": []
     },
     "output_type": "execute_result"
    }
   ],
   "source": [
    "zs"
   ]
  },
  {
   "cell_type": "code",
   "execution_count": 21,
   "metadata": {
    "colab": {
     "base_uri": "https://localhost:8080/",
     "height": 35
    },
    "colab_type": "code",
    "id": "fbcKdyehwzVu",
    "outputId": "59f94ee1-4c85-48a8-fd35-3070a05e950f"
   },
   "outputs": [
    {
     "data": {
      "text/plain": [
       "'how_can_a_clam_cram_in_a_clean_cream_can$'"
      ]
     },
     "execution_count": 21,
     "metadata": {
      "tags": []
     },
     "output_type": "execute_result"
    }
   ],
   "source": [
    "stree.LZ76decoder(zs)"
   ]
  },
  {
   "cell_type": "code",
   "execution_count": 22,
   "metadata": {
    "colab": {
     "base_uri": "https://localhost:8080/",
     "height": 173
    },
    "colab_type": "code",
    "id": "EBGp_Xd-w2Y8",
    "outputId": "54231094-cacd-4c52-fc89-56006b8dfb7e"
   },
   "outputs": [
    {
     "name": "stdout",
     "output_type": "stream",
     "text": [
      "Collecting ncbi-acc-download\n",
      "  Downloading https://files.pythonhosted.org/packages/90/51/0eff82de3ccf845ff8cf694614183aa17aac2cf41d7d9fd362bc7a50f3b3/ncbi_acc_download-0.2.5-py2.py3-none-any.whl\n",
      "Requirement already satisfied: requests>=2.4.3 in /usr/local/lib/python3.6/dist-packages (from ncbi-acc-download) (2.21.0)\n",
      "Requirement already satisfied: urllib3<1.25,>=1.21.1 in /usr/local/lib/python3.6/dist-packages (from requests>=2.4.3->ncbi-acc-download) (1.24.3)\n",
      "Requirement already satisfied: certifi>=2017.4.17 in /usr/local/lib/python3.6/dist-packages (from requests>=2.4.3->ncbi-acc-download) (2019.9.11)\n",
      "Requirement already satisfied: chardet<3.1.0,>=3.0.2 in /usr/local/lib/python3.6/dist-packages (from requests>=2.4.3->ncbi-acc-download) (3.0.4)\n",
      "Requirement already satisfied: idna<2.9,>=2.5 in /usr/local/lib/python3.6/dist-packages (from requests>=2.4.3->ncbi-acc-download) (2.8)\n",
      "Installing collected packages: ncbi-acc-download\n",
      "Successfully installed ncbi-acc-download-0.2.5\n"
     ]
    }
   ],
   "source": [
    "! pip install ncbi-acc-download"
   ]
  },
  {
   "cell_type": "code",
   "execution_count": 0,
   "metadata": {
    "colab": {},
    "colab_type": "code",
    "id": "_XWe05Ao-etQ"
   },
   "outputs": [],
   "source": [
    "! ncbi-acc-download -m nucleotide -F fasta NC_001416.1"
   ]
  },
  {
   "cell_type": "code",
   "execution_count": 24,
   "metadata": {
    "colab": {
     "base_uri": "https://localhost:8080/",
     "height": 190
    },
    "colab_type": "code",
    "id": "HNxrSqe0-kiS",
    "outputId": "1fa08a5a-6c19-4a8d-be4c-5d9f0aaa0e6b"
   },
   "outputs": [
    {
     "name": "stdout",
     "output_type": "stream",
     "text": [
      ">NC_001416.1 Enterobacteria phage lambda, complete genome\n",
      "GGGCGGCGACCTCGCGGGTTTTCGCTATTTATGAAAATTTTCCGGTTTAAGGCGTTTCCGTTCTTCTTCG\n",
      "TCATAACTTAATGTTTTTATTTAAAATACCCTCTGAAAAGAAAGGAAACGACAGGTGCTGAAAGCGAGGC\n",
      "TTTTTGGCCTCTGTCGTTTCCTTTCTCTGTTTTTGTCCGTGGAATGAACAATGGAAGTCAACAAAAAGCA\n",
      "GCTGGCTGACATTTTCGGTGCGAGTATCCGTACCATTCAGAACTGGCAGGAACAGGGAATGCCCGTTCTG\n",
      "CGAGGCGGTGGCAAGGGTAATGAGGTGCTTTATGACTCTGCCGCCGTCATAAAATGGTATGCCGAAAGGG\n",
      "ATGCTGAAATTGAGAACGAAAAGCTGCGCCGGGAGGTTGAAGAACTGCGGCAGGCCAGCGAGGCAGATCT\n",
      "CCAGCCAGGAACTATTGAGTACGAACGCCATCGACTTACGCGTGCGCAGGCCGACGCACAGGAACTGAAG\n",
      "AATGCCAGAGACTCCGCTGAAGTGGTGGAAACCGCATTCTGTACTTTCGTGCTGTCGCGGATCGCAGGTG\n",
      "AAATTGCCAGTATTCTCGACGGGCTCCCCCTGTCGGTGCAGCGGCGTTTTCCGGAACTGGAAAACCGACA\n"
     ]
    }
   ],
   "source": [
    "! head NC_001416.1.fa"
   ]
  },
  {
   "cell_type": "code",
   "execution_count": 0,
   "metadata": {
    "colab": {},
    "colab_type": "code",
    "id": "2MO2j7_k_Boq"
   },
   "outputs": [],
   "source": [
    "phage_geno = ''\n",
    "with open('NC_001416.1.fa', 'r') as phagefa:\n",
    "  for line in phagefa.readlines():\n",
    "    if line.startswith('>'):\n",
    "      continue\n",
    "    else:\n",
    "      phage_geno += line.strip('\\n')"
   ]
  },
  {
   "cell_type": "code",
   "execution_count": 26,
   "metadata": {
    "colab": {
     "base_uri": "https://localhost:8080/",
     "height": 35
    },
    "colab_type": "code",
    "id": "i_uvlq9-LVJt",
    "outputId": "a7d65ee1-70e5-446b-b568-86f497224598"
   },
   "outputs": [
    {
     "data": {
      "text/plain": [
       "48502"
      ]
     },
     "execution_count": 26,
     "metadata": {
      "tags": []
     },
     "output_type": "execute_result"
    }
   ],
   "source": [
    "len(phage_geno)"
   ]
  },
  {
   "cell_type": "code",
   "execution_count": 0,
   "metadata": {
    "colab": {},
    "colab_type": "code",
    "id": "_D38RhRp_Pxn"
   },
   "outputs": [],
   "source": [
    "first_500_bp = phage_geno[:500]"
   ]
  },
  {
   "cell_type": "code",
   "execution_count": 0,
   "metadata": {
    "colab": {},
    "colab_type": "code",
    "id": "7WHcvOMs_hJP"
   },
   "outputs": [],
   "source": [
    "phaST = SuffixTreeLZ76(first_500_bp)"
   ]
  },
  {
   "cell_type": "code",
   "execution_count": 0,
   "metadata": {
    "colab": {},
    "colab_type": "code",
    "id": "R2XUJH6JAOE9"
   },
   "outputs": [],
   "source": [
    "phaST.enumerate_internal_nodes2()"
   ]
  },
  {
   "cell_type": "code",
   "execution_count": 0,
   "metadata": {
    "colab": {},
    "colab_type": "code",
    "id": "zofGXZ29Ag1X"
   },
   "outputs": [],
   "source": [
    "first_500_bp_aug = first_500_bp+'$'"
   ]
  },
  {
   "cell_type": "code",
   "execution_count": 0,
   "metadata": {
    "colab": {},
    "colab_type": "code",
    "id": "rPmkOaq3BU0Y"
   },
   "outputs": [],
   "source": [
    "# %dotstr phaST.to_dot()"
   ]
  },
  {
   "cell_type": "code",
   "execution_count": 0,
   "metadata": {
    "colab": {},
    "colab_type": "code",
    "id": "-mI4TJ8VASjm"
   },
   "outputs": [],
   "source": [
    "z = phaST.LZ76encoder(first_500_bp_aug)"
   ]
  },
  {
   "cell_type": "code",
   "execution_count": 33,
   "metadata": {
    "colab": {
     "base_uri": "https://localhost:8080/",
     "height": 35
    },
    "colab_type": "code",
    "id": "NR2drcH6AbX2",
    "outputId": "cae525d3-1f33-4a6a-a2d8-24c11aa66074"
   },
   "outputs": [
    {
     "data": {
      "text/plain": [
       "True"
      ]
     },
     "execution_count": 33,
     "metadata": {
      "tags": []
     },
     "output_type": "execute_result"
    }
   ],
   "source": [
    "phaST.LZ76decoder(z) == first_500_bp_aug"
   ]
  }
 ],
 "metadata": {
  "colab": {
   "collapsed_sections": [],
   "name": "LZ-Genomics.ipynb",
   "provenance": []
  },
  "kernelspec": {
   "display_name": "Python [default]",
   "language": "python",
   "name": "python3"
  },
  "language_info": {
   "codemirror_mode": {
    "name": "ipython",
    "version": 3
   },
   "file_extension": ".py",
   "mimetype": "text/x-python",
   "name": "python",
   "nbconvert_exporter": "python",
   "pygments_lexer": "ipython3",
   "version": "3.6.6"
  },
  "latex_envs": {
   "LaTeX_envs_menu_present": true,
   "autocomplete": false,
   "bibliofile": "biblio.bib",
   "cite_by": "apalike",
   "current_citInitial": 1,
   "eqLabelWithNumbers": false,
   "eqNumInitial": 1,
   "hotkeys": {
    "equation": "Ctrl-E",
    "itemize": "Ctrl-I"
   },
   "labels_anchors": false,
   "latex_user_defs": false,
   "report_style_numbering": false,
   "user_envs_cfg": false
  },
  "toc": {
   "colors": {
    "hover_highlight": "#DAA520",
    "navigate_num": "#000000",
    "navigate_text": "#333333",
    "running_highlight": "#FF0000",
    "selected_highlight": "#FFD700",
    "sidebar_border": "#EEEEEE",
    "wrapper_background": "#FFFFFF"
   },
   "moveMenuLeft": true,
   "nav_menu": {
    "height": "116px",
    "width": "252px"
   },
   "navigate_menu": true,
   "number_sections": true,
   "sideBar": true,
   "threshold": 4,
   "toc_cell": false,
   "toc_section_display": "block",
   "toc_window_display": false,
   "widenNotebook": false
  }
 },
 "nbformat": 4,
 "nbformat_minor": 1
}
